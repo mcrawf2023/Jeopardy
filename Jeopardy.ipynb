{
  "cells": [
    {
      "cell_type": "markdown",
      "metadata": {
        "id": "view-in-github",
        "colab_type": "text"
      },
      "source": [
        "<a href=\"https://colab.research.google.com/github/mcrawf2023/Jeopardy/blob/main/Jeopardy.ipynb\" target=\"_parent\"><img src=\"https://colab.research.google.com/assets/colab-badge.svg\" alt=\"Open In Colab\"/></a>"
      ]
    },
    {
      "cell_type": "markdown",
      "metadata": {
        "id": "KxBzEZH14P2J"
      },
      "source": [
        "# Unstructured Data Analysis\n",
        "## Jeopardy Questions Dataset\n",
        "### Jules Capaldo, Peter Christie, Megan Crawford, Clarinsa Djaja"
      ]
    },
    {
      "cell_type": "markdown",
      "metadata": {
        "id": "VVNFpMDc4mlW"
      },
      "source": [
        "#### Set Up"
      ]
    },
    {
      "cell_type": "code",
      "execution_count": null,
      "metadata": {
        "id": "z3xVGne_woOf"
      },
      "outputs": [],
      "source": [
        "import pandas as pd\n",
        "import numpy as np\n",
        "import nltk\n",
        "from nltk import FreqDist\n",
        "from nltk.tokenize import sent_tokenize, word_tokenize\n",
        "import matplotlib.pyplot as plt"
      ]
    },
    {
      "cell_type": "code",
      "execution_count": null,
      "metadata": {
        "colab": {
          "base_uri": "https://localhost:8080/"
        },
        "id": "xyRFCCmm9kv8",
        "outputId": "e60e940c-c9bc-4a3b-b4cd-f18b85922bf9"
      },
      "outputs": [
        {
          "name": "stdout",
          "output_type": "stream",
          "text": [
            "[nltk_data] Downloading package punkt to /root/nltk_data...\n",
            "[nltk_data]   Unzipping tokenizers/punkt.zip.\n"
          ]
        },
        {
          "data": {
            "text/plain": [
              "True"
            ]
          },
          "execution_count": 2,
          "metadata": {},
          "output_type": "execute_result"
        }
      ],
      "source": [
        "nltk.download('punkt')"
      ]
    },
    {
      "cell_type": "code",
      "execution_count": null,
      "metadata": {
        "colab": {
          "base_uri": "https://localhost:8080/"
        },
        "id": "uFg-8KUgBt6Z",
        "outputId": "18a64b8d-ba81-4391-bae5-2561e65abf4e"
      },
      "outputs": [
        {
          "name": "stdout",
          "output_type": "stream",
          "text": [
            "[nltk_data] Downloading collection 'book'\n",
            "[nltk_data]    | \n",
            "[nltk_data]    | Downloading package abc to /root/nltk_data...\n",
            "[nltk_data]    |   Unzipping corpora/abc.zip.\n",
            "[nltk_data]    | Downloading package brown to /root/nltk_data...\n",
            "[nltk_data]    |   Unzipping corpora/brown.zip.\n",
            "[nltk_data]    | Downloading package chat80 to /root/nltk_data...\n",
            "[nltk_data]    |   Unzipping corpora/chat80.zip.\n",
            "[nltk_data]    | Downloading package cmudict to /root/nltk_data...\n",
            "[nltk_data]    |   Unzipping corpora/cmudict.zip.\n",
            "[nltk_data]    | Downloading package conll2000 to /root/nltk_data...\n",
            "[nltk_data]    |   Unzipping corpora/conll2000.zip.\n",
            "[nltk_data]    | Downloading package conll2002 to /root/nltk_data...\n",
            "[nltk_data]    |   Unzipping corpora/conll2002.zip.\n",
            "[nltk_data]    | Downloading package dependency_treebank to\n",
            "[nltk_data]    |     /root/nltk_data...\n",
            "[nltk_data]    |   Unzipping corpora/dependency_treebank.zip.\n",
            "[nltk_data]    | Downloading package genesis to /root/nltk_data...\n",
            "[nltk_data]    |   Unzipping corpora/genesis.zip.\n",
            "[nltk_data]    | Downloading package gutenberg to /root/nltk_data...\n",
            "[nltk_data]    |   Unzipping corpora/gutenberg.zip.\n",
            "[nltk_data]    | Downloading package ieer to /root/nltk_data...\n",
            "[nltk_data]    |   Unzipping corpora/ieer.zip.\n",
            "[nltk_data]    | Downloading package inaugural to /root/nltk_data...\n",
            "[nltk_data]    |   Unzipping corpora/inaugural.zip.\n",
            "[nltk_data]    | Downloading package movie_reviews to\n",
            "[nltk_data]    |     /root/nltk_data...\n",
            "[nltk_data]    |   Unzipping corpora/movie_reviews.zip.\n",
            "[nltk_data]    | Downloading package nps_chat to /root/nltk_data...\n",
            "[nltk_data]    |   Unzipping corpora/nps_chat.zip.\n",
            "[nltk_data]    | Downloading package names to /root/nltk_data...\n",
            "[nltk_data]    |   Unzipping corpora/names.zip.\n",
            "[nltk_data]    | Downloading package ppattach to /root/nltk_data...\n",
            "[nltk_data]    |   Unzipping corpora/ppattach.zip.\n",
            "[nltk_data]    | Downloading package reuters to /root/nltk_data...\n",
            "[nltk_data]    | Downloading package senseval to /root/nltk_data...\n",
            "[nltk_data]    |   Unzipping corpora/senseval.zip.\n",
            "[nltk_data]    | Downloading package state_union to /root/nltk_data...\n",
            "[nltk_data]    |   Unzipping corpora/state_union.zip.\n",
            "[nltk_data]    | Downloading package stopwords to /root/nltk_data...\n",
            "[nltk_data]    |   Unzipping corpora/stopwords.zip.\n",
            "[nltk_data]    | Downloading package swadesh to /root/nltk_data...\n",
            "[nltk_data]    |   Unzipping corpora/swadesh.zip.\n",
            "[nltk_data]    | Downloading package timit to /root/nltk_data...\n",
            "[nltk_data]    |   Unzipping corpora/timit.zip.\n",
            "[nltk_data]    | Downloading package treebank to /root/nltk_data...\n",
            "[nltk_data]    |   Unzipping corpora/treebank.zip.\n",
            "[nltk_data]    | Downloading package toolbox to /root/nltk_data...\n",
            "[nltk_data]    |   Unzipping corpora/toolbox.zip.\n",
            "[nltk_data]    | Downloading package udhr to /root/nltk_data...\n",
            "[nltk_data]    |   Unzipping corpora/udhr.zip.\n",
            "[nltk_data]    | Downloading package udhr2 to /root/nltk_data...\n",
            "[nltk_data]    |   Unzipping corpora/udhr2.zip.\n",
            "[nltk_data]    | Downloading package unicode_samples to\n",
            "[nltk_data]    |     /root/nltk_data...\n",
            "[nltk_data]    |   Unzipping corpora/unicode_samples.zip.\n",
            "[nltk_data]    | Downloading package webtext to /root/nltk_data...\n",
            "[nltk_data]    |   Unzipping corpora/webtext.zip.\n",
            "[nltk_data]    | Downloading package wordnet to /root/nltk_data...\n",
            "[nltk_data]    |   Unzipping corpora/wordnet.zip.\n",
            "[nltk_data]    | Downloading package wordnet_ic to /root/nltk_data...\n",
            "[nltk_data]    |   Unzipping corpora/wordnet_ic.zip.\n",
            "[nltk_data]    | Downloading package words to /root/nltk_data...\n",
            "[nltk_data]    |   Unzipping corpora/words.zip.\n",
            "[nltk_data]    | Downloading package maxent_treebank_pos_tagger to\n",
            "[nltk_data]    |     /root/nltk_data...\n",
            "[nltk_data]    |   Unzipping taggers/maxent_treebank_pos_tagger.zip.\n",
            "[nltk_data]    | Downloading package maxent_ne_chunker to\n",
            "[nltk_data]    |     /root/nltk_data...\n",
            "[nltk_data]    |   Unzipping chunkers/maxent_ne_chunker.zip.\n",
            "[nltk_data]    | Downloading package universal_tagset to\n",
            "[nltk_data]    |     /root/nltk_data...\n",
            "[nltk_data]    |   Unzipping taggers/universal_tagset.zip.\n",
            "[nltk_data]    | Downloading package punkt to /root/nltk_data...\n",
            "[nltk_data]    |   Package punkt is already up-to-date!\n",
            "[nltk_data]    | Downloading package book_grammars to\n",
            "[nltk_data]    |     /root/nltk_data...\n",
            "[nltk_data]    |   Unzipping grammars/book_grammars.zip.\n",
            "[nltk_data]    | Downloading package city_database to\n",
            "[nltk_data]    |     /root/nltk_data...\n",
            "[nltk_data]    |   Unzipping corpora/city_database.zip.\n",
            "[nltk_data]    | Downloading package tagsets to /root/nltk_data...\n",
            "[nltk_data]    |   Unzipping help/tagsets.zip.\n",
            "[nltk_data]    | Downloading package panlex_swadesh to\n",
            "[nltk_data]    |     /root/nltk_data...\n",
            "[nltk_data]    | Downloading package averaged_perceptron_tagger to\n",
            "[nltk_data]    |     /root/nltk_data...\n",
            "[nltk_data]    |   Unzipping taggers/averaged_perceptron_tagger.zip.\n",
            "[nltk_data]    | \n",
            "[nltk_data]  Done downloading collection book\n"
          ]
        },
        {
          "data": {
            "text/plain": [
              "True"
            ]
          },
          "execution_count": 3,
          "metadata": {},
          "output_type": "execute_result"
        }
      ],
      "source": [
        "nltk.download(\"book\")"
      ]
    },
    {
      "cell_type": "code",
      "execution_count": null,
      "metadata": {
        "id": "5Y4jfBw18_IV"
      },
      "outputs": [],
      "source": [
        "jeopardy_1st_half = pd.read_csv(\"https://raw.githubusercontent.com/peter-christie/uda_jeopardy/main/newer_jeopardy_questions.csv\")"
      ]
    },
    {
      "cell_type": "code",
      "execution_count": null,
      "metadata": {
        "id": "R9OUQz60MKyW"
      },
      "outputs": [],
      "source": [
        "jeopardy_2nd_half = pd.read_csv(\"https://raw.githubusercontent.com/peter-christie/uda_jeopardy/main/older_jeopardy_questions.csv\")"
      ]
    },
    {
      "cell_type": "code",
      "execution_count": null,
      "metadata": {
        "colab": {
          "base_uri": "https://localhost:8080/"
        },
        "id": "ACl_6mrUMlJT",
        "outputId": "7534baa8-2a9b-4c7e-e65b-1cacb13ec39e"
      },
      "outputs": [
        {
          "data": {
            "text/plain": [
              "(101210, 8)"
            ]
          },
          "execution_count": 6,
          "metadata": {},
          "output_type": "execute_result"
        }
      ],
      "source": [
        "jeopardy_1st_half.shape"
      ]
    },
    {
      "cell_type": "code",
      "execution_count": null,
      "metadata": {
        "colab": {
          "base_uri": "https://localhost:8080/"
        },
        "id": "D8DDxtpIM59I",
        "outputId": "706f291e-b86b-4870-cd15-8b45b4124472"
      },
      "outputs": [
        {
          "data": {
            "text/plain": [
              "(101325, 8)"
            ]
          },
          "execution_count": 7,
          "metadata": {},
          "output_type": "execute_result"
        }
      ],
      "source": [
        "jeopardy_2nd_half.shape"
      ]
    },
    {
      "cell_type": "code",
      "execution_count": null,
      "metadata": {
        "id": "zseDZgYS6ne-"
      },
      "outputs": [],
      "source": [
        "jeopardy = pd.concat([jeopardy_1st_half, jeopardy_2nd_half], ignore_index = True)\n"
      ]
    },
    {
      "cell_type": "code",
      "execution_count": null,
      "metadata": {
        "id": "4VBjvNxiWofI"
      },
      "outputs": [],
      "source": [
        "# Clear up memory, data frames no longer needed\n",
        "del(jeopardy_1st_half)\n",
        "del(jeopardy_2nd_half)"
      ]
    },
    {
      "cell_type": "code",
      "execution_count": null,
      "metadata": {
        "colab": {
          "base_uri": "https://localhost:8080/"
        },
        "id": "M3h-enFH60kN",
        "outputId": "a3b098af-9b82-4a81-9d14-db5a3d096174"
      },
      "outputs": [
        {
          "data": {
            "text/plain": [
              "(202535, 8)"
            ]
          },
          "execution_count": 10,
          "metadata": {},
          "output_type": "execute_result"
        }
      ],
      "source": [
        "jeopardy.shape"
      ]
    },
    {
      "cell_type": "code",
      "execution_count": null,
      "metadata": {
        "colab": {
          "base_uri": "https://localhost:8080/",
          "height": 250
        },
        "id": "z8DFHDz5M-jq",
        "outputId": "5876f43d-bbdc-4f86-8471-061c5af60937"
      },
      "outputs": [
        {
          "data": {
            "text/html": [
              "\n",
              "  <div id=\"df-88c10e70-4450-4f30-aa9b-ce561c77072c\">\n",
              "    <div class=\"colab-df-container\">\n",
              "      <div>\n",
              "<style scoped>\n",
              "    .dataframe tbody tr th:only-of-type {\n",
              "        vertical-align: middle;\n",
              "    }\n",
              "\n",
              "    .dataframe tbody tr th {\n",
              "        vertical-align: top;\n",
              "    }\n",
              "\n",
              "    .dataframe thead th {\n",
              "        text-align: right;\n",
              "    }\n",
              "</style>\n",
              "<table border=\"1\" class=\"dataframe\">\n",
              "  <thead>\n",
              "    <tr style=\"text-align: right;\">\n",
              "      <th></th>\n",
              "      <th>Unnamed: 0</th>\n",
              "      <th>Show.Number</th>\n",
              "      <th>Air.Date</th>\n",
              "      <th>Round</th>\n",
              "      <th>Category</th>\n",
              "      <th>Value</th>\n",
              "      <th>Question</th>\n",
              "      <th>Answer</th>\n",
              "    </tr>\n",
              "  </thead>\n",
              "  <tbody>\n",
              "    <tr>\n",
              "      <th>0</th>\n",
              "      <td>1</td>\n",
              "      <td>5728</td>\n",
              "      <td>7/1/09</td>\n",
              "      <td>Double Jeopardy!</td>\n",
              "      <td>STOCK SYMBOL-IC</td>\n",
              "      <td>$400</td>\n",
              "      <td>ZZ is the snooze of a symbol for this Posturep...</td>\n",
              "      <td>Sealy</td>\n",
              "    </tr>\n",
              "    <tr>\n",
              "      <th>1</th>\n",
              "      <td>2</td>\n",
              "      <td>5339</td>\n",
              "      <td>11/22/07</td>\n",
              "      <td>Double Jeopardy!</td>\n",
              "      <td>THE SCIENCE OF LIQUOR</td>\n",
              "      <td>$1,200</td>\n",
              "      <td>Zymurgy is the chemistry branch that deals wit...</td>\n",
              "      <td>fermentation</td>\n",
              "    </tr>\n",
              "    <tr>\n",
              "      <th>2</th>\n",
              "      <td>3</td>\n",
              "      <td>5152</td>\n",
              "      <td>1/23/07</td>\n",
              "      <td>Jeopardy!</td>\n",
              "      <td>LIP GLOSS</td>\n",
              "      <td>$1,000</td>\n",
              "      <td>Zyderm &amp; Zyplast are types of these injections...</td>\n",
              "      <td>collagen injections</td>\n",
              "    </tr>\n",
              "    <tr>\n",
              "      <th>3</th>\n",
              "      <td>4</td>\n",
              "      <td>4648</td>\n",
              "      <td>11/17/04</td>\n",
              "      <td>Double Jeopardy!</td>\n",
              "      <td>TOOLS OF THE TRADE</td>\n",
              "      <td>$400</td>\n",
              "      <td>Zwilling J. A. Henckels will sell the aspiring...</td>\n",
              "      <td>knives</td>\n",
              "    </tr>\n",
              "    <tr>\n",
              "      <th>4</th>\n",
              "      <td>5</td>\n",
              "      <td>4564</td>\n",
              "      <td>6/10/04</td>\n",
              "      <td>Double Jeopardy!</td>\n",
              "      <td>JUNE BUGGED</td>\n",
              "      <td>$400</td>\n",
              "      <td>Zut! On June 22, 1815, 4 days after Waterloo, ...</td>\n",
              "      <td>abdicate</td>\n",
              "    </tr>\n",
              "  </tbody>\n",
              "</table>\n",
              "</div>\n",
              "      <button class=\"colab-df-convert\" onclick=\"convertToInteractive('df-88c10e70-4450-4f30-aa9b-ce561c77072c')\"\n",
              "              title=\"Convert this dataframe to an interactive table.\"\n",
              "              style=\"display:none;\">\n",
              "        \n",
              "  <svg xmlns=\"http://www.w3.org/2000/svg\" height=\"24px\"viewBox=\"0 0 24 24\"\n",
              "       width=\"24px\">\n",
              "    <path d=\"M0 0h24v24H0V0z\" fill=\"none\"/>\n",
              "    <path d=\"M18.56 5.44l.94 2.06.94-2.06 2.06-.94-2.06-.94-.94-2.06-.94 2.06-2.06.94zm-11 1L8.5 8.5l.94-2.06 2.06-.94-2.06-.94L8.5 2.5l-.94 2.06-2.06.94zm10 10l.94 2.06.94-2.06 2.06-.94-2.06-.94-.94-2.06-.94 2.06-2.06.94z\"/><path d=\"M17.41 7.96l-1.37-1.37c-.4-.4-.92-.59-1.43-.59-.52 0-1.04.2-1.43.59L10.3 9.45l-7.72 7.72c-.78.78-.78 2.05 0 2.83L4 21.41c.39.39.9.59 1.41.59.51 0 1.02-.2 1.41-.59l7.78-7.78 2.81-2.81c.8-.78.8-2.07 0-2.86zM5.41 20L4 18.59l7.72-7.72 1.47 1.35L5.41 20z\"/>\n",
              "  </svg>\n",
              "      </button>\n",
              "      \n",
              "  <style>\n",
              "    .colab-df-container {\n",
              "      display:flex;\n",
              "      flex-wrap:wrap;\n",
              "      gap: 12px;\n",
              "    }\n",
              "\n",
              "    .colab-df-convert {\n",
              "      background-color: #E8F0FE;\n",
              "      border: none;\n",
              "      border-radius: 50%;\n",
              "      cursor: pointer;\n",
              "      display: none;\n",
              "      fill: #1967D2;\n",
              "      height: 32px;\n",
              "      padding: 0 0 0 0;\n",
              "      width: 32px;\n",
              "    }\n",
              "\n",
              "    .colab-df-convert:hover {\n",
              "      background-color: #E2EBFA;\n",
              "      box-shadow: 0px 1px 2px rgba(60, 64, 67, 0.3), 0px 1px 3px 1px rgba(60, 64, 67, 0.15);\n",
              "      fill: #174EA6;\n",
              "    }\n",
              "\n",
              "    [theme=dark] .colab-df-convert {\n",
              "      background-color: #3B4455;\n",
              "      fill: #D2E3FC;\n",
              "    }\n",
              "\n",
              "    [theme=dark] .colab-df-convert:hover {\n",
              "      background-color: #434B5C;\n",
              "      box-shadow: 0px 1px 3px 1px rgba(0, 0, 0, 0.15);\n",
              "      filter: drop-shadow(0px 1px 2px rgba(0, 0, 0, 0.3));\n",
              "      fill: #FFFFFF;\n",
              "    }\n",
              "  </style>\n",
              "\n",
              "      <script>\n",
              "        const buttonEl =\n",
              "          document.querySelector('#df-88c10e70-4450-4f30-aa9b-ce561c77072c button.colab-df-convert');\n",
              "        buttonEl.style.display =\n",
              "          google.colab.kernel.accessAllowed ? 'block' : 'none';\n",
              "\n",
              "        async function convertToInteractive(key) {\n",
              "          const element = document.querySelector('#df-88c10e70-4450-4f30-aa9b-ce561c77072c');\n",
              "          const dataTable =\n",
              "            await google.colab.kernel.invokeFunction('convertToInteractive',\n",
              "                                                     [key], {});\n",
              "          if (!dataTable) return;\n",
              "\n",
              "          const docLinkHtml = 'Like what you see? Visit the ' +\n",
              "            '<a target=\"_blank\" href=https://colab.research.google.com/notebooks/data_table.ipynb>data table notebook</a>'\n",
              "            + ' to learn more about interactive tables.';\n",
              "          element.innerHTML = '';\n",
              "          dataTable['output_type'] = 'display_data';\n",
              "          await google.colab.output.renderOutput(dataTable, element);\n",
              "          const docLink = document.createElement('div');\n",
              "          docLink.innerHTML = docLinkHtml;\n",
              "          element.appendChild(docLink);\n",
              "        }\n",
              "      </script>\n",
              "    </div>\n",
              "  </div>\n",
              "  "
            ],
            "text/plain": [
              "   Unnamed: 0  Show.Number  Air.Date             Round               Category  \\\n",
              "0           1         5728    7/1/09  Double Jeopardy!        STOCK SYMBOL-IC   \n",
              "1           2         5339  11/22/07  Double Jeopardy!  THE SCIENCE OF LIQUOR   \n",
              "2           3         5152   1/23/07         Jeopardy!              LIP GLOSS   \n",
              "3           4         4648  11/17/04  Double Jeopardy!     TOOLS OF THE TRADE   \n",
              "4           5         4564   6/10/04  Double Jeopardy!            JUNE BUGGED   \n",
              "\n",
              "     Value                                           Question  \\\n",
              "0    $400   ZZ is the snooze of a symbol for this Posturep...   \n",
              "1  $1,200   Zymurgy is the chemistry branch that deals wit...   \n",
              "2  $1,000   Zyderm & Zyplast are types of these injections...   \n",
              "3    $400   Zwilling J. A. Henckels will sell the aspiring...   \n",
              "4    $400   Zut! On June 22, 1815, 4 days after Waterloo, ...   \n",
              "\n",
              "                Answer  \n",
              "0                Sealy  \n",
              "1         fermentation  \n",
              "2  collagen injections  \n",
              "3               knives  \n",
              "4             abdicate  "
            ]
          },
          "execution_count": 11,
          "metadata": {},
          "output_type": "execute_result"
        }
      ],
      "source": [
        "jeopardy.head()"
      ]
    },
    {
      "cell_type": "code",
      "execution_count": null,
      "metadata": {
        "id": "ehsPocIYNHBt"
      },
      "outputs": [],
      "source": [
        "jeopardy.drop([\"Unnamed: 0\"], axis = 1, inplace = True)"
      ]
    },
    {
      "cell_type": "code",
      "execution_count": null,
      "metadata": {
        "colab": {
          "base_uri": "https://localhost:8080/",
          "height": 206
        },
        "id": "qRxkB2BuNol-",
        "outputId": "8acd029f-bd87-4963-f49c-7fc8f1c71f9e"
      },
      "outputs": [
        {
          "data": {
            "text/html": [
              "\n",
              "  <div id=\"df-c0a4de49-b34b-453a-91be-a0fdc199dcc5\">\n",
              "    <div class=\"colab-df-container\">\n",
              "      <div>\n",
              "<style scoped>\n",
              "    .dataframe tbody tr th:only-of-type {\n",
              "        vertical-align: middle;\n",
              "    }\n",
              "\n",
              "    .dataframe tbody tr th {\n",
              "        vertical-align: top;\n",
              "    }\n",
              "\n",
              "    .dataframe thead th {\n",
              "        text-align: right;\n",
              "    }\n",
              "</style>\n",
              "<table border=\"1\" class=\"dataframe\">\n",
              "  <thead>\n",
              "    <tr style=\"text-align: right;\">\n",
              "      <th></th>\n",
              "      <th>Show.Number</th>\n",
              "      <th>Air.Date</th>\n",
              "      <th>Round</th>\n",
              "      <th>Category</th>\n",
              "      <th>Value</th>\n",
              "      <th>Question</th>\n",
              "      <th>Answer</th>\n",
              "    </tr>\n",
              "  </thead>\n",
              "  <tbody>\n",
              "    <tr>\n",
              "      <th>0</th>\n",
              "      <td>5728</td>\n",
              "      <td>7/1/09</td>\n",
              "      <td>Double Jeopardy!</td>\n",
              "      <td>STOCK SYMBOL-IC</td>\n",
              "      <td>$400</td>\n",
              "      <td>ZZ is the snooze of a symbol for this Posturep...</td>\n",
              "      <td>Sealy</td>\n",
              "    </tr>\n",
              "    <tr>\n",
              "      <th>1</th>\n",
              "      <td>5339</td>\n",
              "      <td>11/22/07</td>\n",
              "      <td>Double Jeopardy!</td>\n",
              "      <td>THE SCIENCE OF LIQUOR</td>\n",
              "      <td>$1,200</td>\n",
              "      <td>Zymurgy is the chemistry branch that deals wit...</td>\n",
              "      <td>fermentation</td>\n",
              "    </tr>\n",
              "    <tr>\n",
              "      <th>2</th>\n",
              "      <td>5152</td>\n",
              "      <td>1/23/07</td>\n",
              "      <td>Jeopardy!</td>\n",
              "      <td>LIP GLOSS</td>\n",
              "      <td>$1,000</td>\n",
              "      <td>Zyderm &amp; Zyplast are types of these injections...</td>\n",
              "      <td>collagen injections</td>\n",
              "    </tr>\n",
              "    <tr>\n",
              "      <th>3</th>\n",
              "      <td>4648</td>\n",
              "      <td>11/17/04</td>\n",
              "      <td>Double Jeopardy!</td>\n",
              "      <td>TOOLS OF THE TRADE</td>\n",
              "      <td>$400</td>\n",
              "      <td>Zwilling J. A. Henckels will sell the aspiring...</td>\n",
              "      <td>knives</td>\n",
              "    </tr>\n",
              "    <tr>\n",
              "      <th>4</th>\n",
              "      <td>4564</td>\n",
              "      <td>6/10/04</td>\n",
              "      <td>Double Jeopardy!</td>\n",
              "      <td>JUNE BUGGED</td>\n",
              "      <td>$400</td>\n",
              "      <td>Zut! On June 22, 1815, 4 days after Waterloo, ...</td>\n",
              "      <td>abdicate</td>\n",
              "    </tr>\n",
              "  </tbody>\n",
              "</table>\n",
              "</div>\n",
              "      <button class=\"colab-df-convert\" onclick=\"convertToInteractive('df-c0a4de49-b34b-453a-91be-a0fdc199dcc5')\"\n",
              "              title=\"Convert this dataframe to an interactive table.\"\n",
              "              style=\"display:none;\">\n",
              "        \n",
              "  <svg xmlns=\"http://www.w3.org/2000/svg\" height=\"24px\"viewBox=\"0 0 24 24\"\n",
              "       width=\"24px\">\n",
              "    <path d=\"M0 0h24v24H0V0z\" fill=\"none\"/>\n",
              "    <path d=\"M18.56 5.44l.94 2.06.94-2.06 2.06-.94-2.06-.94-.94-2.06-.94 2.06-2.06.94zm-11 1L8.5 8.5l.94-2.06 2.06-.94-2.06-.94L8.5 2.5l-.94 2.06-2.06.94zm10 10l.94 2.06.94-2.06 2.06-.94-2.06-.94-.94-2.06-.94 2.06-2.06.94z\"/><path d=\"M17.41 7.96l-1.37-1.37c-.4-.4-.92-.59-1.43-.59-.52 0-1.04.2-1.43.59L10.3 9.45l-7.72 7.72c-.78.78-.78 2.05 0 2.83L4 21.41c.39.39.9.59 1.41.59.51 0 1.02-.2 1.41-.59l7.78-7.78 2.81-2.81c.8-.78.8-2.07 0-2.86zM5.41 20L4 18.59l7.72-7.72 1.47 1.35L5.41 20z\"/>\n",
              "  </svg>\n",
              "      </button>\n",
              "      \n",
              "  <style>\n",
              "    .colab-df-container {\n",
              "      display:flex;\n",
              "      flex-wrap:wrap;\n",
              "      gap: 12px;\n",
              "    }\n",
              "\n",
              "    .colab-df-convert {\n",
              "      background-color: #E8F0FE;\n",
              "      border: none;\n",
              "      border-radius: 50%;\n",
              "      cursor: pointer;\n",
              "      display: none;\n",
              "      fill: #1967D2;\n",
              "      height: 32px;\n",
              "      padding: 0 0 0 0;\n",
              "      width: 32px;\n",
              "    }\n",
              "\n",
              "    .colab-df-convert:hover {\n",
              "      background-color: #E2EBFA;\n",
              "      box-shadow: 0px 1px 2px rgba(60, 64, 67, 0.3), 0px 1px 3px 1px rgba(60, 64, 67, 0.15);\n",
              "      fill: #174EA6;\n",
              "    }\n",
              "\n",
              "    [theme=dark] .colab-df-convert {\n",
              "      background-color: #3B4455;\n",
              "      fill: #D2E3FC;\n",
              "    }\n",
              "\n",
              "    [theme=dark] .colab-df-convert:hover {\n",
              "      background-color: #434B5C;\n",
              "      box-shadow: 0px 1px 3px 1px rgba(0, 0, 0, 0.15);\n",
              "      filter: drop-shadow(0px 1px 2px rgba(0, 0, 0, 0.3));\n",
              "      fill: #FFFFFF;\n",
              "    }\n",
              "  </style>\n",
              "\n",
              "      <script>\n",
              "        const buttonEl =\n",
              "          document.querySelector('#df-c0a4de49-b34b-453a-91be-a0fdc199dcc5 button.colab-df-convert');\n",
              "        buttonEl.style.display =\n",
              "          google.colab.kernel.accessAllowed ? 'block' : 'none';\n",
              "\n",
              "        async function convertToInteractive(key) {\n",
              "          const element = document.querySelector('#df-c0a4de49-b34b-453a-91be-a0fdc199dcc5');\n",
              "          const dataTable =\n",
              "            await google.colab.kernel.invokeFunction('convertToInteractive',\n",
              "                                                     [key], {});\n",
              "          if (!dataTable) return;\n",
              "\n",
              "          const docLinkHtml = 'Like what you see? Visit the ' +\n",
              "            '<a target=\"_blank\" href=https://colab.research.google.com/notebooks/data_table.ipynb>data table notebook</a>'\n",
              "            + ' to learn more about interactive tables.';\n",
              "          element.innerHTML = '';\n",
              "          dataTable['output_type'] = 'display_data';\n",
              "          await google.colab.output.renderOutput(dataTable, element);\n",
              "          const docLink = document.createElement('div');\n",
              "          docLink.innerHTML = docLinkHtml;\n",
              "          element.appendChild(docLink);\n",
              "        }\n",
              "      </script>\n",
              "    </div>\n",
              "  </div>\n",
              "  "
            ],
            "text/plain": [
              "   Show.Number  Air.Date             Round               Category    Value  \\\n",
              "0         5728    7/1/09  Double Jeopardy!        STOCK SYMBOL-IC    $400    \n",
              "1         5339  11/22/07  Double Jeopardy!  THE SCIENCE OF LIQUOR  $1,200    \n",
              "2         5152   1/23/07         Jeopardy!              LIP GLOSS  $1,000    \n",
              "3         4648  11/17/04  Double Jeopardy!     TOOLS OF THE TRADE    $400    \n",
              "4         4564   6/10/04  Double Jeopardy!            JUNE BUGGED    $400    \n",
              "\n",
              "                                            Question               Answer  \n",
              "0  ZZ is the snooze of a symbol for this Posturep...                Sealy  \n",
              "1  Zymurgy is the chemistry branch that deals wit...         fermentation  \n",
              "2  Zyderm & Zyplast are types of these injections...  collagen injections  \n",
              "3  Zwilling J. A. Henckels will sell the aspiring...               knives  \n",
              "4  Zut! On June 22, 1815, 4 days after Waterloo, ...             abdicate  "
            ]
          },
          "execution_count": 13,
          "metadata": {},
          "output_type": "execute_result"
        }
      ],
      "source": [
        "jeopardy.head()"
      ]
    },
    {
      "cell_type": "code",
      "execution_count": null,
      "metadata": {
        "colab": {
          "base_uri": "https://localhost:8080/"
        },
        "id": "yz8sl8vSXbqH",
        "outputId": "bcf4e217-a521-491d-9cfc-c1d41e454cb1"
      },
      "outputs": [
        {
          "data": {
            "text/plain": [
              "Jeopardy!           102301\n",
              "Double Jeopardy!    100234\n",
              "Name: Round, dtype: int64"
            ]
          },
          "execution_count": 14,
          "metadata": {},
          "output_type": "execute_result"
        }
      ],
      "source": [
        "jeopardy['Round'].value_counts()"
      ]
    },
    {
      "cell_type": "code",
      "execution_count": null,
      "metadata": {
        "colab": {
          "base_uri": "https://localhost:8080/"
        },
        "id": "7bQkg5du8-2e",
        "outputId": "6acb4fe1-77ff-4fb0-cd83-c167546e8e4b"
      },
      "outputs": [
        {
          "data": {
            "text/plain": [
              "Show.Number     int64\n",
              "Air.Date       object\n",
              "Round          object\n",
              "Category       object\n",
              "Value          object\n",
              "Question       object\n",
              "Answer         object\n",
              "dtype: object"
            ]
          },
          "execution_count": 15,
          "metadata": {},
          "output_type": "execute_result"
        }
      ],
      "source": [
        "jeopardy.dtypes"
      ]
    },
    {
      "cell_type": "code",
      "execution_count": null,
      "metadata": {
        "id": "KTxgCUBAQKZc"
      },
      "outputs": [],
      "source": [
        "#jeopardy['Question'] = jeopardy['Question'].apply(word_tokenize)"
      ]
    },
    {
      "cell_type": "code",
      "execution_count": null,
      "metadata": {
        "id": "vWi3fdl06CVY"
      },
      "outputs": [],
      "source": [
        "%matplotlib inline"
      ]
    },
    {
      "cell_type": "markdown",
      "metadata": {
        "id": "eI1hCdQZ4Co_"
      },
      "source": [
        "#### Top Categories"
      ]
    },
    {
      "cell_type": "code",
      "execution_count": null,
      "metadata": {
        "id": "CEXNbi5w6FY7"
      },
      "outputs": [],
      "source": [
        "category_type = jeopardy['Category'].value_counts()\n",
        "\n",
        "#category_type"
      ]
    },
    {
      "cell_type": "code",
      "execution_count": null,
      "metadata": {
        "colab": {
          "base_uri": "https://localhost:8080/"
        },
        "id": "0Um1Sy7cZjhQ",
        "outputId": "7145752a-c1d3-4588-b517-e838290fb1a1"
      },
      "outputs": [
        {
          "name": "stdout",
          "output_type": "stream",
          "text": [
            "The top ten categories overall are: \n"
          ]
        },
        {
          "data": {
            "text/plain": [
              "BEFORE & AFTER             545\n",
              "LITERATURE                 480\n",
              "SCIENCE                    469\n",
              "AMERICAN HISTORY           396\n",
              "POTPOURRI                  383\n",
              "WORLD HISTORY              363\n",
              "HISTORY                    347\n",
              "COLLEGES & UNIVERSITIES    342\n",
              "SPORTS                     332\n",
              "WORD ORIGINS               331\n",
              "Name: Category, dtype: int64"
            ]
          },
          "execution_count": 19,
          "metadata": {},
          "output_type": "execute_result"
        }
      ],
      "source": [
        "print(\"The top ten categories overall are: \")\n",
        "category_type[0:10]"
      ]
    },
    {
      "cell_type": "code",
      "execution_count": null,
      "metadata": {
        "id": "cbm2FQvsW5Cy"
      },
      "outputs": [],
      "source": [
        "category_type_r1 = jeopardy[jeopardy['Round'] == 'Jeopardy!']['Category'].value_counts()\n",
        "\n",
        "#category_type_r1"
      ]
    },
    {
      "cell_type": "code",
      "execution_count": null,
      "metadata": {
        "colab": {
          "base_uri": "https://localhost:8080/"
        },
        "id": "_x3EwRKUZYuP",
        "outputId": "9425fb59-8428-4a86-b6c3-c32916646fe2"
      },
      "outputs": [
        {
          "name": "stdout",
          "output_type": "stream",
          "text": [
            "The top ten categories for the 'Jeopardy!' round are: \n"
          ]
        },
        {
          "data": {
            "text/plain": [
              "SPORTS                 252\n",
              "POTPOURRI              245\n",
              "STUPID ANSWERS         242\n",
              "ANIMALS                224\n",
              "AMERICAN HISTORY       223\n",
              "STATE CAPITALS         207\n",
              "SCIENCE                205\n",
              "TELEVISION             196\n",
              "U.S. CITIES            192\n",
              "BUSINESS & INDUSTRY    184\n",
              "Name: Category, dtype: int64"
            ]
          },
          "execution_count": 21,
          "metadata": {},
          "output_type": "execute_result"
        }
      ],
      "source": [
        "print(\"The top ten categories for the 'Jeopardy!' round are: \")\n",
        "category_type_r1[0:10]"
      ]
    },
    {
      "cell_type": "code",
      "execution_count": null,
      "metadata": {
        "id": "z8dL6TiQYtKZ"
      },
      "outputs": [],
      "source": [
        "category_type_r2 = jeopardy[jeopardy['Round'] == 'Double Jeopardy!']['Category'].value_counts()\n",
        "\n",
        "#category_type_r2"
      ]
    },
    {
      "cell_type": "code",
      "execution_count": null,
      "metadata": {
        "colab": {
          "base_uri": "https://localhost:8080/"
        },
        "id": "GRNPFcCYZIGJ",
        "outputId": "853dbde9-d1eb-4997-e395-3e11d3d24187"
      },
      "outputs": [
        {
          "name": "stdout",
          "output_type": "stream",
          "text": [
            "The top ten categories for the 'Double Jeopardy!' round are: \n"
          ]
        },
        {
          "data": {
            "text/plain": [
              "BEFORE & AFTER             448\n",
              "LITERATURE                 377\n",
              "SCIENCE                    264\n",
              "WORLD GEOGRAPHY            251\n",
              "OPERA                      247\n",
              "WORLD HISTORY              236\n",
              "BALLET                     230\n",
              "COLLEGES & UNIVERSITIES    217\n",
              "SHAKESPEARE                210\n",
              "ISLANDS                    208\n",
              "Name: Category, dtype: int64"
            ]
          },
          "execution_count": 23,
          "metadata": {},
          "output_type": "execute_result"
        }
      ],
      "source": [
        "print(\"The top ten categories for the 'Double Jeopardy!' round are: \")\n",
        "category_type_r2[0:10]"
      ]
    },
    {
      "cell_type": "code",
      "execution_count": null,
      "metadata": {
        "id": "BF9WUogZ8F0P"
      },
      "outputs": [],
      "source": [
        "running_total = np.cumsum(category_type)\n",
        "running_total = pd.DataFrame(running_total)\n",
        "running_total = running_total.reset_index()"
      ]
    },
    {
      "cell_type": "code",
      "execution_count": null,
      "metadata": {
        "colab": {
          "base_uri": "https://localhost:8080/",
          "height": 206
        },
        "id": "6kjRaNAKAV_B",
        "outputId": "d48c25a8-8686-4b6c-caa8-3f8cfb545007"
      },
      "outputs": [
        {
          "data": {
            "text/html": [
              "\n",
              "  <div id=\"df-54b65a1f-2da7-4461-8b85-478a902c3a6c\">\n",
              "    <div class=\"colab-df-container\">\n",
              "      <div>\n",
              "<style scoped>\n",
              "    .dataframe tbody tr th:only-of-type {\n",
              "        vertical-align: middle;\n",
              "    }\n",
              "\n",
              "    .dataframe tbody tr th {\n",
              "        vertical-align: top;\n",
              "    }\n",
              "\n",
              "    .dataframe thead th {\n",
              "        text-align: right;\n",
              "    }\n",
              "</style>\n",
              "<table border=\"1\" class=\"dataframe\">\n",
              "  <thead>\n",
              "    <tr style=\"text-align: right;\">\n",
              "      <th></th>\n",
              "      <th>index</th>\n",
              "      <th>Category</th>\n",
              "    </tr>\n",
              "  </thead>\n",
              "  <tbody>\n",
              "    <tr>\n",
              "      <th>0</th>\n",
              "      <td>BEFORE &amp; AFTER</td>\n",
              "      <td>545</td>\n",
              "    </tr>\n",
              "    <tr>\n",
              "      <th>1</th>\n",
              "      <td>LITERATURE</td>\n",
              "      <td>1025</td>\n",
              "    </tr>\n",
              "    <tr>\n",
              "      <th>2</th>\n",
              "      <td>SCIENCE</td>\n",
              "      <td>1494</td>\n",
              "    </tr>\n",
              "    <tr>\n",
              "      <th>3</th>\n",
              "      <td>AMERICAN HISTORY</td>\n",
              "      <td>1890</td>\n",
              "    </tr>\n",
              "    <tr>\n",
              "      <th>4</th>\n",
              "      <td>POTPOURRI</td>\n",
              "      <td>2273</td>\n",
              "    </tr>\n",
              "  </tbody>\n",
              "</table>\n",
              "</div>\n",
              "      <button class=\"colab-df-convert\" onclick=\"convertToInteractive('df-54b65a1f-2da7-4461-8b85-478a902c3a6c')\"\n",
              "              title=\"Convert this dataframe to an interactive table.\"\n",
              "              style=\"display:none;\">\n",
              "        \n",
              "  <svg xmlns=\"http://www.w3.org/2000/svg\" height=\"24px\"viewBox=\"0 0 24 24\"\n",
              "       width=\"24px\">\n",
              "    <path d=\"M0 0h24v24H0V0z\" fill=\"none\"/>\n",
              "    <path d=\"M18.56 5.44l.94 2.06.94-2.06 2.06-.94-2.06-.94-.94-2.06-.94 2.06-2.06.94zm-11 1L8.5 8.5l.94-2.06 2.06-.94-2.06-.94L8.5 2.5l-.94 2.06-2.06.94zm10 10l.94 2.06.94-2.06 2.06-.94-2.06-.94-.94-2.06-.94 2.06-2.06.94z\"/><path d=\"M17.41 7.96l-1.37-1.37c-.4-.4-.92-.59-1.43-.59-.52 0-1.04.2-1.43.59L10.3 9.45l-7.72 7.72c-.78.78-.78 2.05 0 2.83L4 21.41c.39.39.9.59 1.41.59.51 0 1.02-.2 1.41-.59l7.78-7.78 2.81-2.81c.8-.78.8-2.07 0-2.86zM5.41 20L4 18.59l7.72-7.72 1.47 1.35L5.41 20z\"/>\n",
              "  </svg>\n",
              "      </button>\n",
              "      \n",
              "  <style>\n",
              "    .colab-df-container {\n",
              "      display:flex;\n",
              "      flex-wrap:wrap;\n",
              "      gap: 12px;\n",
              "    }\n",
              "\n",
              "    .colab-df-convert {\n",
              "      background-color: #E8F0FE;\n",
              "      border: none;\n",
              "      border-radius: 50%;\n",
              "      cursor: pointer;\n",
              "      display: none;\n",
              "      fill: #1967D2;\n",
              "      height: 32px;\n",
              "      padding: 0 0 0 0;\n",
              "      width: 32px;\n",
              "    }\n",
              "\n",
              "    .colab-df-convert:hover {\n",
              "      background-color: #E2EBFA;\n",
              "      box-shadow: 0px 1px 2px rgba(60, 64, 67, 0.3), 0px 1px 3px 1px rgba(60, 64, 67, 0.15);\n",
              "      fill: #174EA6;\n",
              "    }\n",
              "\n",
              "    [theme=dark] .colab-df-convert {\n",
              "      background-color: #3B4455;\n",
              "      fill: #D2E3FC;\n",
              "    }\n",
              "\n",
              "    [theme=dark] .colab-df-convert:hover {\n",
              "      background-color: #434B5C;\n",
              "      box-shadow: 0px 1px 3px 1px rgba(0, 0, 0, 0.15);\n",
              "      filter: drop-shadow(0px 1px 2px rgba(0, 0, 0, 0.3));\n",
              "      fill: #FFFFFF;\n",
              "    }\n",
              "  </style>\n",
              "\n",
              "      <script>\n",
              "        const buttonEl =\n",
              "          document.querySelector('#df-54b65a1f-2da7-4461-8b85-478a902c3a6c button.colab-df-convert');\n",
              "        buttonEl.style.display =\n",
              "          google.colab.kernel.accessAllowed ? 'block' : 'none';\n",
              "\n",
              "        async function convertToInteractive(key) {\n",
              "          const element = document.querySelector('#df-54b65a1f-2da7-4461-8b85-478a902c3a6c');\n",
              "          const dataTable =\n",
              "            await google.colab.kernel.invokeFunction('convertToInteractive',\n",
              "                                                     [key], {});\n",
              "          if (!dataTable) return;\n",
              "\n",
              "          const docLinkHtml = 'Like what you see? Visit the ' +\n",
              "            '<a target=\"_blank\" href=https://colab.research.google.com/notebooks/data_table.ipynb>data table notebook</a>'\n",
              "            + ' to learn more about interactive tables.';\n",
              "          element.innerHTML = '';\n",
              "          dataTable['output_type'] = 'display_data';\n",
              "          await google.colab.output.renderOutput(dataTable, element);\n",
              "          const docLink = document.createElement('div');\n",
              "          docLink.innerHTML = docLinkHtml;\n",
              "          element.appendChild(docLink);\n",
              "        }\n",
              "      </script>\n",
              "    </div>\n",
              "  </div>\n",
              "  "
            ],
            "text/plain": [
              "              index  Category\n",
              "0    BEFORE & AFTER       545\n",
              "1        LITERATURE      1025\n",
              "2           SCIENCE      1494\n",
              "3  AMERICAN HISTORY      1890\n",
              "4         POTPOURRI      2273"
            ]
          },
          "execution_count": 25,
          "metadata": {},
          "output_type": "execute_result"
        }
      ],
      "source": [
        "running_total.head()"
      ]
    },
    {
      "cell_type": "code",
      "execution_count": null,
      "metadata": {
        "colab": {
          "base_uri": "https://localhost:8080/"
        },
        "id": "ZmOnWznE9KrL",
        "outputId": "3ee3bd87-017f-4b1f-c80d-87a49434546e"
      },
      "outputs": [
        {
          "data": {
            "text/plain": [
              "(26276, 2)"
            ]
          },
          "execution_count": 26,
          "metadata": {},
          "output_type": "execute_result"
        }
      ],
      "source": [
        "running_total.shape"
      ]
    },
    {
      "cell_type": "code",
      "execution_count": null,
      "metadata": {
        "colab": {
          "base_uri": "https://localhost:8080/",
          "height": 282
        },
        "id": "eIQdo4RJ8SiT",
        "outputId": "02964eae-26fa-4bd2-c548-e78d75b5d355"
      },
      "outputs": [
        {
          "data": {
            "text/plain": [
              "<matplotlib.axes._subplots.AxesSubplot at 0x7f48fe0348d0>"
            ]
          },
          "execution_count": 27,
          "metadata": {},
          "output_type": "execute_result"
        },
        {
          "data": {
            "image/png": "[encoded data removed]",
            "text/plain": [
              "<Figure size 432x288 with 1 Axes>"
            ]
          },
          "metadata": {},
          "output_type": "display_data"
        }
      ],
      "source": [
        "figure, axes = plt.subplots()\n",
        "\n",
        "running_total.plot(ax = axes, kind='line', color = 'blue')\n"
      ]
    },
    {
      "cell_type": "markdown",
      "metadata": {
        "id": "X_LaqPkg-wpl"
      },
      "source": [
        "Here we can see that there are approximately 200,000 questions in the data set. The graph above shows the running total of questions grouped by the category type. Based on this we can see that relatively few categories account for a disproportionate number of questions. For example, 50,000 questions are taken from only about 575 different categories. Given that there are over 25,000 unique categories we will reduce our data set to only the categories that appear the most frequently."
      ]
    },
    {
      "cell_type": "code",
      "execution_count": null,
      "metadata": {
        "id": "bW4yXloiCt1i"
      },
      "outputs": [],
      "source": [
        "# Select only the top 100 categories\n",
        "category_type = category_type[0:100]"
      ]
    },
    {
      "cell_type": "code",
      "execution_count": null,
      "metadata": {
        "id": "8YgNJ-JmDBnd"
      },
      "outputs": [],
      "source": [
        "common_categories = list(category_type.index)\n",
        "## Create top lists for each round"
      ]
    },
    {
      "cell_type": "code",
      "execution_count": null,
      "metadata": {
        "colab": {
          "base_uri": "https://localhost:8080/"
        },
        "id": "pLyEkV0I25CM",
        "outputId": "a4c6b8d3-a6ef-4064-806a-53149fe81c1f"
      },
      "outputs": [
        {
          "data": {
            "text/plain": [
              "['BEFORE & AFTER',\n",
              " 'LITERATURE',\n",
              " 'SCIENCE',\n",
              " 'AMERICAN HISTORY',\n",
              " 'POTPOURRI',\n",
              " 'WORLD HISTORY',\n",
              " 'HISTORY',\n",
              " 'COLLEGES & UNIVERSITIES',\n",
              " 'SPORTS',\n",
              " 'WORD ORIGINS']"
            ]
          },
          "execution_count": 30,
          "metadata": {},
          "output_type": "execute_result"
        }
      ],
      "source": [
        "common_categories[:10]"
      ]
    },
    {
      "cell_type": "code",
      "execution_count": null,
      "metadata": {
        "colab": {
          "base_uri": "https://localhost:8080/"
        },
        "id": "N4ocj2EbrBoD",
        "outputId": "ba75b31b-500b-4e08-d8e0-4882c813255f"
      },
      "outputs": [
        {
          "data": {
            "text/plain": [
              "['BEFORE & AFTER',\n",
              " 'LITERATURE',\n",
              " 'SCIENCE',\n",
              " 'AMERICAN HISTORY',\n",
              " 'POTPOURRI',\n",
              " 'WORLD HISTORY',\n",
              " 'HISTORY',\n",
              " 'COLLEGES & UNIVERSITIES',\n",
              " 'SPORTS',\n",
              " 'WORD ORIGINS',\n",
              " 'U.S. CITIES',\n",
              " 'WORLD GEOGRAPHY',\n",
              " 'BODIES OF WATER',\n",
              " 'ANIMALS',\n",
              " 'U.S. GEOGRAPHY',\n",
              " 'RELIGION',\n",
              " 'BUSINESS & INDUSTRY',\n",
              " 'SHAKESPEARE',\n",
              " 'OPERA',\n",
              " 'WORLD CAPITALS',\n",
              " 'STATE CAPITALS',\n",
              " 'BALLET',\n",
              " 'LANGUAGES',\n",
              " 'PEOPLE',\n",
              " 'RHYME TIME',\n",
              " 'ISLANDS',\n",
              " 'TELEVISION',\n",
              " 'TRANSPORTATION',\n",
              " 'FICTIONAL CHARACTERS',\n",
              " 'THE BIBLE',\n",
              " 'ART & ARTISTS',\n",
              " 'BOOKS & AUTHORS',\n",
              " 'STUPID ANSWERS',\n",
              " 'COMMON BONDS',\n",
              " 'FOOD',\n",
              " 'U.S. HISTORY',\n",
              " 'ART',\n",
              " 'SCIENCE & NATURE',\n",
              " 'HOLIDAYS & OBSERVANCES',\n",
              " 'MUSEUMS',\n",
              " '3-LETTER WORDS',\n",
              " 'GEOGRAPHY',\n",
              " 'POETS & POETRY',\n",
              " 'QUOTATIONS',\n",
              " 'ANNUAL EVENTS',\n",
              " 'POP MUSIC',\n",
              " 'HODGEPODGE',\n",
              " 'CLASSICAL MUSIC',\n",
              " 'AMERICAN LITERATURE',\n",
              " 'MYTHOLOGY',\n",
              " 'NONFICTION',\n",
              " 'AMERICANA',\n",
              " 'MUSICAL INSTRUMENTS',\n",
              " 'AUTHORS',\n",
              " 'WORLD CITIES',\n",
              " 'THE CIVIL WAR',\n",
              " 'THE MOVIES',\n",
              " 'AROUND THE WORLD',\n",
              " 'FOOD & DRINK',\n",
              " 'MUSIC',\n",
              " '4-LETTER WORDS',\n",
              " 'BIOLOGY',\n",
              " 'HOMOPHONES',\n",
              " 'COMPOSERS',\n",
              " 'EUROPEAN HISTORY',\n",
              " 'POTENT POTABLES',\n",
              " 'MOUNTAINS',\n",
              " 'ASTRONOMY',\n",
              " 'MEDICINE',\n",
              " 'WEIGHTS & MEASURES',\n",
              " 'FIRST LADIES',\n",
              " 'EXPLORERS',\n",
              " 'SCIENTISTS',\n",
              " 'FRUITS & VEGETABLES',\n",
              " 'TRAVEL & TOURISM',\n",
              " 'HISTORIC NAMES',\n",
              " 'ARCHITECTURE',\n",
              " 'ORGANIZATIONS',\n",
              " 'THE BODY HUMAN',\n",
              " 'IN THE DICTIONARY',\n",
              " 'MAGAZINES',\n",
              " 'ZOOLOGY',\n",
              " 'FASHION',\n",
              " 'U.S. PRESIDENTS',\n",
              " 'FOREIGN WORDS & PHRASES',\n",
              " 'AWARDS',\n",
              " 'VOCABULARY',\n",
              " 'NATURE',\n",
              " 'THEATRE',\n",
              " '5-LETTER WORDS',\n",
              " '19th CENTURY AMERICA',\n",
              " 'CHEMISTRY',\n",
              " '#NAME?',\n",
              " 'GENERAL SCIENCE',\n",
              " 'NOTABLE NAMES',\n",
              " 'GOVERNMENT & POLITICS',\n",
              " 'THE AMERICAN REVOLUTION',\n",
              " 'LAKES & RIVERS',\n",
              " 'PHYSICS',\n",
              " 'ABBREV.']"
            ]
          },
          "execution_count": 31,
          "metadata": {},
          "output_type": "execute_result"
        }
      ],
      "source": [
        "common_categories"
      ]
    },
    {
      "cell_type": "code",
      "execution_count": null,
      "metadata": {
        "colab": {
          "base_uri": "https://localhost:8080/"
        },
        "id": "yPD8l0i5b5AQ",
        "outputId": "6ab91c4f-31a6-4230-8f76-cdec0360087b"
      },
      "outputs": [
        {
          "data": {
            "text/plain": [
              "133"
            ]
          },
          "execution_count": 32,
          "metadata": {},
          "output_type": "execute_result"
        }
      ],
      "source": [
        "category_type[99]"
      ]
    },
    {
      "cell_type": "markdown",
      "metadata": {
        "id": "PYkKJxolDOAc"
      },
      "source": [
        "Here we are selecting categories which are in the top 100 most common categories. The hundredth most common category has 133 questions asked from it. Since there are five questions per category, this would indicate that all of these categories have appeared at least 27 times over the years."
      ]
    },
    {
      "cell_type": "code",
      "execution_count": null,
      "metadata": {
        "colab": {
          "base_uri": "https://localhost:8080/",
          "height": 206
        },
        "id": "fm5ZHvfbaZxu",
        "outputId": "a9f90f33-28d9-4c4b-efbc-d0569e4926e5"
      },
      "outputs": [
        {
          "data": {
            "text/html": [
              "\n",
              "  <div id=\"df-8bd57549-f03d-41e4-a90a-94e56432848b\">\n",
              "    <div class=\"colab-df-container\">\n",
              "      <div>\n",
              "<style scoped>\n",
              "    .dataframe tbody tr th:only-of-type {\n",
              "        vertical-align: middle;\n",
              "    }\n",
              "\n",
              "    .dataframe tbody tr th {\n",
              "        vertical-align: top;\n",
              "    }\n",
              "\n",
              "    .dataframe thead th {\n",
              "        text-align: right;\n",
              "    }\n",
              "</style>\n",
              "<table border=\"1\" class=\"dataframe\">\n",
              "  <thead>\n",
              "    <tr style=\"text-align: right;\">\n",
              "      <th></th>\n",
              "      <th>Show.Number</th>\n",
              "      <th>Air.Date</th>\n",
              "      <th>Round</th>\n",
              "      <th>Category</th>\n",
              "      <th>Value</th>\n",
              "      <th>Question</th>\n",
              "      <th>Answer</th>\n",
              "    </tr>\n",
              "  </thead>\n",
              "  <tbody>\n",
              "    <tr>\n",
              "      <th>0</th>\n",
              "      <td>5728</td>\n",
              "      <td>7/1/09</td>\n",
              "      <td>Double Jeopardy!</td>\n",
              "      <td>STOCK SYMBOL-IC</td>\n",
              "      <td>$400</td>\n",
              "      <td>ZZ is the snooze of a symbol for this Posturep...</td>\n",
              "      <td>Sealy</td>\n",
              "    </tr>\n",
              "    <tr>\n",
              "      <th>1</th>\n",
              "      <td>5339</td>\n",
              "      <td>11/22/07</td>\n",
              "      <td>Double Jeopardy!</td>\n",
              "      <td>THE SCIENCE OF LIQUOR</td>\n",
              "      <td>$1,200</td>\n",
              "      <td>Zymurgy is the chemistry branch that deals wit...</td>\n",
              "      <td>fermentation</td>\n",
              "    </tr>\n",
              "    <tr>\n",
              "      <th>2</th>\n",
              "      <td>5152</td>\n",
              "      <td>1/23/07</td>\n",
              "      <td>Jeopardy!</td>\n",
              "      <td>LIP GLOSS</td>\n",
              "      <td>$1,000</td>\n",
              "      <td>Zyderm &amp; Zyplast are types of these injections...</td>\n",
              "      <td>collagen injections</td>\n",
              "    </tr>\n",
              "    <tr>\n",
              "      <th>3</th>\n",
              "      <td>4648</td>\n",
              "      <td>11/17/04</td>\n",
              "      <td>Double Jeopardy!</td>\n",
              "      <td>TOOLS OF THE TRADE</td>\n",
              "      <td>$400</td>\n",
              "      <td>Zwilling J. A. Henckels will sell the aspiring...</td>\n",
              "      <td>knives</td>\n",
              "    </tr>\n",
              "    <tr>\n",
              "      <th>4</th>\n",
              "      <td>4564</td>\n",
              "      <td>6/10/04</td>\n",
              "      <td>Double Jeopardy!</td>\n",
              "      <td>JUNE BUGGED</td>\n",
              "      <td>$400</td>\n",
              "      <td>Zut! On June 22, 1815, 4 days after Waterloo, ...</td>\n",
              "      <td>abdicate</td>\n",
              "    </tr>\n",
              "  </tbody>\n",
              "</table>\n",
              "</div>\n",
              "      <button class=\"colab-df-convert\" onclick=\"convertToInteractive('df-8bd57549-f03d-41e4-a90a-94e56432848b')\"\n",
              "              title=\"Convert this dataframe to an interactive table.\"\n",
              "              style=\"display:none;\">\n",
              "        \n",
              "  <svg xmlns=\"http://www.w3.org/2000/svg\" height=\"24px\"viewBox=\"0 0 24 24\"\n",
              "       width=\"24px\">\n",
              "    <path d=\"M0 0h24v24H0V0z\" fill=\"none\"/>\n",
              "    <path d=\"M18.56 5.44l.94 2.06.94-2.06 2.06-.94-2.06-.94-.94-2.06-.94 2.06-2.06.94zm-11 1L8.5 8.5l.94-2.06 2.06-.94-2.06-.94L8.5 2.5l-.94 2.06-2.06.94zm10 10l.94 2.06.94-2.06 2.06-.94-2.06-.94-.94-2.06-.94 2.06-2.06.94z\"/><path d=\"M17.41 7.96l-1.37-1.37c-.4-.4-.92-.59-1.43-.59-.52 0-1.04.2-1.43.59L10.3 9.45l-7.72 7.72c-.78.78-.78 2.05 0 2.83L4 21.41c.39.39.9.59 1.41.59.51 0 1.02-.2 1.41-.59l7.78-7.78 2.81-2.81c.8-.78.8-2.07 0-2.86zM5.41 20L4 18.59l7.72-7.72 1.47 1.35L5.41 20z\"/>\n",
              "  </svg>\n",
              "      </button>\n",
              "      \n",
              "  <style>\n",
              "    .colab-df-container {\n",
              "      display:flex;\n",
              "      flex-wrap:wrap;\n",
              "      gap: 12px;\n",
              "    }\n",
              "\n",
              "    .colab-df-convert {\n",
              "      background-color: #E8F0FE;\n",
              "      border: none;\n",
              "      border-radius: 50%;\n",
              "      cursor: pointer;\n",
              "      display: none;\n",
              "      fill: #1967D2;\n",
              "      height: 32px;\n",
              "      padding: 0 0 0 0;\n",
              "      width: 32px;\n",
              "    }\n",
              "\n",
              "    .colab-df-convert:hover {\n",
              "      background-color: #E2EBFA;\n",
              "      box-shadow: 0px 1px 2px rgba(60, 64, 67, 0.3), 0px 1px 3px 1px rgba(60, 64, 67, 0.15);\n",
              "      fill: #174EA6;\n",
              "    }\n",
              "\n",
              "    [theme=dark] .colab-df-convert {\n",
              "      background-color: #3B4455;\n",
              "      fill: #D2E3FC;\n",
              "    }\n",
              "\n",
              "    [theme=dark] .colab-df-convert:hover {\n",
              "      background-color: #434B5C;\n",
              "      box-shadow: 0px 1px 3px 1px rgba(0, 0, 0, 0.15);\n",
              "      filter: drop-shadow(0px 1px 2px rgba(0, 0, 0, 0.3));\n",
              "      fill: #FFFFFF;\n",
              "    }\n",
              "  </style>\n",
              "\n",
              "      <script>\n",
              "        const buttonEl =\n",
              "          document.querySelector('#df-8bd57549-f03d-41e4-a90a-94e56432848b button.colab-df-convert');\n",
              "        buttonEl.style.display =\n",
              "          google.colab.kernel.accessAllowed ? 'block' : 'none';\n",
              "\n",
              "        async function convertToInteractive(key) {\n",
              "          const element = document.querySelector('#df-8bd57549-f03d-41e4-a90a-94e56432848b');\n",
              "          const dataTable =\n",
              "            await google.colab.kernel.invokeFunction('convertToInteractive',\n",
              "                                                     [key], {});\n",
              "          if (!dataTable) return;\n",
              "\n",
              "          const docLinkHtml = 'Like what you see? Visit the ' +\n",
              "            '<a target=\"_blank\" href=https://colab.research.google.com/notebooks/data_table.ipynb>data table notebook</a>'\n",
              "            + ' to learn more about interactive tables.';\n",
              "          element.innerHTML = '';\n",
              "          dataTable['output_type'] = 'display_data';\n",
              "          await google.colab.output.renderOutput(dataTable, element);\n",
              "          const docLink = document.createElement('div');\n",
              "          docLink.innerHTML = docLinkHtml;\n",
              "          element.appendChild(docLink);\n",
              "        }\n",
              "      </script>\n",
              "    </div>\n",
              "  </div>\n",
              "  "
            ],
            "text/plain": [
              "   Show.Number  Air.Date             Round               Category    Value  \\\n",
              "0         5728    7/1/09  Double Jeopardy!        STOCK SYMBOL-IC    $400    \n",
              "1         5339  11/22/07  Double Jeopardy!  THE SCIENCE OF LIQUOR  $1,200    \n",
              "2         5152   1/23/07         Jeopardy!              LIP GLOSS  $1,000    \n",
              "3         4648  11/17/04  Double Jeopardy!     TOOLS OF THE TRADE    $400    \n",
              "4         4564   6/10/04  Double Jeopardy!            JUNE BUGGED    $400    \n",
              "\n",
              "                                            Question               Answer  \n",
              "0  ZZ is the snooze of a symbol for this Posturep...                Sealy  \n",
              "1  Zymurgy is the chemistry branch that deals wit...         fermentation  \n",
              "2  Zyderm & Zyplast are types of these injections...  collagen injections  \n",
              "3  Zwilling J. A. Henckels will sell the aspiring...               knives  \n",
              "4  Zut! On June 22, 1815, 4 days after Waterloo, ...             abdicate  "
            ]
          },
          "execution_count": 33,
          "metadata": {},
          "output_type": "execute_result"
        }
      ],
      "source": [
        "jeopardy.head()"
      ]
    },
    {
      "cell_type": "code",
      "execution_count": null,
      "metadata": {
        "colab": {
          "base_uri": "https://localhost:8080/",
          "height": 206
        },
        "id": "kqjKo1_pEtBK",
        "outputId": "84087ad3-1943-44fa-a706-cb2366bd030e"
      },
      "outputs": [
        {
          "data": {
            "text/html": [
              "\n",
              "  <div id=\"df-46323bae-38fc-4adb-ab63-571721d45752\">\n",
              "    <div class=\"colab-df-container\">\n",
              "      <div>\n",
              "<style scoped>\n",
              "    .dataframe tbody tr th:only-of-type {\n",
              "        vertical-align: middle;\n",
              "    }\n",
              "\n",
              "    .dataframe tbody tr th {\n",
              "        vertical-align: top;\n",
              "    }\n",
              "\n",
              "    .dataframe thead th {\n",
              "        text-align: right;\n",
              "    }\n",
              "</style>\n",
              "<table border=\"1\" class=\"dataframe\">\n",
              "  <thead>\n",
              "    <tr style=\"text-align: right;\">\n",
              "      <th></th>\n",
              "      <th>Show.Number</th>\n",
              "      <th>Air.Date</th>\n",
              "      <th>Round</th>\n",
              "      <th>Category</th>\n",
              "      <th>Value</th>\n",
              "      <th>Question</th>\n",
              "      <th>Answer</th>\n",
              "    </tr>\n",
              "  </thead>\n",
              "  <tbody>\n",
              "    <tr>\n",
              "      <th>21</th>\n",
              "      <td>6070</td>\n",
              "      <td>1/21/11</td>\n",
              "      <td>Double Jeopardy!</td>\n",
              "      <td>CLASSICAL MUSIC</td>\n",
              "      <td>$800</td>\n",
              "      <td>Zoltan Kodaly wrote some of the finer works fo...</td>\n",
              "      <td>the cello</td>\n",
              "    </tr>\n",
              "    <tr>\n",
              "      <th>31</th>\n",
              "      <td>6091</td>\n",
              "      <td>2/21/11</td>\n",
              "      <td>Jeopardy!</td>\n",
              "      <td>COMMON BONDS</td>\n",
              "      <td>$400</td>\n",
              "      <td>ZIP, Morse, secret</td>\n",
              "      <td>codes</td>\n",
              "    </tr>\n",
              "    <tr>\n",
              "      <th>34</th>\n",
              "      <td>6192</td>\n",
              "      <td>7/12/11</td>\n",
              "      <td>Jeopardy!</td>\n",
              "      <td>WORLD HISTORY</td>\n",
              "      <td>$800</td>\n",
              "      <td>Zinoviev &amp; Pyatakov were 2 victims of the 1930...</td>\n",
              "      <td>show trials</td>\n",
              "    </tr>\n",
              "    <tr>\n",
              "      <th>41</th>\n",
              "      <td>4891</td>\n",
              "      <td>12/12/05</td>\n",
              "      <td>Double Jeopardy!</td>\n",
              "      <td>MYTHOLOGY</td>\n",
              "      <td>$2,000</td>\n",
              "      <td>Zeus was enamored of this young prince whom he...</td>\n",
              "      <td>Ganymede</td>\n",
              "    </tr>\n",
              "    <tr>\n",
              "      <th>48</th>\n",
              "      <td>4394</td>\n",
              "      <td>10/16/03</td>\n",
              "      <td>Jeopardy!</td>\n",
              "      <td>HOMOPHONES</td>\n",
              "      <td>$400</td>\n",
              "      <td>Zero, or a religious sister</td>\n",
              "      <td>none/nun</td>\n",
              "    </tr>\n",
              "  </tbody>\n",
              "</table>\n",
              "</div>\n",
              "      <button class=\"colab-df-convert\" onclick=\"convertToInteractive('df-46323bae-38fc-4adb-ab63-571721d45752')\"\n",
              "              title=\"Convert this dataframe to an interactive table.\"\n",
              "              style=\"display:none;\">\n",
              "        \n",
              "  <svg xmlns=\"http://www.w3.org/2000/svg\" height=\"24px\"viewBox=\"0 0 24 24\"\n",
              "       width=\"24px\">\n",
              "    <path d=\"M0 0h24v24H0V0z\" fill=\"none\"/>\n",
              "    <path d=\"M18.56 5.44l.94 2.06.94-2.06 2.06-.94-2.06-.94-.94-2.06-.94 2.06-2.06.94zm-11 1L8.5 8.5l.94-2.06 2.06-.94-2.06-.94L8.5 2.5l-.94 2.06-2.06.94zm10 10l.94 2.06.94-2.06 2.06-.94-2.06-.94-.94-2.06-.94 2.06-2.06.94z\"/><path d=\"M17.41 7.96l-1.37-1.37c-.4-.4-.92-.59-1.43-.59-.52 0-1.04.2-1.43.59L10.3 9.45l-7.72 7.72c-.78.78-.78 2.05 0 2.83L4 21.41c.39.39.9.59 1.41.59.51 0 1.02-.2 1.41-.59l7.78-7.78 2.81-2.81c.8-.78.8-2.07 0-2.86zM5.41 20L4 18.59l7.72-7.72 1.47 1.35L5.41 20z\"/>\n",
              "  </svg>\n",
              "      </button>\n",
              "      \n",
              "  <style>\n",
              "    .colab-df-container {\n",
              "      display:flex;\n",
              "      flex-wrap:wrap;\n",
              "      gap: 12px;\n",
              "    }\n",
              "\n",
              "    .colab-df-convert {\n",
              "      background-color: #E8F0FE;\n",
              "      border: none;\n",
              "      border-radius: 50%;\n",
              "      cursor: pointer;\n",
              "      display: none;\n",
              "      fill: #1967D2;\n",
              "      height: 32px;\n",
              "      padding: 0 0 0 0;\n",
              "      width: 32px;\n",
              "    }\n",
              "\n",
              "    .colab-df-convert:hover {\n",
              "      background-color: #E2EBFA;\n",
              "      box-shadow: 0px 1px 2px rgba(60, 64, 67, 0.3), 0px 1px 3px 1px rgba(60, 64, 67, 0.15);\n",
              "      fill: #174EA6;\n",
              "    }\n",
              "\n",
              "    [theme=dark] .colab-df-convert {\n",
              "      background-color: #3B4455;\n",
              "      fill: #D2E3FC;\n",
              "    }\n",
              "\n",
              "    [theme=dark] .colab-df-convert:hover {\n",
              "      background-color: #434B5C;\n",
              "      box-shadow: 0px 1px 3px 1px rgba(0, 0, 0, 0.15);\n",
              "      filter: drop-shadow(0px 1px 2px rgba(0, 0, 0, 0.3));\n",
              "      fill: #FFFFFF;\n",
              "    }\n",
              "  </style>\n",
              "\n",
              "      <script>\n",
              "        const buttonEl =\n",
              "          document.querySelector('#df-46323bae-38fc-4adb-ab63-571721d45752 button.colab-df-convert');\n",
              "        buttonEl.style.display =\n",
              "          google.colab.kernel.accessAllowed ? 'block' : 'none';\n",
              "\n",
              "        async function convertToInteractive(key) {\n",
              "          const element = document.querySelector('#df-46323bae-38fc-4adb-ab63-571721d45752');\n",
              "          const dataTable =\n",
              "            await google.colab.kernel.invokeFunction('convertToInteractive',\n",
              "                                                     [key], {});\n",
              "          if (!dataTable) return;\n",
              "\n",
              "          const docLinkHtml = 'Like what you see? Visit the ' +\n",
              "            '<a target=\"_blank\" href=https://colab.research.google.com/notebooks/data_table.ipynb>data table notebook</a>'\n",
              "            + ' to learn more about interactive tables.';\n",
              "          element.innerHTML = '';\n",
              "          dataTable['output_type'] = 'display_data';\n",
              "          await google.colab.output.renderOutput(dataTable, element);\n",
              "          const docLink = document.createElement('div');\n",
              "          docLink.innerHTML = docLinkHtml;\n",
              "          element.appendChild(docLink);\n",
              "        }\n",
              "      </script>\n",
              "    </div>\n",
              "  </div>\n",
              "  "
            ],
            "text/plain": [
              "    Show.Number  Air.Date             Round         Category    Value  \\\n",
              "21         6070   1/21/11  Double Jeopardy!  CLASSICAL MUSIC    $800    \n",
              "31         6091   2/21/11         Jeopardy!     COMMON BONDS    $400    \n",
              "34         6192   7/12/11         Jeopardy!    WORLD HISTORY    $800    \n",
              "41         4891  12/12/05  Double Jeopardy!        MYTHOLOGY  $2,000    \n",
              "48         4394  10/16/03         Jeopardy!       HOMOPHONES    $400    \n",
              "\n",
              "                                             Question       Answer  \n",
              "21  Zoltan Kodaly wrote some of the finer works fo...    the cello  \n",
              "31                                 ZIP, Morse, secret        codes  \n",
              "34  Zinoviev & Pyatakov were 2 victims of the 1930...  show trials  \n",
              "41  Zeus was enamored of this young prince whom he...     Ganymede  \n",
              "48                        Zero, or a religious sister     none/nun  "
            ]
          },
          "execution_count": 34,
          "metadata": {},
          "output_type": "execute_result"
        }
      ],
      "source": [
        "reduced = jeopardy[jeopardy[\"Category\"].isin(common_categories)]\n",
        "reduced.head()"
      ]
    },
    {
      "cell_type": "code",
      "execution_count": null,
      "metadata": {
        "id": "Q9yInAvB-9KL"
      },
      "outputs": [],
      "source": [
        "jeopardy['Air.Date'] = pd.to_datetime(jeopardy['Air.Date'])"
      ]
    },
    {
      "cell_type": "code",
      "execution_count": null,
      "metadata": {
        "colab": {
          "base_uri": "https://localhost:8080/",
          "height": 206
        },
        "id": "pGlHv-dM_Eh3",
        "outputId": "cb11dadb-90ac-4399-d489-7bb334d6c249"
      },
      "outputs": [
        {
          "data": {
            "text/html": [
              "\n",
              "  <div id=\"df-118fdd64-5b78-4fbf-983a-ad6a1ca7b1ed\">\n",
              "    <div class=\"colab-df-container\">\n",
              "      <div>\n",
              "<style scoped>\n",
              "    .dataframe tbody tr th:only-of-type {\n",
              "        vertical-align: middle;\n",
              "    }\n",
              "\n",
              "    .dataframe tbody tr th {\n",
              "        vertical-align: top;\n",
              "    }\n",
              "\n",
              "    .dataframe thead th {\n",
              "        text-align: right;\n",
              "    }\n",
              "</style>\n",
              "<table border=\"1\" class=\"dataframe\">\n",
              "  <thead>\n",
              "    <tr style=\"text-align: right;\">\n",
              "      <th></th>\n",
              "      <th>Show.Number</th>\n",
              "      <th>Air.Date</th>\n",
              "      <th>Round</th>\n",
              "      <th>Category</th>\n",
              "      <th>Value</th>\n",
              "      <th>Question</th>\n",
              "      <th>Answer</th>\n",
              "    </tr>\n",
              "  </thead>\n",
              "  <tbody>\n",
              "    <tr>\n",
              "      <th>0</th>\n",
              "      <td>5728</td>\n",
              "      <td>2009-07-01</td>\n",
              "      <td>Double Jeopardy!</td>\n",
              "      <td>STOCK SYMBOL-IC</td>\n",
              "      <td>$400</td>\n",
              "      <td>ZZ is the snooze of a symbol for this Posturep...</td>\n",
              "      <td>Sealy</td>\n",
              "    </tr>\n",
              "    <tr>\n",
              "      <th>1</th>\n",
              "      <td>5339</td>\n",
              "      <td>2007-11-22</td>\n",
              "      <td>Double Jeopardy!</td>\n",
              "      <td>THE SCIENCE OF LIQUOR</td>\n",
              "      <td>$1,200</td>\n",
              "      <td>Zymurgy is the chemistry branch that deals wit...</td>\n",
              "      <td>fermentation</td>\n",
              "    </tr>\n",
              "    <tr>\n",
              "      <th>2</th>\n",
              "      <td>5152</td>\n",
              "      <td>2007-01-23</td>\n",
              "      <td>Jeopardy!</td>\n",
              "      <td>LIP GLOSS</td>\n",
              "      <td>$1,000</td>\n",
              "      <td>Zyderm &amp; Zyplast are types of these injections...</td>\n",
              "      <td>collagen injections</td>\n",
              "    </tr>\n",
              "    <tr>\n",
              "      <th>3</th>\n",
              "      <td>4648</td>\n",
              "      <td>2004-11-17</td>\n",
              "      <td>Double Jeopardy!</td>\n",
              "      <td>TOOLS OF THE TRADE</td>\n",
              "      <td>$400</td>\n",
              "      <td>Zwilling J. A. Henckels will sell the aspiring...</td>\n",
              "      <td>knives</td>\n",
              "    </tr>\n",
              "    <tr>\n",
              "      <th>4</th>\n",
              "      <td>4564</td>\n",
              "      <td>2004-06-10</td>\n",
              "      <td>Double Jeopardy!</td>\n",
              "      <td>JUNE BUGGED</td>\n",
              "      <td>$400</td>\n",
              "      <td>Zut! On June 22, 1815, 4 days after Waterloo, ...</td>\n",
              "      <td>abdicate</td>\n",
              "    </tr>\n",
              "  </tbody>\n",
              "</table>\n",
              "</div>\n",
              "      <button class=\"colab-df-convert\" onclick=\"convertToInteractive('df-118fdd64-5b78-4fbf-983a-ad6a1ca7b1ed')\"\n",
              "              title=\"Convert this dataframe to an interactive table.\"\n",
              "              style=\"display:none;\">\n",
              "        \n",
              "  <svg xmlns=\"http://www.w3.org/2000/svg\" height=\"24px\"viewBox=\"0 0 24 24\"\n",
              "       width=\"24px\">\n",
              "    <path d=\"M0 0h24v24H0V0z\" fill=\"none\"/>\n",
              "    <path d=\"M18.56 5.44l.94 2.06.94-2.06 2.06-.94-2.06-.94-.94-2.06-.94 2.06-2.06.94zm-11 1L8.5 8.5l.94-2.06 2.06-.94-2.06-.94L8.5 2.5l-.94 2.06-2.06.94zm10 10l.94 2.06.94-2.06 2.06-.94-2.06-.94-.94-2.06-.94 2.06-2.06.94z\"/><path d=\"M17.41 7.96l-1.37-1.37c-.4-.4-.92-.59-1.43-.59-.52 0-1.04.2-1.43.59L10.3 9.45l-7.72 7.72c-.78.78-.78 2.05 0 2.83L4 21.41c.39.39.9.59 1.41.59.51 0 1.02-.2 1.41-.59l7.78-7.78 2.81-2.81c.8-.78.8-2.07 0-2.86zM5.41 20L4 18.59l7.72-7.72 1.47 1.35L5.41 20z\"/>\n",
              "  </svg>\n",
              "      </button>\n",
              "      \n",
              "  <style>\n",
              "    .colab-df-container {\n",
              "      display:flex;\n",
              "      flex-wrap:wrap;\n",
              "      gap: 12px;\n",
              "    }\n",
              "\n",
              "    .colab-df-convert {\n",
              "      background-color: #E8F0FE;\n",
              "      border: none;\n",
              "      border-radius: 50%;\n",
              "      cursor: pointer;\n",
              "      display: none;\n",
              "      fill: #1967D2;\n",
              "      height: 32px;\n",
              "      padding: 0 0 0 0;\n",
              "      width: 32px;\n",
              "    }\n",
              "\n",
              "    .colab-df-convert:hover {\n",
              "      background-color: #E2EBFA;\n",
              "      box-shadow: 0px 1px 2px rgba(60, 64, 67, 0.3), 0px 1px 3px 1px rgba(60, 64, 67, 0.15);\n",
              "      fill: #174EA6;\n",
              "    }\n",
              "\n",
              "    [theme=dark] .colab-df-convert {\n",
              "      background-color: #3B4455;\n",
              "      fill: #D2E3FC;\n",
              "    }\n",
              "\n",
              "    [theme=dark] .colab-df-convert:hover {\n",
              "      background-color: #434B5C;\n",
              "      box-shadow: 0px 1px 3px 1px rgba(0, 0, 0, 0.15);\n",
              "      filter: drop-shadow(0px 1px 2px rgba(0, 0, 0, 0.3));\n",
              "      fill: #FFFFFF;\n",
              "    }\n",
              "  </style>\n",
              "\n",
              "      <script>\n",
              "        const buttonEl =\n",
              "          document.querySelector('#df-118fdd64-5b78-4fbf-983a-ad6a1ca7b1ed button.colab-df-convert');\n",
              "        buttonEl.style.display =\n",
              "          google.colab.kernel.accessAllowed ? 'block' : 'none';\n",
              "\n",
              "        async function convertToInteractive(key) {\n",
              "          const element = document.querySelector('#df-118fdd64-5b78-4fbf-983a-ad6a1ca7b1ed');\n",
              "          const dataTable =\n",
              "            await google.colab.kernel.invokeFunction('convertToInteractive',\n",
              "                                                     [key], {});\n",
              "          if (!dataTable) return;\n",
              "\n",
              "          const docLinkHtml = 'Like what you see? Visit the ' +\n",
              "            '<a target=\"_blank\" href=https://colab.research.google.com/notebooks/data_table.ipynb>data table notebook</a>'\n",
              "            + ' to learn more about interactive tables.';\n",
              "          element.innerHTML = '';\n",
              "          dataTable['output_type'] = 'display_data';\n",
              "          await google.colab.output.renderOutput(dataTable, element);\n",
              "          const docLink = document.createElement('div');\n",
              "          docLink.innerHTML = docLinkHtml;\n",
              "          element.appendChild(docLink);\n",
              "        }\n",
              "      </script>\n",
              "    </div>\n",
              "  </div>\n",
              "  "
            ],
            "text/plain": [
              "   Show.Number   Air.Date             Round               Category    Value  \\\n",
              "0         5728 2009-07-01  Double Jeopardy!        STOCK SYMBOL-IC    $400    \n",
              "1         5339 2007-11-22  Double Jeopardy!  THE SCIENCE OF LIQUOR  $1,200    \n",
              "2         5152 2007-01-23         Jeopardy!              LIP GLOSS  $1,000    \n",
              "3         4648 2004-11-17  Double Jeopardy!     TOOLS OF THE TRADE    $400    \n",
              "4         4564 2004-06-10  Double Jeopardy!            JUNE BUGGED    $400    \n",
              "\n",
              "                                            Question               Answer  \n",
              "0  ZZ is the snooze of a symbol for this Posturep...                Sealy  \n",
              "1  Zymurgy is the chemistry branch that deals wit...         fermentation  \n",
              "2  Zyderm & Zyplast are types of these injections...  collagen injections  \n",
              "3  Zwilling J. A. Henckels will sell the aspiring...               knives  \n",
              "4  Zut! On June 22, 1815, 4 days after Waterloo, ...             abdicate  "
            ]
          },
          "execution_count": 36,
          "metadata": {},
          "output_type": "execute_result"
        }
      ],
      "source": [
        "jeopardy.head()"
      ]
    },
    {
      "cell_type": "code",
      "execution_count": null,
      "metadata": {
        "colab": {
          "base_uri": "https://localhost:8080/"
        },
        "id": "TVUo-g-oGazS",
        "outputId": "8b82691e-cf3f-445e-b2bb-931a9d39a2ad"
      },
      "outputs": [
        {
          "name": "stdout",
          "output_type": "stream",
          "text": [
            "(22638, 7)\n"
          ]
        }
      ],
      "source": [
        "print(reduced.shape)"
      ]
    },
    {
      "cell_type": "code",
      "execution_count": null,
      "metadata": {
        "id": "SCiIT7MKW0em"
      },
      "outputs": [],
      "source": [
        "# Clear up memory, full data frame no longer needed\n",
        "#del(jeopardy)"
      ]
    },
    {
      "cell_type": "code",
      "execution_count": null,
      "metadata": {
        "id": "uZ0vyOqp-AXC"
      },
      "outputs": [],
      "source": [
        "corpus = reduced['Question'].tolist()"
      ]
    },
    {
      "cell_type": "code",
      "execution_count": null,
      "metadata": {
        "colab": {
          "base_uri": "https://localhost:8080/"
        },
        "id": "AUxlhEAjeuaN",
        "outputId": "3b7085ba-8d66-42c0-c26a-3aa9bfe695a1"
      },
      "outputs": [
        {
          "data": {
            "text/plain": [
              "['Zoltan Kodaly wrote some of the finer works for solo this bass member of the violin family',\n",
              " 'ZIP, Morse, secret']"
            ]
          },
          "execution_count": 40,
          "metadata": {},
          "output_type": "execute_result"
        }
      ],
      "source": [
        "corpus[0:2]"
      ]
    },
    {
      "cell_type": "markdown",
      "metadata": {
        "id": "lomylrpfiQeH"
      },
      "source": [
        "#### Term Frequency Calculations for the Questions.\n",
        "Which terms appear the most for questions that belong to the top 100 categories?"
      ]
    },
    {
      "cell_type": "code",
      "execution_count": null,
      "metadata": {
        "id": "bVJu22kNexuO"
      },
      "outputs": [],
      "source": [
        "# Term Frequency Calculations\n",
        "def term_frequency(corpus):\n",
        "  combined_text = []\n",
        "\n",
        "  for doc in corpus:\n",
        "    combined_text.extend(word_tokenize(doc))\n",
        "\n",
        "  vocabulary = set(combined_text)\n",
        "\n",
        "  tokens_to_idx = {}\n",
        "  i = 0\n",
        "  for token in vocabulary:\n",
        "    tokens_to_idx[token] = i\n",
        "    i += 1\n",
        "\n",
        "  result = np.zeros((len(corpus), len(vocabulary)), dtype = np.int32)\n",
        "\n",
        "  for j in range(len(corpus)): #tracks which document we are in\n",
        "      doc = word_tokenize(corpus[j]) #tokenize the\n",
        "      for token in doc:\n",
        "          token_idx = tokens_to_idx[token]\n",
        "          result[j, token_idx] += 1\n",
        "\n",
        "  return vocabulary, result"
      ]
    },
    {
      "cell_type": "code",
      "execution_count": null,
      "metadata": {
        "colab": {
          "background_save": true
        },
        "id": "fA1L71UBfen-"
      },
      "outputs": [],
      "source": [
        "vocab, res = term_frequency(corpus)"
      ]
    },
    {
      "cell_type": "code",
      "execution_count": null,
      "metadata": {
        "colab": {
          "background_save": true
        },
        "id": "YNj5gdO7h472"
      },
      "outputs": [],
      "source": [
        "vocab = list(vocab)"
      ]
    },
    {
      "cell_type": "code",
      "execution_count": null,
      "metadata": {
        "colab": {
          "background_save": true,
          "base_uri": "https://localhost:8080/"
        },
        "id": "yMnPPG9iftqr",
        "outputId": "03e7847a-a9d9-4bb5-d56e-f3a659ef5a30"
      },
      "outputs": [
        {
          "data": {
            "text/plain": [
              "35978"
            ]
          },
          "execution_count": null,
          "metadata": {},
          "output_type": "execute_result"
        }
      ],
      "source": [
        "len(vocab)"
      ]
    },
    {
      "cell_type": "code",
      "execution_count": null,
      "metadata": {
        "colab": {
          "background_save": true,
          "base_uri": "https://localhost:8080/"
        },
        "id": "G6D4KSQbfnGJ",
        "outputId": "0e119a4c-d117-4a03-e6b4-80a587c42428"
      },
      "outputs": [
        {
          "data": {
            "text/plain": [
              "(22638, 35978)"
            ]
          },
          "execution_count": null,
          "metadata": {},
          "output_type": "execute_result"
        }
      ],
      "source": [
        "res.shape"
      ]
    },
    {
      "cell_type": "markdown",
      "metadata": {
        "id": "fuHQphm_Grew"
      },
      "source": [
        "The code above generates the term frequency calculations for the `reduced` data frame. This matrix is quite large as can be seen in the cell directly above. Further, this matrix is extremely sparce."
      ]
    },
    {
      "cell_type": "code",
      "execution_count": null,
      "metadata": {
        "colab": {
          "background_save": true
        },
        "id": "nfs0ECmue6sK"
      },
      "outputs": [],
      "source": [
        "from nltk.corpus import stopwords\n",
        "\n",
        "stopwords_en = stopwords.words(\"english\")"
      ]
    },
    {
      "cell_type": "code",
      "execution_count": null,
      "metadata": {
        "colab": {
          "background_save": true
        },
        "id": "infmTNiYe8af"
      },
      "outputs": [],
      "source": [
        "import string\n",
        "stopwords_en.extend(string.punctuation)\n",
        "custom_stopword_list = [\"``\", \"--\", \"''\", \"...\", \"'s\"]\n",
        "stopwords_en.extend(custom_stopword_list)\n",
        "\n",
        "total_corpus = []\n",
        "for doc in corpus:\n",
        "  question_tokenized = word_tokenize(doc)\n",
        "  total_corpus.append(question_tokenized)\n",
        "\n",
        "filtered_corpus = []\n",
        "\n",
        "for doc in total_corpus:\n",
        "  for word in doc:\n",
        "    if word.lower() not in stopwords_en:\n",
        "      filtered_corpus.append(word)\n"
      ]
    },
    {
      "cell_type": "markdown",
      "metadata": {
        "id": "3aGP7VUHjquW"
      },
      "source": [
        "The cell above creates a new corpus which does not contain stop words. The original corpus needed to be tokenized since it previously was one string per question."
      ]
    },
    {
      "cell_type": "code",
      "execution_count": null,
      "metadata": {
        "colab": {
          "background_save": true,
          "base_uri": "https://localhost:8080/",
          "height": 354
        },
        "id": "BiEiPfZ2-IcO",
        "outputId": "c5b5f5d3-95ae-423e-a4bd-a8b5afcf541d"
      },
      "outputs": [
        {
          "data": {
            "image/png": "[encoded data removed]",
            "text/plain": [
              "<Figure size 432x288 with 1 Axes>"
            ]
          },
          "metadata": {},
          "output_type": "display_data"
        },
        {
          "name": "stdout",
          "output_type": "stream",
          "text": [
            "[('name', 1180), ('first', 1108), ('city', 1069), ('one', 1015), ('country', 769), ('capital', 749), ('named', 718), ('called', 691), ('2', 640), ('state', 634), ('U.S.', 511), ('New', 487), ('known', 465), ('novel', 462), ('became', 447), ('wrote', 430), ('largest', 420), ('made', 402), ('word', 401), ('island', 396), ('type', 390), ('American', 376), (\"n't\", 374), ('used', 368), ('title', 364), ('3', 349), ('French', 345), ('also', 342), ('man', 334), ('part', 327), ('like', 311), ('years', 310), ('president', 299), ('said', 281), ('world', 280), ('book', 278), ('means', 277), ('famous', 274), ('John', 267), ('1', 266), ('language', 264), ('river', 262), ('British', 256), ('author', 248), ('play', 246), ('opera', 243), ('last', 237), ('term', 235), ('home', 232), ('comes', 230)]\n"
          ]
        }
      ],
      "source": [
        "fdist1 = FreqDist(filtered_corpus)\n",
        "fdist1.plot(25, cumulative=False)\n",
        "print(fdist1.most_common(50))"
      ]
    },
    {
      "cell_type": "markdown",
      "metadata": {
        "id": "NTp-y_2hwq9S"
      },
      "source": [
        "Most common terms in the common categories. Tend to due with location quesitons."
      ]
    },
    {
      "cell_type": "markdown",
      "metadata": {
        "id": "JjiwRjQUidUp"
      },
      "source": [
        "#### Answer Term Frequency\n",
        "Which answers appear the most for the entire data set?"
      ]
    },
    {
      "cell_type": "code",
      "execution_count": null,
      "metadata": {
        "colab": {
          "background_save": true
        },
        "id": "YEpYj9lninMj"
      },
      "outputs": [],
      "source": [
        "common_answers = jeopardy['Answer'].value_counts()"
      ]
    },
    {
      "cell_type": "code",
      "execution_count": null,
      "metadata": {
        "colab": {
          "background_save": true,
          "base_uri": "https://localhost:8080/"
        },
        "id": "i_MwQ_Z_kfTt",
        "outputId": "65302848-56a5-4ff1-ca2d-ccfc4518b3b9"
      },
      "outputs": [
        {
          "data": {
            "text/plain": [
              "China           206\n",
              "Australia       204\n",
              "Japan           185\n",
              "France          185\n",
              "Chicago         182\n",
              "California      178\n",
              "India           174\n",
              "Spain           167\n",
              "Canada          164\n",
              "Alaska          156\n",
              "Mexico          154\n",
              "Italy           153\n",
              "Hawaii          149\n",
              "Texas           145\n",
              "Paris           143\n",
              "Russia          137\n",
              "Germany         137\n",
              "Florida         136\n",
              "South Africa    134\n",
              "Ireland         132\n",
              "Name: Answer, dtype: int64"
            ]
          },
          "execution_count": null,
          "metadata": {},
          "output_type": "execute_result"
        }
      ],
      "source": [
        "common_answers[0:20]"
      ]
    },
    {
      "cell_type": "code",
      "execution_count": null,
      "metadata": {
        "colab": {
          "background_save": true
        },
        "id": "4Ef2IzKotKkc"
      },
      "outputs": [],
      "source": [
        "common_answers = list(common_answers.index)\n",
        "common_answers = common_answers[0:20]"
      ]
    },
    {
      "cell_type": "markdown",
      "metadata": {
        "id": "R8PeqaOkroy0"
      },
      "source": [
        "Of the twenty most common answers in the Jeopardy! dataset, we can see that all of them are proper noun locations. Predominantly, these are countries, but cities and a few states are present in the top twenty answers."
      ]
    },
    {
      "cell_type": "markdown",
      "metadata": {
        "id": "ehoVwGB2sYbX"
      },
      "source": [
        "#### Dispersion plots for the most common categories."
      ]
    },
    {
      "cell_type": "code",
      "execution_count": null,
      "metadata": {
        "colab": {
          "background_save": true
        },
        "id": "D20y6v1asBjy"
      },
      "outputs": [],
      "source": [
        "# Sort in chronological order\n",
        "jeopardy.sort_values('Show.Number', inplace = True)"
      ]
    },
    {
      "cell_type": "code",
      "execution_count": null,
      "metadata": {
        "colab": {
          "background_save": true
        },
        "id": "azynj33y346Z"
      },
      "outputs": [],
      "source": [
        "show_cat = jeopardy.groupby(['Show.Number', 'Category']).size()"
      ]
    },
    {
      "cell_type": "code",
      "execution_count": null,
      "metadata": {
        "colab": {
          "background_save": true
        },
        "id": "QzjnAhGo4gXx"
      },
      "outputs": [],
      "source": [
        "show_cat = pd.DataFrame(show_cat)\n",
        "# Change to data frame from series"
      ]
    },
    {
      "cell_type": "code",
      "execution_count": null,
      "metadata": {
        "colab": {
          "background_save": true,
          "base_uri": "https://localhost:8080/",
          "height": 206
        },
        "id": "PEhbNS2346N5",
        "outputId": "d385b039-868b-43c2-aa21-f501fd1c5808"
      },
      "outputs": [
        {
          "data": {
            "text/html": [
              "\n",
              "  <div id=\"df-1ddc41ff-152e-43a3-a516-98faced27e5b\">\n",
              "    <div class=\"colab-df-container\">\n",
              "      <div>\n",
              "<style scoped>\n",
              "    .dataframe tbody tr th:only-of-type {\n",
              "        vertical-align: middle;\n",
              "    }\n",
              "\n",
              "    .dataframe tbody tr th {\n",
              "        vertical-align: top;\n",
              "    }\n",
              "\n",
              "    .dataframe thead th {\n",
              "        text-align: right;\n",
              "    }\n",
              "</style>\n",
              "<table border=\"1\" class=\"dataframe\">\n",
              "  <thead>\n",
              "    <tr style=\"text-align: right;\">\n",
              "      <th></th>\n",
              "      <th>Show.Number</th>\n",
              "      <th>Category</th>\n",
              "      <th>0</th>\n",
              "    </tr>\n",
              "  </thead>\n",
              "  <tbody>\n",
              "    <tr>\n",
              "      <th>0</th>\n",
              "      <td>1</td>\n",
              "      <td>'50'S TV</td>\n",
              "      <td>5</td>\n",
              "    </tr>\n",
              "    <tr>\n",
              "      <th>1</th>\n",
              "      <td>1</td>\n",
              "      <td>4-LETTER WORDS</td>\n",
              "      <td>5</td>\n",
              "    </tr>\n",
              "    <tr>\n",
              "      <th>2</th>\n",
              "      <td>1</td>\n",
              "      <td>ACTORS &amp; ROLES</td>\n",
              "      <td>5</td>\n",
              "    </tr>\n",
              "    <tr>\n",
              "      <th>3</th>\n",
              "      <td>1</td>\n",
              "      <td>ANIMALS</td>\n",
              "      <td>5</td>\n",
              "    </tr>\n",
              "    <tr>\n",
              "      <th>4</th>\n",
              "      <td>1</td>\n",
              "      <td>FOREIGN CUISINE</td>\n",
              "      <td>4</td>\n",
              "    </tr>\n",
              "  </tbody>\n",
              "</table>\n",
              "</div>\n",
              "      <button class=\"colab-df-convert\" onclick=\"convertToInteractive('df-1ddc41ff-152e-43a3-a516-98faced27e5b')\"\n",
              "              title=\"Convert this dataframe to an interactive table.\"\n",
              "              style=\"display:none;\">\n",
              "        \n",
              "  <svg xmlns=\"http://www.w3.org/2000/svg\" height=\"24px\"viewBox=\"0 0 24 24\"\n",
              "       width=\"24px\">\n",
              "    <path d=\"M0 0h24v24H0V0z\" fill=\"none\"/>\n",
              "    <path d=\"M18.56 5.44l.94 2.06.94-2.06 2.06-.94-2.06-.94-.94-2.06-.94 2.06-2.06.94zm-11 1L8.5 8.5l.94-2.06 2.06-.94-2.06-.94L8.5 2.5l-.94 2.06-2.06.94zm10 10l.94 2.06.94-2.06 2.06-.94-2.06-.94-.94-2.06-.94 2.06-2.06.94z\"/><path d=\"M17.41 7.96l-1.37-1.37c-.4-.4-.92-.59-1.43-.59-.52 0-1.04.2-1.43.59L10.3 9.45l-7.72 7.72c-.78.78-.78 2.05 0 2.83L4 21.41c.39.39.9.59 1.41.59.51 0 1.02-.2 1.41-.59l7.78-7.78 2.81-2.81c.8-.78.8-2.07 0-2.86zM5.41 20L4 18.59l7.72-7.72 1.47 1.35L5.41 20z\"/>\n",
              "  </svg>\n",
              "      </button>\n",
              "      \n",
              "  <style>\n",
              "    .colab-df-container {\n",
              "      display:flex;\n",
              "      flex-wrap:wrap;\n",
              "      gap: 12px;\n",
              "    }\n",
              "\n",
              "    .colab-df-convert {\n",
              "      background-color: #E8F0FE;\n",
              "      border: none;\n",
              "      border-radius: 50%;\n",
              "      cursor: pointer;\n",
              "      display: none;\n",
              "      fill: #1967D2;\n",
              "      height: 32px;\n",
              "      padding: 0 0 0 0;\n",
              "      width: 32px;\n",
              "    }\n",
              "\n",
              "    .colab-df-convert:hover {\n",
              "      background-color: #E2EBFA;\n",
              "      box-shadow: 0px 1px 2px rgba(60, 64, 67, 0.3), 0px 1px 3px 1px rgba(60, 64, 67, 0.15);\n",
              "      fill: #174EA6;\n",
              "    }\n",
              "\n",
              "    [theme=dark] .colab-df-convert {\n",
              "      background-color: #3B4455;\n",
              "      fill: #D2E3FC;\n",
              "    }\n",
              "\n",
              "    [theme=dark] .colab-df-convert:hover {\n",
              "      background-color: #434B5C;\n",
              "      box-shadow: 0px 1px 3px 1px rgba(0, 0, 0, 0.15);\n",
              "      filter: drop-shadow(0px 1px 2px rgba(0, 0, 0, 0.3));\n",
              "      fill: #FFFFFF;\n",
              "    }\n",
              "  </style>\n",
              "\n",
              "      <script>\n",
              "        const buttonEl =\n",
              "          document.querySelector('#df-1ddc41ff-152e-43a3-a516-98faced27e5b button.colab-df-convert');\n",
              "        buttonEl.style.display =\n",
              "          google.colab.kernel.accessAllowed ? 'block' : 'none';\n",
              "\n",
              "        async function convertToInteractive(key) {\n",
              "          const element = document.querySelector('#df-1ddc41ff-152e-43a3-a516-98faced27e5b');\n",
              "          const dataTable =\n",
              "            await google.colab.kernel.invokeFunction('convertToInteractive',\n",
              "                                                     [key], {});\n",
              "          if (!dataTable) return;\n",
              "\n",
              "          const docLinkHtml = 'Like what you see? Visit the ' +\n",
              "            '<a target=\"_blank\" href=https://colab.research.google.com/notebooks/data_table.ipynb>data table notebook</a>'\n",
              "            + ' to learn more about interactive tables.';\n",
              "          element.innerHTML = '';\n",
              "          dataTable['output_type'] = 'display_data';\n",
              "          await google.colab.output.renderOutput(dataTable, element);\n",
              "          const docLink = document.createElement('div');\n",
              "          docLink.innerHTML = docLinkHtml;\n",
              "          element.appendChild(docLink);\n",
              "        }\n",
              "      </script>\n",
              "    </div>\n",
              "  </div>\n",
              "  "
            ],
            "text/plain": [
              "   Show.Number         Category  0\n",
              "0            1         '50'S TV  5\n",
              "1            1   4-LETTER WORDS  5\n",
              "2            1   ACTORS & ROLES  5\n",
              "3            1          ANIMALS  5\n",
              "4            1  FOREIGN CUISINE  4"
            ]
          },
          "execution_count": null,
          "metadata": {},
          "output_type": "execute_result"
        }
      ],
      "source": [
        "show_cat = show_cat.reset_index()\n",
        "show_cat.head()\n",
        "# Reset index so can use the to list function"
      ]
    },
    {
      "cell_type": "code",
      "execution_count": null,
      "metadata": {
        "colab": {
          "background_save": true,
          "base_uri": "https://localhost:8080/"
        },
        "id": "gw7BRwKQsW4V",
        "outputId": "b9a940b9-e239-483a-b6be-332ec34aee59"
      },
      "outputs": [
        {
          "data": {
            "text/plain": [
              "[\"'50'S TV\", '4-LETTER WORDS', 'ACTORS & ROLES', 'ANIMALS', 'FOREIGN CUISINE']"
            ]
          },
          "execution_count": null,
          "metadata": {},
          "output_type": "execute_result"
        }
      ],
      "source": [
        "category = show_cat['Category'].tolist()\n",
        "category[0:5]"
      ]
    },
    {
      "cell_type": "code",
      "execution_count": null,
      "metadata": {
        "colab": {
          "background_save": true
        },
        "id": "iiGGHhC_vEJb"
      },
      "outputs": [],
      "source": [
        "category = nltk.Text(category)"
      ]
    },
    {
      "cell_type": "code",
      "execution_count": null,
      "metadata": {
        "colab": {
          "background_save": true,
          "base_uri": "https://localhost:8080/",
          "height": 295
        },
        "id": "qYwmma7ZzYfm",
        "outputId": "96a8fe52-2aae-4c5b-aed5-44f8a3e201db"
      },
      "outputs": [
        {
          "data": {
            "image/png": "[encoded data removed]",
            "text/plain": [
              "<Figure size 432x288 with 1 Axes>"
            ]
          },
          "metadata": {},
          "output_type": "display_data"
        }
      ],
      "source": [
        "category.dispersion_plot(common_categories[:10])"
      ]
    },
    {
      "cell_type": "markdown",
      "metadata": {
        "id": "7hUduvin3WRz"
      },
      "source": [
        "Above we have plotted the dispersion plots for the categories. It should be noted that the x-axis corresponds roughly to the show number, so it is fairly chronological. It appears that the early shows tended to reuse the same categories fairly frequently while the more recent ones perhaps have used different names for the categories or maybe have moved in a different direction entirely."
      ]
    },
    {
      "cell_type": "markdown",
      "metadata": {
        "id": "JjWs1_mfLlWA"
      },
      "source": [
        "#### TF-IDF Scores on Questions grouped by year of air date"
      ]
    },
    {
      "cell_type": "code",
      "execution_count": null,
      "metadata": {
        "colab": {
          "background_save": true
        },
        "id": "8tLjRgWeyBAK"
      },
      "outputs": [],
      "source": [
        "# Group by year and combine the questions into one cell\n",
        "show_groups = jeopardy.groupby(jeopardy['Air.Date'].dt.year)['Question'].unique().apply(' '.join).reset_index()"
      ]
    },
    {
      "cell_type": "code",
      "execution_count": null,
      "metadata": {
        "colab": {
          "background_save": true
        },
        "id": "LorI6bpgBlAI"
      },
      "outputs": [],
      "source": [
        "# if a by show grouping is desired\n",
        "\n",
        "#show_groups = jeopardy.groupby('Show.Number')['Question'].unique().apply(' '.join).reset_index()"
      ]
    },
    {
      "cell_type": "code",
      "execution_count": null,
      "metadata": {
        "colab": {
          "background_save": true,
          "base_uri": "https://localhost:8080/",
          "height": 112
        },
        "id": "iw3EvD6H7tdo",
        "outputId": "f4ab0f75-6a98-4ff0-a6b7-6bbf8ac1e2f2"
      },
      "outputs": [
        {
          "data": {
            "text/html": [
              "\n",
              "  <div id=\"df-7b666381-e306-41c3-bb69-68f0eb09f2af\">\n",
              "    <div class=\"colab-df-container\">\n",
              "      <div>\n",
              "<style scoped>\n",
              "    .dataframe tbody tr th:only-of-type {\n",
              "        vertical-align: middle;\n",
              "    }\n",
              "\n",
              "    .dataframe tbody tr th {\n",
              "        vertical-align: top;\n",
              "    }\n",
              "\n",
              "    .dataframe thead th {\n",
              "        text-align: right;\n",
              "    }\n",
              "</style>\n",
              "<table border=\"1\" class=\"dataframe\">\n",
              "  <thead>\n",
              "    <tr style=\"text-align: right;\">\n",
              "      <th></th>\n",
              "      <th>Air.Date</th>\n",
              "      <th>Question</th>\n",
              "    </tr>\n",
              "  </thead>\n",
              "  <tbody>\n",
              "    <tr>\n",
              "      <th>0</th>\n",
              "      <td>1984</td>\n",
              "      <td>She came from France to harbor America's freed...</td>\n",
              "    </tr>\n",
              "    <tr>\n",
              "      <th>1</th>\n",
              "      <td>1985</td>\n",
              "      <td>While poets pour over the Rhine &amp; Danube this ...</td>\n",
              "    </tr>\n",
              "  </tbody>\n",
              "</table>\n",
              "</div>\n",
              "      <button class=\"colab-df-convert\" onclick=\"convertToInteractive('df-7b666381-e306-41c3-bb69-68f0eb09f2af')\"\n",
              "              title=\"Convert this dataframe to an interactive table.\"\n",
              "              style=\"display:none;\">\n",
              "        \n",
              "  <svg xmlns=\"http://www.w3.org/2000/svg\" height=\"24px\"viewBox=\"0 0 24 24\"\n",
              "       width=\"24px\">\n",
              "    <path d=\"M0 0h24v24H0V0z\" fill=\"none\"/>\n",
              "    <path d=\"M18.56 5.44l.94 2.06.94-2.06 2.06-.94-2.06-.94-.94-2.06-.94 2.06-2.06.94zm-11 1L8.5 8.5l.94-2.06 2.06-.94-2.06-.94L8.5 2.5l-.94 2.06-2.06.94zm10 10l.94 2.06.94-2.06 2.06-.94-2.06-.94-.94-2.06-.94 2.06-2.06.94z\"/><path d=\"M17.41 7.96l-1.37-1.37c-.4-.4-.92-.59-1.43-.59-.52 0-1.04.2-1.43.59L10.3 9.45l-7.72 7.72c-.78.78-.78 2.05 0 2.83L4 21.41c.39.39.9.59 1.41.59.51 0 1.02-.2 1.41-.59l7.78-7.78 2.81-2.81c.8-.78.8-2.07 0-2.86zM5.41 20L4 18.59l7.72-7.72 1.47 1.35L5.41 20z\"/>\n",
              "  </svg>\n",
              "      </button>\n",
              "      \n",
              "  <style>\n",
              "    .colab-df-container {\n",
              "      display:flex;\n",
              "      flex-wrap:wrap;\n",
              "      gap: 12px;\n",
              "    }\n",
              "\n",
              "    .colab-df-convert {\n",
              "      background-color: #E8F0FE;\n",
              "      border: none;\n",
              "      border-radius: 50%;\n",
              "      cursor: pointer;\n",
              "      display: none;\n",
              "      fill: #1967D2;\n",
              "      height: 32px;\n",
              "      padding: 0 0 0 0;\n",
              "      width: 32px;\n",
              "    }\n",
              "\n",
              "    .colab-df-convert:hover {\n",
              "      background-color: #E2EBFA;\n",
              "      box-shadow: 0px 1px 2px rgba(60, 64, 67, 0.3), 0px 1px 3px 1px rgba(60, 64, 67, 0.15);\n",
              "      fill: #174EA6;\n",
              "    }\n",
              "\n",
              "    [theme=dark] .colab-df-convert {\n",
              "      background-color: #3B4455;\n",
              "      fill: #D2E3FC;\n",
              "    }\n",
              "\n",
              "    [theme=dark] .colab-df-convert:hover {\n",
              "      background-color: #434B5C;\n",
              "      box-shadow: 0px 1px 3px 1px rgba(0, 0, 0, 0.15);\n",
              "      filter: drop-shadow(0px 1px 2px rgba(0, 0, 0, 0.3));\n",
              "      fill: #FFFFFF;\n",
              "    }\n",
              "  </style>\n",
              "\n",
              "      <script>\n",
              "        const buttonEl =\n",
              "          document.querySelector('#df-7b666381-e306-41c3-bb69-68f0eb09f2af button.colab-df-convert');\n",
              "        buttonEl.style.display =\n",
              "          google.colab.kernel.accessAllowed ? 'block' : 'none';\n",
              "\n",
              "        async function convertToInteractive(key) {\n",
              "          const element = document.querySelector('#df-7b666381-e306-41c3-bb69-68f0eb09f2af');\n",
              "          const dataTable =\n",
              "            await google.colab.kernel.invokeFunction('convertToInteractive',\n",
              "                                                     [key], {});\n",
              "          if (!dataTable) return;\n",
              "\n",
              "          const docLinkHtml = 'Like what you see? Visit the ' +\n",
              "            '<a target=\"_blank\" href=https://colab.research.google.com/notebooks/data_table.ipynb>data table notebook</a>'\n",
              "            + ' to learn more about interactive tables.';\n",
              "          element.innerHTML = '';\n",
              "          dataTable['output_type'] = 'display_data';\n",
              "          await google.colab.output.renderOutput(dataTable, element);\n",
              "          const docLink = document.createElement('div');\n",
              "          docLink.innerHTML = docLinkHtml;\n",
              "          element.appendChild(docLink);\n",
              "        }\n",
              "      </script>\n",
              "    </div>\n",
              "  </div>\n",
              "  "
            ],
            "text/plain": [
              "   Air.Date                                           Question\n",
              "0      1984  She came from France to harbor America's freed...\n",
              "1      1985  While poets pour over the Rhine & Danube this ..."
            ]
          },
          "execution_count": null,
          "metadata": {},
          "output_type": "execute_result"
        }
      ],
      "source": [
        "show_groups[0:2]"
      ]
    },
    {
      "cell_type": "code",
      "execution_count": null,
      "metadata": {
        "colab": {
          "background_save": true
        },
        "id": "F9B_vTYR8Gs5"
      },
      "outputs": [],
      "source": [
        "corpus2 = show_groups['Question'].tolist()"
      ]
    },
    {
      "cell_type": "code",
      "execution_count": null,
      "metadata": {
        "colab": {
          "background_save": true,
          "base_uri": "https://localhost:8080/"
        },
        "id": "ULauP16C8KEs",
        "outputId": "9cb85a62-99a2-4ec3-e764-d39775dd43a2"
      },
      "outputs": [
        {
          "data": {
            "text/plain": [
              "['She came from France to harbor America\\'s freedom Amount Michael Anthony gave out each week on behalf of John Beresford Tipton Close relative of the pig, though its name means \"river horse\" Basketball defense or Serling\\'s twilight area The blonde preferred in the film \"Gentlemen Prefer Blondes\" When \"Joshua Fit The Battle Of Jericho\", these took a tumble When husbands \"pop\" for an ermine coat, they\\'re actually buying this fur If this species of hybrid\\'s parents were reversed, you\\'d get a hinny It was probably a lyre, not a fiddle, if he played it while Rome burned In 1869 an American minister created this \"oriental\" transportation Jewish crepe filled with cheese Though its name means \"city of peace\", it\\'s seen over 30 wars, the last in 1967 These rodents first got to America by stowing away on ships He may \"Never Say Never Again\" when asked to be Bond His book, translated as \"My Struggle\", outlined plans to conquer Europe According to 1st Timothy, it is the \"root of all evil\" There are about 40,000 muscles & tendons in this part of an elephant\\'s body A 1920\\'s hunting trip to Canada inspired Birdseye\\'s food preserving method His card read \"Have gun, will travel\" When he was home, George Washington slept here Name under which experimenter Don Herbert taught viewers all about science She was \"Our Miss Brooks\" Occupation of Richard Diamond, Peter Gunn & Mike Hammer Site where John Hancock signed his \"John Hancock\" American river only 33 miles shorter than the Mississippi This fastener gets its name from a brand of galoshes it was used on The cornerstone of Massachusetts, it bears the date 1620 Scottish word for lake D.C. building shaken by November \\'83 bomb blast Little girls do it with a rope, Van Halen does it in a song 2 \"Saturday Night\" alumni who tried \"Trading Places\" French for a toothsome cut of beef served to a twosome World\\'s largest lake, nearly 5 times as big as Superior Marconi\\'s wonderful wireless The \"coq\" in coq au vin Sam Shepard played this barrier breaker in \"The Right Stuff\" The president takes one before stepping into office After the deed, he leaped to the stage shouting \"Sic semper tyrannis\" Pulled the trigger or what\\'s in a jigger Video in which Michael Jackson plays a werewolf & a zombie A British variety is called \"bangers\", a Mexican variety, \"chorizo\" According to the Bible, it wasn\\'t necessarily an apple Lenin called him ruthless, and his purges proved he was His price was 30 pieces of silver It\\'s the first 4-letter word in \"The Star Spangled Banner\" River mentioned most often in the Bible Profession of Rossini\\'s Figaro His famed San Quentin concert inspired inmate Merle Haggard This word for the Mohammedan religion means \"submission to the will of God\" She once shot a cigarette from the mouth of the German crown prince American equivalent to English \"the bonnet on a lorry\" Crossing the Delaware on Xmas, 1776, Washington defeated the Hessians at this N.J. capital From French, it literally means \"a pen name\" The Greeks reckoned time from this event, first held in Olympia in 776 B.C. Derived from words \"American\", \"travel\", & \"track\", it provides most U.S. passenger rail service Lindbergh was not first to fly the Atlantic, but first to do it this way Total of Disney\\'s Dalmatians and dwarfs Though faster than a speeding bullet, he was ruled 4-F London\\'s, not New York\\'s, was the first ever built Continent with the largest Jewish population In \"True Grit\", he played a cowboy, but not his famous Rhinestone one The name shows its founder, Roger Williams, believed God led him there Wartime pseudonym of Mrs. I. Toguri D\\'Aquino Brothers Virgil & Morgan were shot here, but Wyatt Earp emerged unscathed Nashville\\'s Ryman Auditorium was its home for years By war\\'s end, they had banked over 13 million units of blood for plasma In 650,000 miles the mail was lost only once A grandma before her 30th birthday, she\\'s the real \"Coal Miner\\'s Daughter\" Deoxyribonucleic acid In Germany, said before a toast & after a sneeze This N.M. town is the oldest city that\\'s a state capital The basic unit of life; 3 billion die every minute in your body This Buddhist sect seeks truth through concepts like \"the sound of one hand clapping\" It puts the green in greenery It ran 2,000 miles, from Independence, Missouri to Oregon City, Oregon Number of red stripes on current U.S. flag One of its newspapers was appropriately called \"The Epitaph\" L.B.J.\\'s hound dog or Darwin\\'s ship He was the doubter among the Apostles Not his singing, but a lack of lunch caused fan to swoon at his Paramount Theater concert Lt. Pinkerton\\'s girlfriend Cio-Cio-San The 2 digits that give James Bond license to kill Type of auto engine, or a tomato cocktail The vidi, in \"Veni, vidi, vici\" 1976 was also the bicentennial of this famed Milan opera house The Lone Ranger\\'s theme is the opera\\'s overture Destination of MacArthur\\'s \"I shall return\" Changing lines, you could have at one time ridden these from Freeport, IL to Utica, NY Three Dog Night called this the loneliest number Broadway hit that takes Fellini film a ½ step further Until 1875 its dual capitals were New Haven & Hartford Color of smoke signifying election of new Pope \"Eager\" animal that symbolizes Canada Where things are nipped in, or Lou\\'s partner 4-letter play about 9-lived creatures The \"sea\" that Jesus walked on While on the Riviera, she made \"To Catch a Thief\" & caught a prince Before 1859 they sat in padded rocking chairs behind the catcher Powered by this, the Stanley Special won in Daytona in 1907 at 197 MPH Royal families of Germany, Russia, Denmark & Greece could call her \"the grandmother of Europe\" In Japan it\\'s called \"rasshu awa\"; in L.A, 4 to 6 P.M. King for 72 years, he devoted more than 40 to building Versailles French for \"sour wine\", one variety is literally just that This colonial inventor suggested Daylight Saving Time A type of shoe or cloth, or where a Rhodes scholarship will get you 100s of former cast members appeared onstage when it became longest-running show This toy company builds more cars than Ford, G.M. & Chrysler combined Planet once thought unique, it no longer runs \"rings\" around its neighbors Country where Queens Beatrix, Wilhelmina & Juliana were inaugurated, not crowned Nickname of the American Theatre Wing\\'s Antoinette Perry Award \"The avenue we\\'re taken to\" in this long-running toe-tapper Scooby-Doo, Goofy & Pluto are cartoon versions Temporarily exiled in \\'53, this Islamic ruler was permanently banished in \\'79 Self-luminous gaseous body, or hollywood \"celeb\" In Damascus, \"the scales fell from his eyes\" Like chop suey, this Chinese sweet was invented in America First volcano to erupt in continental U.S. since 1921 The evening or morning \"star\" is really this planet On the eve of the Civil War, some 2,000 slaveholders were of this race \"Blessed are\" these \"for they shall be called the children of God\" He\\'d build you a Model T \"in any color, so long as it was black\" 2-time Academy Award winner who reprised \"Little Foxes\" in 1980 Models of Ford, Chrysler, & Cadillac are all named for cities in this S. European country A fedora, homburg or derby When its coffee crop was destroyed around 1870, Ceylon switched to growing this Home to alpacas & llamas Tibetans call it Chomolunga, Nepalese call it Sagarmatha, both call it theirs Some people have a quick one, which beats a ½ one Quixote or Drysdale In 1934, Gerald Ford was voted MVP of this school\\'s football team Jesus\\' first miracle was to turn water into this Women\\'s college that shares Harvard\\'s classes, housing & facilities but still is separate Launched Oct. 4th, 1957, it was Earth\\'s 1st artificial satellite Home of over 52,000 Buckeyes Opposite of flow, tides do it Latin for field, or college grounds Only planet to have seasons similar to Earth\\'s Tibetan ox used to carry travelers and mail Stem of a variety of lily, known in Old England as \"sparrow grass\" They include killers, humpbacks & sperms According to both New & Old Testaments, how \"thou shalt love they neighbor\" It spent the night in a discount-house parking lot before heading to L.A. Coliseum It succeeded Fort Whipple, Prescott, & Tucson as capital Binet & Simon\\'s measure of mental age Musical about Continental Congress, it included song \"Sit Down, John\" The two point values an ace can have in blackjack General Nicknamed \"Uncle Billy\" who believed in total war Film featuring March & Gaynor, Garland & Mason or Streisand & Kristofferson Police precinct Barney Miller \"dozen\" work at any more Color that always has opening move in chess Europe\\'s only wild monkeys live on this \"rock\" Clocks in Lima, Peru, read the same as in this U.S. time zone Largest country entirely in Europe Letter shared by sensuous woman author & 76\\'ers Doctor In \\'84 he\\'s a destroyer, in \\'82 he was just a barbarian The 1st asked in this game is usually \"Animal, vegetable or mineral?\" Binney & Smith makes them in 64 colors What Bo Derek would have been in ancient Rome To Dustin Hoffman this \\'82 film was a \"drag\" Walter Matthau & Tony Curtis both coached this kids\\' baseball team Mark Anthony borrowed them, then bent them The body has over 60,000 miles of them It could be paddle wheel, cargo or tramp \"Body-building\" brand of bread from \"the bakery people of IT&T\" Prominent zygomatic bones, considered an attractive facial feature \"Kingdom\" that Khrushchev couldn\\'t visit in 1959 U.S. trip Went from bit part in film \"Little Shop of Horrors\" to Oscars for Best Actor & Best Support This company owns the world\\'s tallest building State that seceded from state that seceded Over ½ of these are in your hands & feet Number of pockets on a pool table In 1978, this German co. became first foreign automaker to make cars here Number of chambers in a judge\\'s heart Versions of this board game take place in London, Madrid, & Atlantic City When it was rung for Chief Justice John Marshall\\'s funeral, it cracked 1/3 the size of U.S., this royal kingdom has no rivers or lakes but lots of oil 1 of 4 state capitals that end in word \"City\" Its seed is used in baking, but 1 type produces opium Christmas, Easter, or Bermuda, for example Lincoln\\'s four brothers-in-law all served in this army Piggly Wiggly stores were the first of these He\\'s the heavyweight of the A-Team Long associated with Lebanon, this tree is on its flag In 1983 Americans used over 1¼ million gallons of this beach product A race run by couples tied together at the ankle Lincoln lived & practiced law here for 25 years before becoming president She\\'s been a teenage fashion model for over 25 years He was Lincoln\\'s first choice to lead the Union army Caveman comic strip created by Johnny Hart Though shots fired at this garrison started the war, no casualties resulted Dr. Seuss\\' egg-hatching elephant who was \"faithful, 100%\" Charlton Heston was \"on track\" with it in \"Ben Hur\" Apollo II trio; while Collins circled Moon, these 2 landed Above this I.Q. mark, you\\'re considered a genius With them under foot, Uncle Donald\\'s life wasn\\'t duck soup State name that\\'s misspelled on the Liberty Bell This southern subtropical wilderness is home to manatees & TV\\'s \"Gentle Ben\" More common name for The Watchtower Bible & Tract Society U.S. & Canada produce almost entire world supply of this lightest inert gas Although this Roman arena could hold 50,000, it\\'s not on the Jackson tour Though this actress\\' cat is named for Buster Keaton, she\\'s really no relation Horse racing was a sport at these ancient Greek contests Great-grand nephew of Francis Scott Key, he was the voice of the Jazz Age Since 1936, because of this, horses \"say cheese\" at the end of races \"Candy Man\" who began with the Will Mastin Trio It was \"enough\" for Dick van Patten Common kitchen substance known chemically as sodium chloride She was 8 years older & 3 months pregnant when Shakespeare married her Date just west of this is 1 day later than the date just east The only \"J\" in the Pledge of Allegiance Logs in this forest may be 150 million years old The first Mrs. Bonaparte Mount Whitney, highest point in lower 48 states, is in this park named for its trees The official news agency of the Soviet Union Billy the Cobbler, or a famous jockey Harvard Lampoon alumnus, by 1937 he owned 25 daily newspapers & a California castle \"Only you can prevent forest fires\" He gave Hester a scarlet \"A\" Classic TV puppet show which also featured Beulah Witch & Delores Dragon First published in 1889 by the Dow Jones Co. Used in cars\\' catalytic converters, it\\'s more expensive than gold Official endorsement to show validity of a passport, or a major credit card The Moor who loved Desdemona \"not wisely, but too well\" Collective name of Kentucky Derby, Preakness, & Belmont Stakes A teen\\'s \"sweet\" age Battle of the sexes on which musical \"Kiss Me Kate\" was based Coal & diamonds both consist of it All U.S. thoroughbreds are officially born on this day of the year Lincoln called it \"the book that caused the big war\" A puzzle people go to pieces over Event an Olympian throws Some 3 million pilgrims visit this small French town annually Chubby character who loved his ale & supplied the name for one Melville\\'s white whale tale D\\'Artagnan\\'s best buddies Currency of Liechtenstein, Luxembourg & Andorra Country that is home to Parsis & Sikhs Due to earthquakes, this Yellowstone geyser no longer erupts on time It carries the motto \"All the news that\\'s fit to print\" The police say \"fine\" for crossing the street this way Hamlet found \"something rotten\" in this country Nickname of our 16th president & Li\\'l Abner\\'s son There are still unexplored areas of these New Mexico caves Never has to jockey for position as Mrs. Fred Astaire This agency\\'s symbol of an unblinking eye gave birth to the phrase \"private eye\" On the market since 1896, it wasn\\'t until 1912 that they included prizes Number of blank tiles in a Scrabble set As result of anti-slavery raid on Harper\\'s Ferry, his \"body lies a moldering in the grave\" The first black in Big League Baseball Longest river in Canada or the SCTV bros. She was expelled from Society of Friends for marrying non-Quaker 4th president A challenge to any optician, these giants had only one eye She talked to Arnold\\'s class about drugs on TV\\'s \"Diff\\'rent Strokes\" Largest Soviet newspaper, its name means \"Truth\" Nursing mother who wouldn\\'t make \"house calls\", she\\'s Vanessa\\'s sister Pasternak\\'s Moscow medic Shakespeare\\'s \"star-crossed\" lovers In the Bible, Aaron was this brother\\'s mouthpiece in dealing with Pharaoh Teddy\\'s niece, her married & maiden names were the same An \"easy rider\" whose sister played an easy lady in \"Klute\" The Philip Roth character with a \"complaint\" 1st cousins Dannay & Lee wrote the Ellery Queen stories under this pen name One of her early suitors was her husband\\'s arch rival, Stephen A. Douglas Driving with a broken wrist, Janet Guthrie was the 1st woman to compete in this race First member of the \"me\" generation, this youth fell in love with his own reflection He shared digs with John Watson at 221-B Baker Street He ultimately got \"fleeced\" by Medea Awarded medal as \"1st woman to be killed in action\" in WWII: she was Gable\\'s wife Daughter of this Soviet ruler has been living in America since 1967 A \"bull\" of a man, he lived in a labyrinth Soviet official who advocated using gasoline-filled bottles against Nazi tanks You\\'d find this at 1313 S. Harbor Boulevard in Anaheim, CA Soviet republic that has same name as an American state It\\'s whom Boris Spassky lost the chess crown to in 1972 \"Kookie\" Byrnes parked cars for Dino\\'s Lodge Though a hot prospect in \\'80, Beth Heiden was frozen out of gold in this Olympic sport Harriet Tubman, who freed over 300 slaves, was 1 of its foremost \"conductors\" Apollo\\'s loving sister, sometimes served on the half shell \"Cat on a Hot Tin Roof\\'s\" portly patriarch The \"lovable\" family of Peter Pan They were formerly called the Sandwich Islands The superlative form of good A symbol for black performers in film since the \\'50\\'s, he won an Oscar as Best Actor in \\'63 She\\'s Agatha Christie\\'s ageless amateur detective The prime minister of England lives here Forced to give up crown as Miss America because of photos in \"Penthouse\" Dashiell Hammett detective played on the screen by Humphrey Bogart It can be common, proper, collective or concrete \"Real men\" don\\'t eat this French custard cheese pie It comes at the end of a declarative sentence Feathered friend who lives at 123½ Sesame Street Her tough Texas husband preferred her nickname to calling her Claudia Alta Author of \"Burr\" who wrote chilling mysteries under the pen name Edgar Box Hilltop home of the gods The adverb in \"think fast\" Where ships dock or what a jury consists of Tourists know this Catholic mission as Davy Crockett\\'s last stand Both Ferde Grofe\\' & the Colorado River dug this national park His nickname was the \"Manassa Mauler\" Seaside resort that has a monopoly on East Coast gambling He entertained world leaders on his yacht \"Christina\" A thrilling destination for tight-rope walkers & honeymooners Jackie Gleason show that rejected titles \"The Lovers\" & \"The Couple Next Door\" He celebrated his 39th birthday 41 times Not a Hawaiian cow, but a dress worn by Hawaiian women British rockers whose name came from villain in sci-fi film \"Barbarella\" 8th most populous country in the world, this \"Bengal Nation\" was once East Pakistan Merchant ship that made the trip in 1620 from Plymouth to Cape Cod In \\'61 movie, Audrey Hepburn\\'s alternative to brunch in bed He went from the Ponderosa to the prairie Where you can\\'t go again in Thomas Wolfe title He didn\\'t find gold in the Klondike, so he wrote \"The Call of the Wild\" Royal neighbor of the Spruce Goose Shaw\\'s scorched saint Hindu hierarchy or a play\\'s actors Poignant movie in which Peter Sellers turned on the TV & tuned out the world Boxer whose life was portrayed in \"Somebody Up There Likes Me\" Notorious labor leader missing since \\'75 He wrote \"The 3 Musketeers\"; his son wrote \"Camille\" First colony since 1776 to break from Britain without consent, it is now Zimbabwe Washington proclaimed Nov. 26, 1789 this first national holiday Since \\'27, stars have made good impressions at this Hollywood site Formerly Formosa 2nd generation pop singer, he\\'s sung on every \"Love Boat\" voyage At some 500\\' long & with 9 masts, the \"Cheng Ho\" was largest of this kind Near or a purchase In court, he\\'d always make mincemeat of Hamilton Burger A fixed look, or Ginger Rogers\\' partner About 1/3 of Africa\\'s Pygmy population lives in what was once Belgian Congo \"Unsinkable\" for most of its maiden voyage in 1912 Adopted baby of Barney & Betty Rubble Between him & his wife, they licked the platter clean Why April 28th was a bad day for Capt. Bligh Sensitive Mart Crowley treatment of gays marching to a different drummer Irving\\'s bird-like hero chased by the Headless Horseman This title describes Carroll Baker\\'s thumb-sucking character & nightie she wore Last season, this series mourned the loss of Sgt. Esterhaus Burt Lancaster film in which his only friends were feathered Now totaling over $1 trillion, it began 11 days after Treasury was established in 1789 What Gary Player plays professionailly Didn\\'t see the fog Depending on the book, he could be a \"Jones\", a \"Sawyer\", or an \"Uncle\" Dutch is still an official language in what is now called Suriname In 1970 he had a \"Goodtime Hour\" Washington\\'s panda with pregnancy problems Affirmative reply to an admiral\\'s command Klugman\\'s coroner On March 18, 1891, this mode of communication was inaugurated between London & Paris Though unmarried & childless, he lives in the world\\'s largest residential palace In \\'63, 200,000 Washington marchers heard him say, \"I have a dream\" Series which pitted \"CONTROL\" against \"KAOS\" Olympic swimmer, or what a tobacco chewer does into a spittoon Oldest city in Canada It sank in Havana Harbor & set off a war According to Beach Boys\\' hit, state with the cutest girls in the world Though we \"love\" his \"day\", he\\'s been taken off calendar of saints This 19th century Philadelphia distiller\\'s name became slang for liquor Justice Hugo Black, a leading supporter of school desegregation, was once member of this group The name \"Palestine\" comes from these Biblical enemies of Israel Popular name of the Religious Society of Friends Italian-American\\'s have made this their equivalent of St. Patrick\\'s Day Shakespeare\\'s only comedy with \"comedy\" in the title A peasant, or where you hang 10 Dave Garroway\\'s sign-off, or a slice of cake Never swallowing, they sip, swish, gargle, then spit out what they sample \"To be or not to be\" Through sons Isaac & Ishmael both Jews & Arabs descend from him It\\'s where I came from with a banjo on my knee Richard Carlson \"led\" this number of lives as a communist counterspy & FBI agent State where you\\'d find Elvis\\' rain & Diamond\\'s woman Sorrowful O.T. prophet, his name now refers to predictors of doom Derived from Hindu word for \"5\", describing number of ingredients mixed in a large bowl Delilah gave him a real trimming Completes the line \"If music be the food of love...\" Crooner who was 1st offered role of \"Columbo\" but turned it down because he didn\\'t need the money Lucy & Desi\\'s TV production company The eve of All Saints\\' Day The alternate lyrics to \"I\\'ve Been Working On The Railroad\" Only 1 of the 7 wonders of the ancient world still standing Hugo\\'s hunchback In it, Puck comments: \"Lord, what fools these mortals be!\" Hamlet\\'s closest friend, only major character left alive at play\\'s end Only state carried by George McGovern in \\'72 election Every week this comedienne was \"so glad we had this time together\" In colonial Massachusetts, Puritans made this Christian holiday illegal In Hebrew its name means \"Sea of Reeds\" What Shylock demanded instead of interest Expensive onion, or what happens when there\\'s a hole in the bucket What Oliver Twist wanted, or Susan Anton\\'s diminutive date Plucked instrument brought to U.S. by slaves, now a fixture in bluegrass In 1935 Kreuger\\'s Cream Ale was the first beer sold in these By \\'97 they had air-filled rubber tires, coaster brakes & adjustable handlebars The last occasion Congress declared war on any country Patti Page hit that is official song of a southern state Pickle men, not doctors, do this for bacon & ham 4th note of the musical scale or \"a long, long way to run\" Costa Rican capital people might know the way to Italian for \"first lady\", the leading opera singer in a company It\\'s what bread has & matzo hasn\\'t 1 of 4 states that\\'s officially a commonwealth Actress who spoke the immortal line, \"Love is never having to say you\\'re sorry\" Romans called this African beast a \"tiger horse\" Its winds can reach 400 MPH East Indians who never ask \"Where\\'s the beef?\" The first patent pool was for this invention by Howe, Hunt & Singer Piano style sprung from the blues, it describes Bette\\'s \"Bugle Boy\" It\\'s divided into the Kanda, Marunoucki, Asakusa & Ginza districts Its Mormon founders called it Deseret Sport which uses epees, foils & sabres He invented the Franklin stove This capital\\'s street signs are in English, Arabic & Hebrew This gimmick introduced for the film \"Scent of Mystery\" was something to be sniffed at Erich Segal\\'s \"story\" A, B, M, P, or Z, for example Mary Poppins\\' magical, musical tongue-twister Tyrolean trick of moving the voice from natural to falsetto Home to NATO & little green sprouts Movie whose sequel was \"Class of \\'44\" Condition associated with London & pea soup Southern specialty & America\\'s favorite main dish Plays dead to escape predators, but one was close friends with an alligator Mt. Waialeale in Hawaii gets the most, while Calama, Chile, usually gets none Because of WWII, these 2 NFL teams combined squads in \\'43 to become the \"Stegles\" Deli delight, from Yiddish for Ring Region near Equator that took the wind out of Sinbad\\'s sails Name given to annual competition among U.S. amateur boxers A lady\\'s handbag or something done to lips before a kiss To avoid litigation, this type of insurance or divorce avoids affixing blame To Hamlet, \"Frailty, thy name is\" this 2,160 people at a time could ride on this at the 1893 Chicago World\\'s Fair Edison suggested it be used to record phone calls & make clocks talk Some hygrometers use a human hair to measure this A police wagon, a rice field, or author Chayefsky While a summons asks nicely, this demands your appearance in court A second prosecution for the same offense, or this round The only state to touch 4 of the Great Lakes Weighing 1½ tons per foot, this mammal generates up to 500 H.P. with its tail Actor who captained \"the mean machine\" in \"The Longest Yard\" The only flying mammal If the other twin had founded it, it might have been called \"Reme\" Used by a carpenter, a master sergeant, & a dentist An air bubble tells a carpenter if he\\'s on it In Czech, it\\'s herec; in German, schauspieler; & in Hollywood, usually unemployed Ex-Boston Celtics\\' star who has refused induction into Basketball Hall of Fame The only state beginning with \"A\" that does not end in \"A\" A black panther is really the black version of this cat Detection of gamma rays was 1 of the uses for this 1947 instant picture taker The L in L.P.G.A. Number of downs allowed in Canadian football to advance the ball 10 yards A gold statue of Prometheus towers over the ice rink of this N.Y.C. landmark Though historians debate it, she\\'s called \"The Virgin Queen\" Long-time companion of Dashiell Hammett, she was played in \"Julia\" by Jane Fonda Herman\\'s Hermits\\' song about widow whose 8 husbands all had the same name New York\\'s largest, it has more people than 41 of our 50 states Rubber is an ingredient in this type of chewing gum The Metropolitan Museum of Art has 200,000 of them Ironically, ex-con Ron LeFlore led the N.L. in these in 1980 South-of-the-border setting of the \\'68 Olympics U.S. coin 97.6% zinc Judith Krantz \"princess\" who reigned in novel & mini-series The only U.S. coin with the Presidential Seal Printing press inventor associated with the world\\'s most valuable book You can call me \"merry\" or you can call me \"hairy\" but you doesn\\'t has to call me \"Santa\" First visual effects Oscar went to Kubrick\\'s look 33 years into the future After 11 months in captivity, crew of this ship was released by N. Koreans To treat it \"you\\'re gonna need an ocean of calamine lotion\" Currency where you\\'ll find Lincoln\\'s name on front & back To help their owner pay off gambling debts, the 1920 Red Sox sold him to the Yankees 1st developed for the blind, they\\'ve become the most widely used business machine A 1939 college baseball game was the first sports event shown on this medium The Berlin museum is home to the famous bust of this Egyptian queen Playwright Edward Albee asked \"Who\\'s afraid of\" this respected British novelist When John Wayne always arrived with the cavalry Made up of over 7,000 islands, only Far East country with a Roman Catholic majority Colleen McCullough\\'s Australian saga Owned by tiny Denmark, it\\'s the world\\'s largest island Author, columnist, & TV wit who said, \"Housework, if you do it right, can kill you\" Ohio City named for an ancestor of the 24th president Though it represents a woman, his 5-story Chicago structure has been called a baboon Camelot \"ended\" when Jackie married him 4 little words carried on all U.S. currency Things are never \"hoop\" less for this Manhattan team According to Ray Stevens, \"He swings through the trees without a trapeze in his B.V.D.\\'s\" Of Henry VIII\\'s six wives, the number that lost their heads over him Replaced Adams in the presidency & the Indian on the nickel He broke S. Africa\\'s race barrier by transplanting black man\\'s heart into white body Tissue originally used as a WWI gas filter, but now literally something to sneeze at 1 of 3 Major League Baseball teams with state rather than city names \"The mother of invention\" Easter creature created by Gene Autry in \\'55 hit record Country credited with invention of pasta, porcelain, & paper Though a northern state, N.J. didn\\'t abolish it until 1860 Gambler who paid the \"Brice\" for marrying a famous Fanny He was Eddie Murphy\\'s partner for 48 hours \"Disarming\" statue unearthed by peasant of Greek island of Melos in 1820 \"She was afraid to come out of the water\" because she wore this scanty outfit Until 1949 a Dutch colony, now the world\\'s most populous island nation His only signed work is the \"Pieta\" in the Vatican 1st movie that newlyweds Newman & Woodward made together In Dec., 1941, Representative Jeannette Rankin cast the only dissenting vote on this issue They \"rush in where angels fear to tread\" Russia, France & Germany entered WWI in August of this year Asphalt bog that tourists log in L.A. Tags for luggage headed for this airport appropriately read \"LAX\" Olympic pullout was ordered by this successor to Andropov From early practice of pitcher facing west comes this baseball term for lefty Where Sally Ride took her famous ride Ship passengers are greeted & dunked by King Neptune 1st time they cross this D\\'Aubisson claimed Duarte fixed his election win in this country She was \"The Miracle Worker\" for Patty Duke\\'s Helen Keller Noel Coward song says only \"mad\" ones \"go out in the midday sun\" Winner of Tony & Oscar for royal role he\\'s been identified with since \\'51 Football\\'s imaginary plane which neither team may cross until the ball is snapped A vaccination is no longer required since this disease is eradicated Lerner & Loewe\\'s \"One Brief Shining Moment\" which ran from Dec. 3, \\'60 to Jan. 5, \\'63 This necessary document cost $10 in 1980, but is now $35 If the item is colored yellow & you use a red dye, the resulting color is this 492 years ago on Aug. 3rd, he set sail across the Atlantic Where Pirates steal bases Time barrier shattered by runner Roger Bannister in 1954 Rogers & Hammerstein\\'s \"Away We Go\" ran a record-breaking 2,248 performances under new name They symbolize family trees of N.W. Indians World\\'s fastest sport, free-fall speeds of 614 MPH have been recorded in this Alphabetically, it\\'s #1 The male stars tested their disguises for this \\'59 film by visiting studio ladies\\' room Shaky lady of \"Oh Susanna\" fame His 1st stage hit was \"I Remember Mama\" but he\\'s better remembered for shouting \"Stella!\" During \\'80s hostage crisis, dart boards bearing his face were a big seller Words were heated when Truffaut filmed this Bradbury novel \\'50s middleweight champ some say was pound-for-pound the best boxer ever Irwin Allen\\'s tall tale that went up in smoke Device Indians smoked as sign of friendship Non-sexist name for a stewardess Game where \"dribbling\" is \"offensive\" Some of the badges she can earn are: Horse Lover, Dabbler & Ms. Fix-it Both cyanide & laetrile are an extract of them To keep Indians out, Dutch settlers built a wall across this New Amsterdam street His masterpiece was painted as a protest against the bombing of the Spanish town \"Guernica\" In 1939, this scientist wrote FDR a letter explaining that an atomic bomb could be built Filing an IRS form 4868 gets you a 4-month extension from this date Ronald Reagan was also president of this union Poitier & Steiger made sparks fly in this \\'67 Oscar winner Runaway slaves used to hide with this tribe in Florida swamps Britain\\'s first female P.M., her popularity soared after Falklands war Poe\\'s tale of torture in a Spanish castle Age range of an octogenarian He was president of the 1st society to press for its abolition The word, phrase or clause a pronoun must agree with Kind of shot given to prevent lockjaw after a puncture wound Det. whose show was spun off from \"Barney Miller\", but thrown back due to small ratings Historic pass at junction of TN., KY., & VA., associated with Daniel Boone Where on his body an Arab would wear the traditional keffiyeh A painting of inanimate objects, not people One of two states ending in \"T\" It\\'s \"where the wind comes sweeping down the plain\" Exobiology is the study of living things here Number of stars on American flag raised at Iwo Jima South Seas garb worn by Dorothy Lamour on \"The Road\" Mountain range that surrounds city of Atlanta He was Dectective Lieutenant Dan August before he was Sharky He played father-in-law to Betty Jones & now is uncle to Matt Houston Any remedy which counteracts a swallowed poison \"Fish & guests stink in 3 days\" are among this almanac\\'s wise words Africa\\'s largest fresh-water lake, it\\'s main source of the Nile This \"hug\" is recommended as effective method to remove object blocking windpipe The thymus & pancreas of young calves are sources of this meat S. Africa\\'s form of segregation At last count there were only 70 of these head servants left in England His spectacle invention that\\'s a sight for sore eyes To prevent swelling & discoloring from a blow to the body, apply this kind of compress immediately Central Africa\\'s short people Total of trombones & cornets in \"The Music Man\" tune Tanganyika & Zanzibar joined to form this country Nobody wants to hear all of this camp song about decreasing containers of brew Full name for CPR French term for meat served in its own juice Ex-\"radio receptionist\" now\" partner in crime\" with Lynda Carter Found in rye bread, these seeds are also flavoring of kummel liqueur Square inches in a square foot This president is said to be related to John Kennedy, Princess Di & F. Mitterand When you step on these, they let out a little \"wine\" Kenyatta was leader of this bloody movement to end British rule in Kenya The hat in the Mexican hat dance The postal service actually showed a profit when he held this position A stew of various meats, a jar of mixed flower petals, or an old \"Jeopardy\" category State whose counties include Crockett, Zapata & Pecos Satanic term for food prepared with strong seasoning, as of eggs or ham Punctuation mark of the imperative mode The place you most readily find \"QWERTYUIOP\"; you can spell it using only these letters The interjection in \"Whew! This is a tough answer\" An unlucky Friday or a baker\\'s dozen In 1600\\'s, amateur Dutch scientist van Leeuwenhoek discovered bacteria by using this Wurlitzer\\'s pride, or what tissues grouped together form While either takes or, neither always takes this Serology is the study of this body fluid closely resembling sea water \"Foreign\" name for the end of a sleeve folded back & fastened with a link In 1642, they closed English theaters for 18 years Hottest temperature ever recorded was on this \"dark\" continent As he wished, the last play of Eugene O\\'Neill was produced after his death \"Inhaling the breath of a  loved one\" is the reason for this Eskimo \"kiss\" X-rated actress Koo Stark\\'s royal ex-beau Number of stars in U.S. flag raised over Iwo Jima Pattern design which came from the horse blankets of Richard Tattersall Marketing has begun on a line of nursewear from this TV medical show Named by Magellan for fires blazing on shore, it\\'s South America\\'s stormy southern tip Until 19th c., ones made of chicken skin were worn by women to soften their hands Speed of an LP Pair of lovers separated by a garden wall, they inspired \"Romeo & Juliet\" 43 consecutive days of 120º heat were recorded in this appropriately named Calif. valley Bathroom the British skip to Titan is the largest moon of this ringed planet Rejected as movie script, Broadway loved this fragile Tennessee Williams drama They got married in the final episode of \"Happy Days\" Specialty store in which you\\'d buy lug nuts & feeler gauges It forms a large part of Jupiter\\'s atmosphere or Earth\\'s kitchen cleaners Breeches cut full above the knee used for horseback riding Only hope remained after this ancient Greek\\'s box was opened National seashore resort that\\'s been \"burning\" off Long Island for years Howard Garis\\' bedtime tale-teller whose last name is Longears A grown-up acorn Words used instead of the cursing in Watergate tape transcripts City that\\'s often called \"the rubber capital of the world\" Played WJM\\'s man-hunting \"happy homemaker\" Sue Ann Nivens It\\'s where flowers \"sleep\" Color represented with white & red on the Irish flag Its foundation for polio victims was founded by FDR, who died here Number of vowels on the bottom row of keys of a standard typewriter The Van Allen belts surround most of this planet Soviet ship which docked with our Apollo in \\'75 Dramatic form, from Greek for \"merrymaking\" Truman\\'s state or battleship site of Japan\\'s surrender Editor Billie Newman & Joe Rossi worked for 19th century Norwegian playwright often called founder of modern drama Comet in 1973 which didn\\'t put on its promised show People whose gods included Odin, Thor & Loki She shot J.R. A flipper or a fiver Developed from radar research, it was first marketed for fast food preparation in \\'45 If you \"take the high road\", I\\'ll get there afore ye Espadrilles, clogs & \"tennies\" He \"lost\" a \"weekend\" but won an Oscar To question In the Middle Ages, monks presented \"mystery plays\" to illustrate stories from this You\\'d need an undertaker, not a styptic pencil after this was used by Sweeney Todd Originally called \"Challenge of the Yukon... Gold\" N.M.I. means this, as used in the name John (N.M.I.) Smith The science which deals with the motion & behavior of bullets State nickname shared by South Dakota & Florida Its use was abolished in France in 1981, 188 years too late for Marie Antoinette Hubert Humphrey\\'s running mate in \\'68 Radio voice of Superman, on TV he knew when \"To Tell the Truth\" & how to \"Beat the Clock\" City-state ruled by Pericles Chrysler Corp. pres. considered by some Dems. as potential V.P. material Called the Schwarzwald, it\\'s the deep dark woods of fairy tale fame Ridley Scott\\'s dim futuristic film view of Los Angeles The mark left by George Hamilton\\'s \"gay blade\" The moving tower used to service space launch vehicles or Burt\\'s Oscar-winning \"Elmer\" Founder of \"Lyceum\", his students walked with him as he taught The sword in the stone from the Lady of the Lake 19th century flag nicknamed \"Stars & Bars\" John Denver\\'s country roads lead to these West Virginia mountains What you\\'re \"stuck with\" boiling down collagen, softening it with hot water & letting it swell aka the harvestman, it was Leslie Caron\\'s name for Fred Astaire in \\'55 film Fahrenheit equivalent to 0º Centigrade It was his partner, James Marshall, who actually discovered gold at his California mill in 1849 Rex Harrison\\'s \"Fair Lady\" and Burton\\'s Guinevere Its full name is \"Liberty Enlightening the World\" Musical in which Lester Billis was Nellie Forbush\\'s \"honey bun\" Winning a birling contest is as easy as not falling off this National Park famous for faithful aquatic eruptions This city\\'s subway is the oldest in America The 1st group to identify itself as 1 of these was Gamma Phi Beta in 1874 In 1808, this metalsmith made copper plates for a Fulton steamboat boiler Contrary to name, this world\\'s largest island is primarily icecap 1931\\'s \"The Band Wagon\" was the last time this brother & sister shared the dancing spotlight In return for Missouri\\'s admittance as a slave state, this N.E. state was brought in as a free state Colorado senator who served as McGovern\\'s campaign manager in \\'72 In 1967, Broadway said \"hello\" to this 1st black \"Dolly\" Only Universal Studios\\' special effects & Moses could part it Number of eyes some spiders have & legs all spiders have You might have to put F. Lee Bailey on one to admit he had a show about one Seminarian who became California\\'s \"Guru Governor\" The name of poetry with a lyre accompaniment He \"knows what evil lurks in the hearts of men\" Initials in common to all members of Lyndon Johnson\\'s family The Greeks\\' word for world or Sagan\\'s word for universe Scientific name for spiders, from Greek woman who unwisely challenged Athena to spinning contest This popular tourist destination was annexed in 1889 due to pressure from sugar planters \"Amazing\" home of the Minotaur Penny and Clipper\\'s Uncle Schyler, who flew from radio to TV The Green Hornet\\'s chauffeuring sidekick All spiders spin it but not always into webs Honolulu is on this Hawaiian island 2 of 4 countries bordering Greece Until Swanson offered them in \\'54, you couldn\\'t officially eat in front of the boob tube He was 1st of several chimps featured in the early days of \"The Today Show\" In 1967 he was kicked out of the House of Representatives for reprehensible behavior Cytology is the study of these biological building blocks Second largest planet in the solar system Though never declared, it was the longest war in which America took part Won medals for helping British in South Africa but his opposition drove them from India Still seen in Thanksgiving parades, Wally Cox gave this hero his voice While Lassie was played by a male, this dolphin was played by a female From Greek for \"milk\", a system of stars such as the Milky Way 8th most populous city in the world, it was once capital of Brazil It\\'s what LBJ showed off to reporters in October 1965 Sports event that set off a 1969 war between Honduras & El Salvador Reputed site of Columbus\\' tomb, it\\'s capital of Dominican Republic Spaniards started war in colonial America by cutting off this part of Robert Jenkins\\' body Jean Nidetch in 1963 lost 72 lbs. & started this company He originated \"The Origin of Species\" Singular form of the word \"bacteria\" His archenemy, Dr. Sivana, nicknamed him \"The Big Red Cheese\" The seasick sea serpent In 19th C., Brazil, Argentina & Uruguay wiped out over 80% of this nearby country\\'s population The material cost of this war was greater than all other wars put together In \\'61 this oil billionaire installed a pay phone in his mansion for guests to use In 1946 Norway\\'s Trygve Lie became 1st to hold this post Brand of cereal thou could 1st buy in 1901 In 1868, a Mobile, Ala. Mardi Gras parade 1st featured these To nearest ½ day, time it takes Moon to orbit Earth Poshest of all Swiss ski resorts In this series, Starbuck\\'s little friend Boxie had a pet Daggit California mission town which is annual destination for famed swallows Stars forming patterns as seen from Earth, such as Orion Since independence in \\'45, Sukarno & Suharto have been this island nation\\'s only presidents The Inquisition forced him to retract his belief the Earth orbits the Sun The pari-mutuel system lets you do it legally Negative particle that orbits an atom\\'s nucleus Minneapolis\\' \"twin\", it\\'s capital of Minnesota A sound\\'s repetition by reflection Combat candies made to melt in a GI\\'s mouth, not in his hand In the TV show \"Maya\", it\\'s what Maya was By 1966 the Air Force had logged 10,147 sightings of these, but didn\\'t believe any The first ones had to be nurses to serve coffee, tea or milk Race horse that runs well on a wet track, or a Bronx mommy Race where faster horses carry more weight than slower ones He\\'s been played by Reeves & Reeve Originally Reed Richards, his wife Sue, The Human Torch & The Thing The glass curtain at Mexico City\\'s Palace of Fine Arts was made by this company According to rules, the strike zone in baseball extends from the batter\\'s knees to here In the Spring of 1950 Arthur Godfrey gave TV lessons on playing this instrument When Ken Berry took over, \"The Andy Griffith Show\" was renamed this Arnold Zenker replaced this trusted CBS newsman during a 13-day union strike in 1967 Verdi fans always want \"moor\" of this Shakespearean hero Bacall\\'s last word on how to whistle Country that\\'s larger than U.S. but smaller than Canada The real Hiawatha united Mohawks & 4 other tribes into this confederation The number of laps run in the Indy 500 This bowl game changes location every year The Spanish-American War led to this Caribbean country\\'s independence Basic material used to make casts About 90% of all glass is made from this material The most common bird on world flags Jesus said that only \"he that is without sin\" could do this He wrote Brunhilde\\'s immolation, opera\\'s longest aria of nearly 15 minutes This \"glass yarn\" serves as insulation & the Corvette\\'s body \"Bubbles In The Wine\" was the appropriate title of his theme song He lived to be 969 years old He\\'s also known as the primate of all England \"Gene, Gene, the Dancing Machine\" was among the \"talent\" on this Chuck Barris series President whose only military service was in Illinois\\' Blackhawk War in 1830 Horses are hot to do it A small terrestrial telescope Britain\\'s 4 PM \"coffee break\" A small shrub or Reagan\\'s V.P. A filly becomes a mare at this age Africa\\'s northernmost country, it was once site of ancient Carthaginian empire What R.N. stands for Nickname for London\\'s financial district The Blue & White Niles meet at this city where Gen. \"Chinese\" Gordon met death Buffalo-skin covered homes of Plains Indians Any abnormal tissue mass with no physiologic function Nickname for a football To evade French defenders, the Germans attacked France through this country in both World Wars He was the first American in space This canal\\'s official opening was on July 12,1920 Maryland\\'s state bird & state baseball team In 1870s cartoonist Thomas Nast gave Democrats & GOP these symbols Some 30 years before his cousin\\'s New Deal, he gave us a \"Square Deal\" Continent from which Indians\\' ancestors came to America This \"crazy\" North American diving bird has been found at depths of 160 feet Though few of them ever did it, the name \"Nez-Perce\" means this Pres. Wilson founded this world organization which America never joined English barons forced this royal enemy of Robin Hood to sign the Magna Carta Though he never slew any dragons there, he\\'s England\\'s patron saint Foie gras in France of chopped liver at Aunt Esthers\\' Woodcocks\\' eyes are so far back on their heads, they have this unusual field of sight The longest of the 2 \"Testaments\" Collective name for domesticated birds raised for meat & eggs As famous for his marriages as his music; once wed Ava Gardner & Lana Turner In \\'67 this last king of Greece went into exile Its name comes from the Middle English word \"bumblen\" In 1937 he was \"in the mood\" to start a band He wrote the Howard Hughes \"autobiography\" that sent him to jail Some 40% of this country\\'s land has been reclaimed from the sea White supremacy group depicted as heroes in film classic \"Birth of a Nation\" Former Secretary of State for whom Washington, D.C. International Airport is named Nickname of late Washington Senator Henry Jackson Color of a lucky \"letter day\" While 2 of its wheels head toward produce, 1 goes to dairy, the other to checkout Tennis serve that touches net before dropping into proper court, it\\'s replayed 287 miles long, it flows past Washington & induces \"fever\" in ambitious politicians You win this when you pick the winners of 2 successive horse races This red bird is the state bird of 7 states Varieties include Chinese & Dijon \"Royal\" bandleader whose first two names were Edward Kennedy 19th century Sardinia took the lead in unifying this country Broadway\\'s nickname 32 inmates & 11 guards were killed in \\'71 uprising at this NY prison Though this mound rises only 8 A sideways handspring Johnny Cash is known for wearing only this color on stage Only 4 state governors serve terms this long On an official archery target, it\\'s the color of the bull\\'s eye A large crowd of bees on the move Also known as an alligator pear The 1st graduate of the U.S. Naval Academy to become president A wunnerful, wunnerful bandleader Only predominanty Muslim country entirely in Europe In his best English Bronx accent he cried \"Yonder lies the castle of my father\" Baby book author who ran for president in \\'68 The 3 colors that make up the dots on a color TV screen For the first time in \\'68, the Academy Awards were held in this auditorium, its current home Benny Goodman got good \"vibes\" from him The 3 classes of a honeybee colony Type of food that comes in shapes of bow ties, elbows & wagon wheels Turned down to be an \"Our Gang\" member, she became top box office star of 1935 You can load it in your 8-track Common name of an apiculturist Florida Congressman who champions the senior citizen Both in size & population, it\\'s largest Scandinavian country What the letters in \"scuba\" stand for The non-chocolate version are called \"blondies\" What the \"D.C.\" stands for The District\\'s oldest neighborhood, it was named for a king Baby, sky, & steel Depending on the species, a bird can have 940 to 25,000 of them Despite his \"fortunate\" nickname, this gangster was deported to Italy in \\'46 California vegetable with a crown & a heart Name of FBI \"sting\" operation that sent 4 former Congressmen to prison in \\'83 All 16 species of the Hawaiian honeycreeper are on this list U.S. ambassadors to this country have included Anne Armstrong & Joseph Kennedy Slang for a construction worker From Latin \"to gnaw\", there are more of this group than all other mammals combined The 1st permanent English settlement in America Bavarian village famous for its passion play Sam Rayburn Reservoir is this state\\'s largest lake Mathematical function people in the Bible were always going forth & doing The Middle East\\'s popular pocket bread \\'50s fuzzy frontier fad The end of a river that empties into a lake or ocean In 1978, this pope reigned for only 34 days Since 300 A.D., this region of N.E. France has been traded 7 times by Germany and France City Wiener Schnitzel is named for \"The Eternal City\" After 1st breaking the engagement, Lincoln went on to marry her Only wife of 1 president & mother of another These 2 former Olympic athletes became movie Tarzans In mammals, trait determined by presence or absence of Y-chromosome Number of degrees in a circle This western topper actually holds only about 3 quarts The film in which Bing sang about a white Christmas & an Easter parade In \\'62 Adlai Stevenson eulogized: \"She would rather light candles than curse the darkness\" A small Oriental orange or a division of Chinese cuisine A German river or the wine grown on its banks Graduate\\'s cap, it sounds like a plasterer\\'s tool Only U.S. civilians ever executed in America for espionage Colonial Maryland was founded as haven for members of this church What the farmer\\'s wife did to 3 unlucky mice Either of 2 Marilyn Monroe films with \"watery\" titles Because of this rule, no horse has ever won the Kentucky Derby twice According to Andy Griffith, \"Everything\\'s good that sits on\" this cracker Finned on fish, scaly on lizards, nonexistent on humans & manx cats Virginia Governor Charles Robb\\'s mother-in-law The formula for its volume is V equals pi r²h Liz\\'s Nicky Hitler said this Polish capital \"must cease to exist; level it\" Located in Oregon, it\\'s the deepest lake in North America He shouts the commands in crew racing \"Reconstruction\" was the 13-year period following this It\\'s where relief pitchers, not matadors, warm up In 1959, \"Maverick\" won the Emmy for this category, only year it was given 16th century development of a pig muzzle was a landmark in harvesting this fungus Logarithmic tool outmoded by the calculator Total meters in a hectometer She 1st met husband while complaining to S.A.G. about unwanted Communist literature Moscow park that was scene of murders investigated in recent best-seller & film Collective name for poisonous mushrooms It\\'s California\\'s 2nd largest in population Where the crooked man, the crooked cat, & the crooked mouse all lived Because like an eye, they close at night, the English first called these flowers \"day\\'s eyes\" Pliny the Elder, Roman geologist, died while observing this volcano erupting Rainwash, wind action & differential weathering formed this S. Dakota area Extreme economic expansion At the count of 7, all good children go there What MTV plays 24 hours a day Type of plant the British call a \"creeper\" He killed Cock Robin The larger Kansas City is in this state Comedy group which went from CBC to NBC to Cinemax Time when the raven came rapping What some do before they diet The kumquat is in this fruit family In \\'65, it took Muhammad Ali less than 2 min. to beat him Colors that blend to make chartreuse His flagship station is WTBA, Atlanta Gatherings of this type of grasshopper have covered 2,000 square miles at a time Mother Goose\\'s mode of transportation Earth\\'s atmosphere layer which lies between the troposphere & the mesosphere Length of a full count Term for tossing the terrycloth Favorite movie munch, introduced to the Pilgrims by the Indians Actress who started the \"Faerie Tale Theatre\" Ring Lardner, Dalton Trumbo, & Will Geer were on one in the 50s The Bible says a sluggard should consider this industrious insect This film\\'s \"Evergreen\" earned Barbra a composing Oscar When you\\'re blooming with health, you\\'re \"in\" it These insects flash yellow lights to find mates Its name comes from its worshipful appearance, not its voracious appetite The mouth of the Mississippi or a Helen Reddy \"Dawn\" The Star of India is this type of precious stone Something you can\\'t do without Prison people In \\'81, he got $12 mil. for beating welterweight Thomas Hearns His kisses drove girls to tears Meaning of TKO Cable channel where you\\'d find \"Mouseterpiece Theatre\" \"Cooties\"; the lousiest insects of all The Alamo is in the downtown of this city It was said rajahs gave their rivals these animals to create financial burden Via St. Lawrence Seaway, ships from Europe can reach this largest Minnesota port Though not a Pilgrim, he organized their militia & was written up by Longfellow Though it\\'s been moved, it\\'s still revered as Pilgrims\\' landing spot Colorful causeway Elton John bids adieu to in \\'73 hit Delaware, Iowa, or Dakota For 10% of the bail, he\\'ll spring you from jail This \"lowest point\" figured in Ronald Reagan\\'s career Said to be a be a weapon in the Philippines, Duncan made them toys for the U.S. Called hyperopia, it\\'s the opposite of myopia These were first made in 1887 by German physiologist A.E. Fick Australian bay named for the many plants growing on its shores Over 1/3 of its population lives in its capital, Montevideo Snooty specs on a stick Nickname of Gil Gerard\\'s futuristic Capt. William Rogers What a fletcher makes To give by will As Duke Ellington wrote, \"It don\\'t mean a thing if it ain\\'t got\" this Alexander Pope said \"it springs eternal in the human breast\" The 2 states that don\\'t border any others Midwest state whose native sons include Marlon Brando, Nick Nolte & Henry Fonda Crazed by presence of blood, these carnivorous fresh-water fish even eat each other Horse racing fixtures the British call \"turf accountants\" Coldest, most northern desert in the world Many of them left France when Louis XIV revoked the Edict of Nantes Fishing from a moving boat People with this deficiency can\\'t get mad and see red With the Angles & Jutes, they conquered 5th century England What \"Satchmo\" played Ancient Yucatan tribe that had no schools but were excellent astronomers Artist famous for her paintings of the deserts of the American southwest In \"Trees\", he claimed that \"poems are made by fools like me\" Greek for \"fertile land\", buildings are built around but not on these watering spots Famous William Hudson novel set in South American jungle Omar Khayyam\\'s ancient Iran Quality of a Scot\\'s brogue which makes the \"R\" r-r-r-oll The 2nd book of the Old Testament Parker Bros, has made balls, boomerangs & ping pong paddles out of this soft material Stuffy British monarch who said when she saw herself imitated, \"We are not amused\" Goodyear\\'s gasbag Cypress Gardens show done on water, not on snow Image of worship built of old jewelry while Moses was on the mountain He raises penmanship to a fine art You have to keep an eye on this M.D. Oceangoing boats can travel 2300 miles up this river to Iquitos, Peru Competitor in this sport was the model for nude male torso atop L.A.\\'s Olympic gate Region originally called Indian Territory, it now has no Fed. reservations Western neighbor of Tenn. & Miss.; it has only diamond field in N. America Total number of dots on the highest standard domino According to Reader\\'s Digest, it\\'s the best medicine Thrown out by G.E. in 1949, this stretchy stuff became a national fad Name of yacht immortalized after winning the 100-Guinea Cup away from England in 1851 Lowest member of a movie crew whose job is to \"go for\" anything The Wolverine State, in 1847 became 1st to abolish capital punishment In \\'38, the Munich Agreement allowed Germany to partition this country As scissors beats paper, so paper beats this Old-man, hedgehog & barrel Position of ball after a stroke, which is sometimes a fib The black & white bear of Walter Lantz cartoons Common element whose refined forms include pig, cast or wrought Penitents once wore this rough cloth with ashes Niagara Falls borders on this Canadian province Bo Derek film released unrated so it wouldn\\'t get an \"X\" Nicaraguan guerrilla group that overthrew Somoza Police equipment featured in ads for Clint Eastwood\\'s \"Tightrope\" 1st president to refuse a 3rd term Including, in 19th century, one quarter of world\\'s land & people, the sun never set on it The 4 large veins that return blood to the heart from the head & neck \"Grimm\" stories The Ryder Cup matches are between pros of these two countries Type of organism that lives off of another, contributing nothing Second U.S. president, he was the 1st defeated for re-election An 8-hour static film of the Empire State Building was done by this pop artist Gene Wilder\\'s remake of the \\'77 French comedy \"Pardon mon Affaire\" Asia\\'s population giant, finally admitted to U.N. in 1971 Shattering sound that accompanies breaking the sound barrier Named for an island, these \\'50s shorts are fashionable again A turkey\\'s wishbone or your collarbone A typical snowflake has this many sides Kind of people Randy Newman \"don\\'t want\" \"\\'round here\" Howard Hughes designed a cantilevered one for voluptuous Jane Russell Language of Chaucer \"Taxi\" reverend who played bad guys in \"Star Trek III\" & \"Buckaroo Banzai\" In 1888, it was last country in W. Hemisphere to abolish slavery This \"cheeky\" muscle is the body\\'s largest Where a doctor \"hammers out\" a patellar reflex Though Detective Pinkerton saved him once, he later became 1st assassinated president In \\'76, Judy Rankin was 1st woman pro to win this amount in a season 32 body appendages you masticate with \"Edible\" name for a double-breasted wool navy jacket \"A Family Affair\" was the 1st of 15 films in this Mickey Rooney series In his memoirs, he insists he really won in 1960 After length, width & depth, the 4th dimension \"Super Mex\" Donny Osmond made his debut at the age of 4 on his show In the \\'20s, Hemingway & Fitzgerald were among these \"missing\" literary offspring Phrase \"My hat is in the ring\" originated with this 1912 \"Bull Moose\" candidate Reg Smythe\\'s pub-crawling comic strip husband of Flo Sinatra, Gifford & McGee or Germanic peoples who helped conquer Rome Literary point of view when I write like this \"Flashdance\" song whose lyrics were changed to make a mad killer a mad dancer Teenagers\\' tooth wear or what the British call suspenders Though originally a comic, he was 1st black regular on a U.S. dramatic TV series \"Working\" party that 1st came to power in 1924 Natural vanilla flavoring comes from this tropical flower 1949\\'s Best Picture, its title came from \"Humpty Dumpty\" After playing the nightclub circuit, he broke into movies with \"What\\'s New, Pussycat?\" Heavy winds sank more of this famed Spanish fleet than the English did The date on the tablet held by the Statue of Liberty Subtitled \"How I Learned to Stop Worrying & Love the Bomb\" Land animal with the largest teeth The \"ship of the desert\" Name of the sport of hunting birds with other birds It\\'s across the Danube from Pest Floating sea creature named by sailors for the Iberian fighting ship it resembles State once represented by James Buckley & Jacob Javits Master of the pause followed by \"Now cut that out!\" Ironically, he spoke the only word in Mel Brooks\\' \"Silent Movie\" Located in Alaska, it\\'s North America\\'s highest peak 1930 film where Peter Lorre plays a child murderer \"Diffraction\" refers to the way it bends De\"faced\" by sand & invading armies, it crouches near the Great Pyramids Comic whose \"Trial by Fire\" fueled his comedy routines In music, the seventh tone in the diatonic scale of C Number of Senators from each state The children are poults, the mothers, hens & the fathers,toms This prize did not have an economics category until \\'69 British decoration named for former queen In 1881, this punishment took a beating & was abolished by the British Navy \"Sly\" creature sought by sportsmen riding to hounds Abu Dhabi & Dubai are 2 of the 7 states that make up this Middle Eastern federation In 1707, the Act of Union united these 3 countries to form Great Britain His statue is atop Philadelphia\\'s City Hall World\\'s largest office building, named for its geometric shape What Paul Newman\\'s \"Hustler\" hustled NBC sci-fi series about alien lizards invading Earth He may disagree with Gene Siskel, but he won \\'75 Pulitzer Prize for Film Criticism Stratigraphy is a branch of this science Letter reversed in the name of what a giraffe calls \"The World\\'s Biggest Toystore\" The 2 primary ferrous metals France\\'s Unknown Soldier lies beneath this Champs-Elysses landmark Elected office held by president of the Senate Pat Paulsen ran for president on their controversial \"Comedy Hour\" On TV, letter on Miss DeFazio\\'s blouses New Zealand, Midway & Hawaii are all a part of this \"many islands\" group 2 of the 3 countries that make up the Benelux Economic Union Last monarch of the House of Tudor Since \\'32 the U.S. Badge of Military Merit has had this colorful name 26 years after writing it for the stage, he won Oscar for the screenplay \"Pygmalion\" The ceiling of its capitol features a lone star With India\\'s help Bangladesh broke away from this country West Coast newspaper that owns Long Island\\'s \"Newsday\" His brilliance on the violin might be explained by his unusual hand formation Slang for parasitical hanger-on, or what Peter Fonda played in \\'69 Followed the Stone Age; named for copper alloy people used for tools & weapons 1899 device for attaching papers that can ruin a computer disc when magnetized In her 1st film she sang with \"Alfalfa\" Switzer; in her next, she was paired with Lassie Symbolic colors of opposing sides in Northern Ireland The New England state without an Atlantic Ocean coastline In spite of \"koochie koochie\" image, she\\'s an accomplished guitarist Only U.S. state with a \"Z\" in its name Pioneer of multi-track recording, he was creator of popular Gibson solid-body guitar Oliver Hardy\\'s co-star in \"The Fighting Kentuckian\" What BMW stands for She won 8 Academy Awards with only her clothes appearing on screen Where all roads were supposed to have led A bridge has been proposed to connect Long Island & Rhode Island, across this waterway The Chinese once regarded calligraphy as a branch of this art Way you can have your eggs or Mary Martin Fermented apple juice Wash., D.C.\\'s 2nd largest paper, The Times, is published by members of this church The Empire State 8th state of the Union, it was the 1st state to secede Brando was 2 when his mom appeared on stage with this dad of Peter & Jane Civilization of sailors that developed 1st Western alphabet 1st one to attempt sinking a warship was the \"Turtle\" in the Revolutionary War The Cavaliers opposed the close-cropped Roundheads in this country\\'s civil war \\'30s domestic comedy radio show featuring Goodman Ace & wife, Jane Its people called it \"kemet\", color of black, from land after flooding by Nile Early ones were called the \"hobby horse\", \"penny-farthing\" & \"high-wheeler\" Movie title which refers to a \"handful\" of etudes He now owns the New York Post, Village Voice, Boston Herald, Chicago Sun-Times & San Antonio Express GM car named for Indian chief who tried to take Ft. Detroit Major New York daily that runs no comic strips Descriptive of Mike Hammer, Private Eye, or a 20-minute egg Album & film featuring \"Tell Me Why\" & \"You Can\\'t Do That\" After inventing the lever & pulley, this Greek said, \"I will move the Earth\" Daimler & Benz borrowed this name from a friend\\'s daughter Reason people used to stick a trumpet in their ear In 1903, barbital became the 1st of this type of drug \"Fulton\\'s Folly\" The Shannon River, longest in the British Isles, is in this country Among his famous \"pianos\" have been his bed & swimming pool The 3 stars of \"Rebel Without a Cause\" who met with untimely deaths Roaring \\'20s president who was a journalist by profession Lysergic acid diethylamide TV role Brian Keith judged OK to play Name of Franco\\'s party in Spain & main Christian party in Lebanon He succeeded Arthur Fiedler directing the Boston Pops Its starving children symbolized the defeat of this Nigerian region',\n",
              " 'While poets pour over the Rhine & Danube this 2nd largest German river gets no press A result or consequence, or immediately following multiplication Boston\\'s \"Green Monster\" is in this stadium Organic & opaque, they represent purity & virginity During one in a hospital, your brain should think \"cheese\" This lake in the Banff National Park is the most visited place in the Canadian Rockies It means extreme fear or anxiety in German or English \"Satanic\" mammal found only on island S. of Australia According to both Burns & Steinbeck, their best laid schemes \"gang aft a-gley\" Title describing Tom Cruise\\'s precarious commercial enterprise 1 of 2 animals on its coat of arms Marie Curie named this element for her native land Elizabeth Taylor character that could have burnt her paws on a hot tin roof In \\'84, he became 1st manager to win over 100 games with teams in both Major Leagues Flying buttresses & ribbed vaults characterize this 13 c. style It\\'s where the leg bone\\'s connected to the foot bone Ancient weapon kept a stone\\'s throw from its target From Turkish meaning \"lighthouse\", it\\'s a slender, lofty tower attached to a mosque Malcolm McDowell & Nastassja Kinski\\'s \"purr\"fect roles in 1982 Now a paper company sales rep, he pitched only perfect game in World Series history He solemnly swears you in, in court The Atlanta Braves are in this division of the National League Body of water, currently crossed by the 1831 London Bridge Eddie Gaedel, number 1/8th, was the only one ever to play in the Major Leagues 1st Tuesday after the 1st Monday in November Ub Iwerks, Friz Freleng & Tex Avery drew the line at this job In the Old West they were in charge of horses, on a movie set in charge of chickens Simon Rodia built these fairy-tale structures in a South L.A. ghetto Subtitled \"The Search for Spock\" Moveable part of airplane wing providing lateral control In 1671, Milton wrote \"Paradise Regained\", a sequel to this Metallic element essential for strong bones & teeth The rooster was symbol of this party before Thomas Nast drew their new one in 1870 \"All stories, if continued far enough, end in death...\" he wrote in \"Death in the Afternoon\" Metal with highest melting point, it\\'s commonly used in light bulb filaments Stone of Laz, the Arabian goddess of love English title of 7-part novel \"A la recherche du temps perdu\" by Proust Traditionally speaking, as this state goes, \"so goes the nation\" It gets things going in a chemical reaction Film where Lily Tomlin is really Steve Martin\\'s better half Language in which Browning\\'s \"Sonnets from the Portuguese\" was originally written He called himself \"the plain people\\'s pres. against the privileged people\\'s Congress\" Mozart\\'s middle name becomes a movie Unyielding or inflexible \"Shrill\" name for train tour electioneering 2 of 3 orders of Greek column styles Prior to his \\'59 death, he was planning a mile-high skyscraper Eliza Doolittle did it for a living Turin is the only major city on both banks of this river Containing a source of the Nile near Jinja, this country\\'s surface is 1/6 water Melville title sailor who personifies innocence From Latin \"nasus tortium\" meaning twisted nose, due to this plant\\'s pungent qualities The only national capital to begin with a \"Q\" is this, Ecuador\\'s Half a city, it\\'s capital of East Germany Chuck Berry\\'s way of saying \"Step aside, Ludwig\" \"The Crucible\", his 1953 play about Salem witchcraft trials drew a parallel to McCarthyism From French for \"small pan\" it\\'s a traditional Spanish dish made of seafood & saffron flavored rice Sponge cake baked in the form of a female digit Block Bros. of Wheeling made \"Mail Pouch\" a popular brand of this From German for \"little cake\", the Lorraine style includes cheese & bacon bits From 1965-80, Testor Corp. made over 2,435,000 gliders powered by this office supply Artificial grass named for the site of its 1st installation The 1st line of the chorus of the \"Beer Barrel Polka\" 1 of 2 Paul Simon hits that fit this category Maurice Chevalier\\'s contract with Paramount would have been invalid if he\\'d lost this The Indonesian smorgasbord, \"Rijsttafel\", means this Old world monkeys are both arboreal & ground-dwelling, but all new world monkeys are this type In 1806, brine well drillers in Virginia were mad when this came up with the salt water Nero sent an expedition out about 60 A.D. to find the source of this great river His lovesick narrator begins, \"Lolita, light of my life, fire of my loins\" Along with Argos & Thebes, they made up the 4 earliest city-states of ancient Greece Harare, capital of Zimbabwe, was called this when the country was Rhodesia In March, 1985, Michael Lewis, intending to fly to Oakland, Cal. inadvertently ended up in this city How love was for Ashford & Simpson in 1985 Actress whose exercise plan is called \"The Body Principal\" World\\'s largest indoor stadium is the domed one in this city Mirrors & photovoltaic cells are among the devices used to collect this From Greek \"krokos\", meaning saffron which this flower produces In it, Rick tells Ilsa, \"I remember every detail; the Germans wore gray; you wore blue\" Roman slave famous for broaching a \"thorny\" subject with a lion Though born in Manassa, Colorado, this fighter grew up in Logan, W.V. Sellouts have been the rule for years at this, the Washington Redskins\\' home stadium Not until 1939 did West Virginia pay off its 68-year-old financial debt to this state Mussolini\\'s party name came from this bundle of rods bound to an ax, a symbol of ancient Rome The French call it \"A.C.\", the Italians \"D.C.\", a 12-hour NBC miniseries called it this To do this in \\'55, you had to \"put your glad rags on\" Three Rivers Stadium is located where 3 rivers meet in this city At 3 times proportional size of any other primate the tarsier has a colossal pair of these \"Yippie\" leader who wrote a book called \"Steal This Book\" Bela Lugosi was reportedly buried in the cape he wore for this role From Turkish for \"turban\", these flowers were 1st grown in Turkey, not Holland Now a real estate developer, this actor opened up territory as \"Daniel Boone\" Primate Desmond Morris called \"the naked ape\" Since his 1st lead in 1930s \"The Big Trail\", he starred in more films than any other actor Cheek color of Whittier\\'s \"Barefoot Boy\" While Paris is on the Seine, this Belgian capital is on the Senne Produced from peat under pressure, Loretta Lynn\\'s dad knows all about it N.Y. stadium that now seats 13000 fewer people than it did 15 years ago Towering snack named for comic strip character whose nocturnal noshes cleaned out the fridge Ape found on Sumatra, Borneo, & in \"Every Which Way But Loose\" Now a retired brig. gen., this West Virginian was 1st to fly faster than speed of sound In 1979 Soviet troops began occupying this Afghan capital While prisoner of the Germans in WWII, this French existentialist wrote some of his greatest work Starsky & Hutch\\'s David Soul made his recording debut with this soulful plea After they fell asleep at the drive-in the Everly Brothers had this to say National chain of hotels often referred to as \"HoJo\\'s\" An American Indian word for food, now the basis for a common style of grits DDT commits this Where actors wait, or 1st time comedians on \"The Tonight Show\" try to keep their dinner down Gall & he led the attack on Custer\\'s 7th cavalry Term for what Cain did to Abel Jeremiah rhetorically asked, \"can it change its spots?\" In 1954 Conrad Hilton wrote checks for $97 million to purchase this entire hotel chain The 2 \"superpower\" adversaries of the French & Indian War Central Park\\'s famous eating establishment From Greek for \"easy death\", painlessly pulling the plug Where you\\'d be going \"by the old mill run... in the noonday sun\" 2 of the 5 \"Civilized Tribes\", so called because they resembled European nations in structure In 1977, The Eagles checked into the #1 spot on the charts with this song Asian nation 2nd only to U.S. in meat production Until their near extinction in the 1880s, they were the plains Indians main source of food In 1975, independence of this S. American country caused mass emigration to the Netherlands California\\'s famous Ahwahnee Hotel is in the heart of this national park \"Just Men\" had 7 keys & 1 of these, while \"Split Second\" had 1 key & 5 of these Over 90% of the world food supply comes from farms or ranches & the rest from these 2 methods Samson killed one of these with his bare hands This 17th C. Dutch Jew was excommunicated from his synagogue for his independent thinking Waylon Jennings\\' maternal admonition Recently, New Jersey had the highest value per farm acre & this other \"New\" state the lowest Until the 1700s, this city was noted for its fine blue patterned china Jon Bauman & Gene Rayburn passed the mike for an hour when these games combined in 1983 This payment plan includes both lodging and meals Farms on this continent average about 5000 acres Joseph explained Pharaoh\\'s dreams of 7 clean ones who ate 7 fat ones but still remained lean The 2nd of Egypt\\'s plagues was hoards of this amphibian As of March 1985, 3.46 of these equaled the American dollar Today very few Hollanders can be found clompin\\' around in these \"klompen\" In \\'80, Diana Ross was \"inside out\" with this #1 hit When asked about his condition this president said, \"I don\\'t have ulcers, I give \\'em\" They licked the sores of Lazarus & ate the flesh of Jezebel French soldier & mathematician whose motto was \"I think, therefore I am\" In \"Thus Spake Zarathustra\" this 19th century German declared, \"God is dead\" Greek philosopher whose works were the basis for most scientific study well into 17th C. A retailer of fresh fruits & vegetables, or TV\\'s Joe Carcione Queen Juliana\\'s daughter, she is the present queen of the Netherlands Her dog dies in the 2nd verse, probably from malnutrition Refers to the moon when it\\'s more than half but not completely full The only 1 of the 7 dwarfs without a beard, though he was probably too stupid to notice Though he said he found dueling abhorent, he participated in one in 1804 Police show which began as \"Toma\" became much better known with new star & this new name Product reserved in bags for the master, the dame, & the little boy Member of the lute family mentioned in the lyrics of \"Oh Susanna\" Member of the iris family with as many as 25 flowers on a single spike During WWI, Germany torpedoed U.S. ships within sight of this, Virginia\\'s largest resort This Hollywood features dog racing & a beach boardwalk This 1803 acquisition doubled the size of the U.S. Command to old dobbin to make him go faster Columbia, capital of this southern state, had no paved roads until 1908 Name for both Chinese gooseberry & people of New Zealand comes from this bird The name of Hitler\\'s dog, or Deborah Harry\\'s singing group Around for 400 million yrs., there are now more than 2,000 species of these pesty cricket cousins Jiang Qing\\'s occupation before she married Mao Tse-tung The 2 instruments associated with the Smothers Brothers Inflammation of the gums Once applied to slaves, it\\'s the general legal term for items of personal property The 14th amendment protects against being deprived \"of life, liberty, or property, without\" this \"Instrumental\" title of this, only instrumental no. 1 hit of 1959: They cost \"one-a-penny, two-a-penny\" He played Superman in \\'50s series whose reruns are 2nd only to \"I Love Lucy\" in popularity An early warship propelled by oars, it\\'s now just the kitchen on a ship According to New York\\'s Bronx Zoo, it\\'s \"the most dangerous animal in the world\" Intact DNA was recently extracted from one of these ancient \"royal relics\" The primary feature of a \"nickel\" defense For some 2,000 years, in order to enter gov\\'t services, applicants had to know his sayings This newspaper for which Lou Grant worked was in L.A., not Chicago Red China encourages families to have only this many children One who\\'ll give you blood or the kidney off his back To shed her good-girl \"Waltons\" image, she shed her clothes in the August 1985 Playboy The 2nd 5-year plan, which forced farmers into giant communes, was also called this Upon leading 1894 march of unemployed on Washington, Jacob Coxey was arrested for this trivial of offenses Not a pardon, which lifts punishment, it differs by barring prosecution In 1912, it became 48th & last contiguous state to join The Union Even in the wild, this largest of apes takes a midday nap \"Home\" of the Air Force Academy, it has over 300 days of sunshine yearly He\\'s coming out of retirement to defend Della Street, his former secretary Tracking these, coast guard rates them as bergy bits, growlers, small, medium, & large Class of instruments to which the flute belongs Number of teams in the NFL With 4 victories, this team has won the most Super Bowls What Little Tommy Tucker vocalizes for Cat-like animal raised for the secretions it produces which are used to make perfumes The 5th amendment guards against both self-incrimination  & this segment of our show Teng Hsiao-P\\'ing tried to unsuccessfully to persuade him to return to Tibet Hurdler who was nimble & quick If you put J. Arthur Rank\\'s, Donald Duck\\'s, & Chuck Barris\\' together, you might have a bonang Matrimony by agreement of both parties, without a civil or religious ceremony 1st to hold a nominating convention, this 3rd party ironically chose Mason Wm. Wirt to run for Pres. Until November 3, 1930, this was the name of the Bank of America, capisci? Ice cream cones & iced tea were both introduced at this Missouri city\\'s 1904 world\\'s fair The only 2 venomous species of lizards, Gila monsters & beaded lizard, are native to this continent Lt. George Patton lost a medal in 1912 Olympics due to poor scores in this warlike skill The only 2 letters not on a telephone dial Prayer taken from salutation of Gabriel, it\\'s now said as commonly as the Lord\\'s Prayer This 15th century artist built fortresses, bridges, harbors, & locks Type of well named for the French region of Artois where 1 was 1st drilled in 1126 Aldous Huxley\\'s 1932 version of \"1984\" A luna moth\\'s are feathered, a june bug\\'s leaflike, & a cockroach\\'s are feelers Begun by Appius Claudius as a public work in 312 B.C., it\\'s one of the roads that lead to Rome The hero\\'s clubfoot in \"Of Human Bondage\" represented this author\\'s stammer Movie question posed by Barbra Streisand & Bugs Bunny When it was 1st introduced into England from France, it was called \"butterine\" \"The doctor can bury his mistakes, but we can only advise clients to plant vines\", said this architect Ironically Catherine, wife of this poet, painter, & printer, was illiterate The make of car that starts up immediately after 200 years in Woody Allen\\'s \"Sleeper\" Completes the quote \"Go west, young man\" Jim Davis named this cat after his grandfather, not the 20th president This author of \"The Jungle Book\" lived in Vermont for 4 years \"Reading is to the mind as\" this is \"to the body\" The only mammal capable of sustained flight Dorothy Parker said, \"Men seldom make passes at girls who\" do this In 1965, Pope Paul VI formally exonerated this group of blame for the death of Jesus Emerson said, \"If a man makes a better\" one of these, \"the world will beat a path to his door\" Presidents Hayes, Garfield, & Benjamin Harrison were all generals in this war Used as early as 230 B.C., the 1st successful electric one was developed by the Otis Bros. in 1889 John Steinbeck wrote the preface of a book about this Al Capp character From the Romanian word for \"to preserve\", it\\'s served hot with mustard on rye This British/Australian group\\'s name was taken from oldest brother Barry\\'s initials Dustin Hoffman & Alec Guinness were considered for this role that won an Oscar for Ben Kingsley Since 1955 ultrasonic vibrations have repelled these crusty creatures from ship hulls \"Tinsel Town\" In \\'72, he sang \"Song Sung Blue\" \"Old Fuss & Feathers\", general Winfield Scott, captured this foreign capital in 1847 Not a fabric but a cake that\\'s a cross between an angel & a sponge It\\'s what the P.T.L. in TV\\'s \"P.T.L. Club\" stands for James Hilton\\'s schoolmaster father was the model for this novel\\'s title character North American Protestant group featured in the movie \"Witness\" Some of the character names rejected for this classic were \"Gaspy\", \"Daffy\", & \"Snoopy\" Generals Lee, Grant, Sherman, Pershing, & Patton have all had a type of these named for them Soft white Italian cheese often used as pizza topping Founded in 1683, Germantown is now an historic part of this city Named for an English dr. who recommended meat as cure-all, it\\'s a hamburger without a bun Largest Chinese community outside Asia lives in this city\\'s Chinatown A 1984 survey found an additional 2,500 miles to this barrier, now totaling 6,200 miles long Unable to speak In \\'67, this \"Lady of Soul\" got due \"Respect\" Often called the panther, its name was originally given to the cat now known as the cheetah General who told Congress in 1951, \"There is no substitute for victory\" Of a North, East, South & West Side, the 1 Chicago doesn\\'t have Standard comment of Little Orphan Annie\\'s dog Sandy Herbs anise & fennel resemble the flavor of this common black candy Well-known nickname of Siddhartha Gautama Of a rat, a raven, & a spineless jellyfish the one which can be taught to count A gathering at which Pete Seeger & Joan Baez, or an owl & a goat might sing With under 200 men, this Revolutionary War general captured 3 British forts in Ill. & Ind. He wanted to put his finger into the nail marks in Jesus\\' palms She accepted her Oscar for Best Actress shouting, \"You like me! You like me!\" Syrup originally made from pomegranates processed on the Caribbean island of Grenada Type of music that\\'s named after Bill Monroe\\'s band Papillon, the French \"butterfly\", was netted & brought to this prison Most living organisms have millions, but a prisoner only has one 1st to claim Calif. gold said he found it on this island named for St. Catherine Earl From Latin for \"repentance\", San Quentin for example Days & nights are always 12 hours long there Frenchmen kiss cheeks, but in Romania male friends often kiss this way Pt. Udall, in this island group, is called the easternmost American point in the western hemisphere It\\'s the battlefield where good & evil will fight their final battle You can get a knish at a Jewish one, or mozzarella at an Italian one This Axis leader had a complete set of dental tools taken everywhere he went The original Smokey the Bear became a popular attraction at this city\\'s zoo Autumn edible which figured in the Alger Hiss case After posing for pictures she was asked what she had on & replied, \"The radio\" His actual first name was Hiram while his middle name was Ulysses The constellation Ursa Major, meaning the \"great bear\", is better known by this name Before 1934, the date for this was March 4; after 1934, January 20 From the Latin for \"bend the knees\", not the cry of a ski instructor, but the act of showing reverence In Exodus 3, it burned but wouldn\\'t burn up Completes Mae West line, \"It\\'s not the men in my life that count...\" The \"hospitality\" fruit, it can keep Jell-O from jelling Baines John & Stewart Alsop revived the word \"egghead\" to describe this candidate\\'s supporters Bear who was featured in an exercise book with drawings by Ernest Shepard Spanish for \"pelican\" but appropriately called \"The Rock\" by its inhabitants In Netherlands, a hostess may serve herself 1st, from custom of tasting food to prove it wasn\\'t this Waving American-style is an insult in this Hellenic country In 1942, approaches to the Mississippi River were mined by this type of German vessel A cloud of ash circled the Earth when most of this volcanic island was obliterated in an 1883 explosion Howard The Texas Troubadour Few Americans got to see this mascot at the 1980 Olympics Root vegetable that was the root of Peter Rabbit\\'s passion A 5th C. B.C. Greek philosopher was 1st to theorize that all matter is made of these If you\\'re studying mensuration, you\\'re studying this Abram King whose reign was so rich that silver was said to have been as common as stones in Jerusalem Radio program originally called the \"WSM Barn Dance\" Europeans once believed this purple-skinned cousin to the tomato caused insanity With only 4 ships, this neighbor of Australia had the smallest navy Term for creatures like vultures or hermit crabs that eat carcasses & refuse In song, Davy Crockett was said to have \"Kil\\'t him a bar when he was only\" this age Nephew whom Abraham rescued in Gen. 14, he also needed rescuing from Sodom by Gen. 19 Migrants leaving this state\\'s \"Dust Bowl\" helped bring country music to the West Developer William J. Levitt built 3 suburban communities all named this Romantic idol who said, \"This king stuff is pure bull... I\\'m just a lucky slob from Ohio\" 1 of 3 original members of the Country Music Hall of Fame Over 5,000 of them were pilots in the Soviet air force The U.S. Navy had a ship whose sole purpose was to make this dessert Regis Philbin was his Ed McMahon “From today painting is dead”, said a French artist upon seeing this type of picture in 1839 Only NBA team that qualifies for this category The most delicate of these is made of only 150-200 sable hairs, weighing .000529 oz. altogether Of all his books, he said “David Copperfield” was his “favourite child” Thaddeus Kosciuszko, a general in this North American war, tried to unite Poland in 1794, but failed The founder of this aircraft company also helped form its competitor Lockheed A primary part of gum base, it\\'s the natural gum of the Sapodilla tree The Mogul school introduced western perspective, not a Hollywood one, to art of this country After 1572, the Poles used this method to select a king State where gold was found in 1874 when Custer led expedition to explore it Until 1963, Studebakers were made in this Indiana city Honest, Wyatt, his name was originally Hugh Krampe Of a Sunbeam, Triumph, or Austin-Healey, Maxwell Smart\\'s car Once kicked out of school, this “chewing gum king” eventually captured 70% of gum market Though pleasant to kiss under, this plant is poisonous to eat If you don\\'t believe she was born Shirley Beaty, ask her little brother Warren Poland is among the world\\'s largest producer of this fuel Of 1 out of 5, 1 out of 15, or 1 out of 50, approximate ratio of Polish families who own cars Celtic for “from the red marsh”, it was glamorous Marilyn\\'s surname After WWII, over 80% of the buildings in this capital were uninhabitable Appropriately, these birds play in the National Hockey League Highest price for painting by a female was $1.1 mil. for “Reading Le Figaro” by this U.S. artist Begun in 1948, this university\\'s African studies program was 1st of its kind in U.S. Altho’ founded in 1883, it wasn\\'t until 1976 that Sarah Caldwell became 1st woman to conduct this opera company In golf, this bird in the hand is worth 2 under par Actor David Meyer changed his name to this before he started playing “Richard Diamond, Priv. Det.” Since Pittsburgh\\'s baseball team is the Pirates, their mascot dresses up as this 1st produced in 1928, manufacturers blew their wad making it Ernest Evans’ “twist”ed name Every Fall, these “predators” take wing in the AFC West In 1517, this French king & patron of Da Vinci orig. bought the “Mona Lisa” to hang in his bathroom For service as a medical officer in 1865 Mary Walker became only woman to win this Henry James novel whose New York setting is its title In 1901, Annie Edson Taylor became the 1st person to do this at Niagara Falls Role Hans Conreid played “relatively” well on “Make Room For Daddy” For over 50 years, one of these was “The Man Without A Country\\'s” home “Season”ed disco queen born Ladonna Gaines [Audio] Title question asked in this Lonnie Donegan song: Helping to found it in 1957, Martin Luther King, Jr. headed this civil rights group until his death Farms & ranches cover 90% of this border state\\'s land Miss Landers taught this title character his ABCs Tho’ Catholicism is this English province\\'s largest single denomination, it\\'s a “persecuted minority” Behaviorists & dogs drool over the work of this Russian physiologist As the Big Dipper points to the North Star, this major constellation points to the sky\\'s South Pole In 1967, 1st woman to run this Mass. distance event had to sneak her way in 3 miles, or the one for women voters The “official” title of “Alice In Wonderland” A WWII morale booster for Filipinos was gum printed with this famous promise Except for Thailand, all independent states in this area have won their freedom since 1945 Cryobiologists are interested in doing this to living matter to preserve it for future use Knob you adjust if your picture rolls Captain Nemo “dies” in both these Jules Verne novels 1st to sail it, Roald Amundsen found this “shortcut” a difficult 3-year trip Mycophagists, including humans, are eaters of this kind of fungus West Virginian who tried to avoid fighting on Sundays & became 2nd highest general of Confederacy TV\\'s Clinton Corners or Jimmy\\'s Plains, Georgia It means comradeship, comrade L-Dopa has provided relief for sufferers of this “shaking palsy” Cooked in a covering of bread crumbs or cheese or both Canadian Indians played 1st version of this sport with few rules & up to 1000 players in a game He played Alexander Mundy on TV\\'s “It Takes a Thief” In song “my gal\\'s” height that rhymes with her eyes of blue Grown on less than 1% of the land of the Netherlands, it\\'s their living symbol When Indians made peace, they symbolically buried this weapon In 1951 he told Congress, “I now close my military career & just fade away” Top grossing film ever with budget under a mil., it gave George Lucas clout to make “Star Wars” While Rhode Island has 5 counties, Delaware has only this many When 1400 actresses show up to audition for 1 part The viceroy mimics this poisonous “royal” butterfly\\'s appearance to avoid predators Cape May, in this state, is as far south as Washington, D.C. From the nightshade family, its fleshy forked root sometimes resembles the human form Ham, bologna, & pimiento loaf, for example In English this Texas city\\'s name would be “The body of Christ” In Italian, “finnochio”, it\\'s a basic bottle in spice racks Movie that helped launch the careers of Jeff Bridges, Cybil Shepherd, & Peter Bogdanovich Movie that spawned the phrase “I\\'m as mad as hell, & I\\'m not going to take it anymore” The most common one found in the home is “mus musculus”, which may be where Walt got the initials 3 of the 4 actors who sought “Deliverance” in that 1972 film This most popular U.S. aspirin was originally acquired from a German company as spoils of WWI Antiallergy drug 1st      found to help motion sickness when 1 patient took it before riding a streetcar George Washington is one of many whose death is attributed to “bleeding” by these Magazine that raised the photo essay to an art form, it debuted with a photo of a dam on its cover Both shutter speed & size of lens opening control amount of this let into a camera “Brown vs. Board of Education” dealt with school segregation in this state\\'s capital What a thief called a “dip” dips into “Aroma” was the word for spices in this ancient civilization “America\\'s Dairyland” Side the Iroquois supported in the French & Indian War Romans believed a garland of this garnish worn on the head would prevent drunkenness Acute viral disease of upper respiratory tract, marked by a “ruddy dose” It could be “The final blow“ in boxing or “The finishing stroke” in tennis English novelist Ernest Hornung created this “gentleman cracksman” Inter-tribal language of the North American Plains Indians Meredith Willson modeled his “River City” on his home town of Mason City in this state Number of strings on  a standard mandolin O. Henry\\'s life resembled that of this honest crook he created, perhaps on Feb. 14th Created by Edward Hoch, professional thief Nick Velvet will only steal objects of this value Strictly required according to etiquette or usage, such as wearing a bow tie with your tux From S. American work “kyinha”, this type of pepper makes your mouth hot & beans “chili” Bacterium responsible for this outbreak was coined “Legionella Pneumophila” Starting in the 1920\\'s, Erich Salomon\\'s spontaneous photographs inspired this term French general & WWI Allied commander who predicted another war within 20 years Number of players in a string septet It\\'s usually plastic, covered with silver salts Number of movements in Grieg\\'s Piano Concerto in A Minor From Arabic “mawsim”, meaning “season”, it\\'s the wind which changes direction with the seasons In 1968 he took over U. S. Vietnam command from General Westmoreland A more accurate translation of his name would be “wild” or “unbroken” horse [Audio DD] General with whom this movie theme is associated: Tatum O\\'Neal won an oscar for her film debut in this 1973 picture A railroad or a gambling game you could be railroaded in Ratio of quarter notes to a whole note Largest block ever found of it in U.S., 56 tons, was used for Tomb of the Unknown Soldier “Sweets to the sweet: Farewell!” were Hamlet\\'s mother\\'s words at this woman\\'s funeral “Hell no, we won\\'t go” was a chant often heard at rallies against this war “St. Elsewhere” is the nickname for this TV hospital Of the Tree of Life, Tree of Knowledge, or the Tree of Righteousness, the 1 forbidden to Adam Muslims fast during daylight hours for this entire month Fizzing when acid is applied, this mineral is the base of the Portland cement industry Susanna & the twins, Hamnet & Judith O. Henry called it the most  “purely American” holiday Hindu for “trader” this unusual tree whose branches grow down can look like a mini-forest They spent $250,000 to develop a can so the shuttle crew could drink their new formula in space On a sailor\\'s chest it might say “Mother”; on Cher it\\'s a butterfly “Other women cloy the appetites they feed, but she makes hungry where most she satisfies” Fenton & Fowler\\'\\'s calls this elite Detroit ginger ale the best soft drink in the world A patron saint of Russia, he was probably skinny & never wore a red suit It\\'s what gives soda pop the bubbles Quality of ice, eels, & banana peels Caleb Bradham named his elixir this because it was supposed to relieve dyspepsia Term for the minerals from which metals are extracted Single-letter chemical designation of a diamond Chorea, as in choreographer, is a condition associated with rheumatic fever formerly called this The penultimate Anglo-Saxon king, Edward was known by this pious title Joan Benoit was 1st to win this Olympic event, finally offered for women in ‘84 They\\'ve been guarding British royalty since 1485 & gin bottles since 1820 Nancy Ross, Angela Davis, & Geraldine Ferraro all sought this office in 1984 Their 1st professional collaboration was this 1943 landmark musical In 1912, this pres. candidate declared, “We stand at Armageddon, & we battle for the Lord” The cry “sap\\'s a runnin’” refers to this tree Mark Twain defined it as a hole in the groud with a liar standing at the top Part of Cassius\\' anatomy Brutus calls “itching” when accusing him of greed “Four more years of the full dinner pail” symbolized this president\\'s re-election campaign in 1900 He railed against the “do-nothing 80th congress” during his whistle-stop campaign He raises & tends the honey kind At 5th & 50th, its Lady Chapel is the place to get married, if you\\'re in NYC - & Catholic Though it sounds like a grim volume, it\\'s just William the Conqueror\\'s survey of the British kingdom Until 1752, the 13 colonies observed Annunciation Day, the 25th of this month, as new year\\'s Meaning “removal of meat”, it\\'s Rio\\'s 4-day pre-Lenten festival Higgins played the title role of this 1974 film In the early 1930s Americans were told that it was “just around the corner” Kristine Holderied was 1st to graduate top in her class from 1 of these Stuart Damon & Lesley Ann Warren starred in this only R & H musical written for TV First Roman army to invade Britain was led by this general October holiday which Mexicans call Dia de la Raza is celebrated in the U.S. as this Arboreal symbol of strength It was originally called bib-label lithiated lemon-lime soda A tenant under lease The lines “And thereby hangs a tale” & “All the world\\'s a stage” come from this comedy Character who is “corny as Kansas in August” Founder of the nursing profession, she was named after the city in which she was born The “Times’” Brooks Atkinson called it “an original & beautiful excursion into... the Far East Continent on which the densest, tallest & most valuable stand of timber is found The pair\\'s lyricist Completes a Ben Franklin phrase, “Here skugg lies snug...” The band that made Asbury Park, N.J. & Bruce Springsteen famous Apollo 11 astronauts Armstrong, Collins & Aldrin each also flew in this program Slivovitz is a brandy made from this fruit America\\'s leading pecan-growing state According to Ohio\\'s, “All things are possible” with him At record companies, it\\'s what the “R” in “A & R” stands for It\\'s the shortest route taken back to the hive [Audio DD] In 1978, Gerry Rafferty found his way down this street: Wrinkled or furrowed, as cardboard or iron In order to produce this green-kerneled nut, male & female trees must be near each other Both Susan Blakely & Jessica Lange played this tragic Hollywood actress in 1980s films What\\'s done to a pesky mosquito or an acronym for a police special weapons team The actual title of “Jimmy Crack Corn” South Carolina military college whose name sound like a fortress For wines, it never means the opposite of wet Called “Drogues”, they open during a capsule\\'s descent Of its varieties, the atlas is 1 of the largest & the death\\'s head hawk chirps by blowing its nose From German for “rear”, it\\'s the region behind a coast or remote from other cities This building marked by a grasshopper weather vane, gained nickname “The cradle of liberty” In 1804, this merchant got Rhode Island College to rename itself after him by donating $5000 Country which had the 1st woman to walk in space In February, 1984, the Soviets reactivated this space station The queen Glenda Jackson played in “Mary Queen of Scots” & PBS mini-series Since the face wasn\\'t shown, a stand-in stood in for John Travolta in famous opening shot of this film Mercy killing Now site of a military academy, Benedict Arnold plotted to turn over its fort to the British Financiers literally made a big impact on this street in October 1929 This D.C. university is America\\'s oldest Roman Catholic-sponsored college In Latin, rosa, rosae, rosam, for example London street where in the \\'60s, you\\'d find the mods & the miniskirts This variety of nut is grown only in the country it\\'s named for & adjacent lands The Sands, Frontier, Desert Inn, & Landmark Hotels were once owned by this mysterious billionaire “Sparkling” nickname for Fremont St. in downtown Las Vegas Brooklynite Jennie Churchill, Winston\\'s mother, created this whiskey & vermouth cocktail In 1956, Congress adopted this 4-word Florida motto to be our national motto Pastoral meaning of “Las Vegas” in English inappropriate to its desert locale “Not I” said the duck & the cat & the dog when she asked them, “Who will thresh the wheat?” The smallest denomination of coin that can be played in Las Vegas slots A triangular-shaped nut grown in North America & Europe, or a brand of baby food It lay in the house that Jack built In the musical “South Pacific”, Bloody Mary was said to chew these nuts which blacken the teeth This series built around wine currently makes your TV a potent portable They say “You can always tell a Harvard man, but you can\\'t tell him” this “If you seek a pleasant peninsula look around you”, which is apt since this state consists of 2 Appropriately, you\\'ll find “The Appian Way” at this hotel casino on The Strip To become the “Sleeping Beauty”, the princess pricked her hand on this part of the spinning wheel On Sept. 29, 1985 this film director activated “META”, a radio to contact extra-terrestrials In his 1st feature film, he played The Scarecrow in “The Wiz” Bacardi, America\\'s single best-selling brand of liquor, is this type When Rapunzel did this, it wasn\\'t her way of being informal “The regulars are out!” he warned Hancock & Adams on April 18, 1775 His words became North Dakota motto, “Liberty & Union, Now & Forever, One & Inseparable” Pentecostal revivalist turned Methodist, in 1965 he founded a Tulsa, Oklahoma university Virginia\\'s state motto, which John Wilkes Booth yelled as he shot Lincoln 1973 Martin Scorsese film starring Robert De Niro about hoodlums in NYC\\'s Little Italy “The Ugly Duckling” was autobiographical for this shy author General Howe faced him in Brandywine, Germantown, & Long Island battles Helping us fight bankrupted this country & sent it into internal revolution Body part which now can be augmented, sculpted, & wrapped, as well as painted, trimmed, & filed Branch of physics dealing with motion, like the bumping of molecules in a gas The weapon which killed this “1st murder victim” was never revealed Other orchestra members standardly get their “A” note for tuning from this instrument Alice thought the White Rabbit was normal until he whipped this out Of the 1.5 million students who took the S.A.T.s in early 1985, only 8 hit this perfect combined score In 1818, Heinrich Stolzel took out a patent on this horn improvement allowing changes of pitch He wrote his “Farewell Symphony” as a hint he & the orchestra wanted to leave for Vienna The symbol for “flat” closely resembles this lower case English letter In light, 2 colors are said to be complementary if, when added together, they produce this color The 24th letter indicates precise location A flat-topped mountain with steep sides, it\\'s from Spanish for “table” What we call the flow of electrons through wire, air, or even yourself In the 15th century, men\\'s poulaines might have extended 24\" beyond this point In 1980 BBC production of this Shakespeare play “Monty Python\\'s” John Cleese played Petruchio The 1954 Dorothy Dandridge/Harry Belafonte film “Carmen Jones” was based on this composer\\'s opera Playboy advised “Don\\'t wear t-shirts with pink sports coats unless you live” here Yelling “I am not a number, I am a free man”, this actor was #6 on “The Prisoner” Snag el toro using his hard bonelike projections Lake Placid & the source of the Hudson are found in this New York group Holiday begun 4/22/1875 because J.S. Morton thought Nebraskans should plant trees The Mock Turtle said its 4 branches were “ambition, distraction, uglification, & derision” A single wicker container should not hold the entire output of thy hen Company set up by American Express in 1852 to speed up gold shipments from California An ancients “Rubik\\'s Cube”, spliced by the father of Midas, sliced by Alexander Elijah took on 450 prophets of Baal & 400 from Asherah on the slopes of this mountain above Haifa [Audio DD] Man usually being chased to the following: (Opening to “Yakety Sax” played) In 1806, he tried to climb the Colorado peak named for him, took wrong path & wound up on wrong mt. The highest active volcano in Europe, it\\'s found in Italy Though it holds our planet together, it\\'s actually a much weaker force than electro-magnetism To have room to do the lobster quadrille, you have to clear these spineless creatures off the shore It was at this character\\'s house Alice joined the tea party Effective May 16, 1870, the Central & Union Pacific RR\\'s said you could do it in 6 days, 20 hours Hermaphroditus, whose body combined both sexes, had name combining these 2 gods, his parents Each week when Roger Moore looked up at beginning of “The Saint” this appeared above his head God who gave his name to a river in Asia Minor proverbially known for its wanderings In 1869, professional players of this sport earned maximum of $1400 a year & didn\\'t strike Perform an optical scan prior to execution of a jete Curare is added to this projectile to give it that little extra shot For a promotional stunt in 1889, this newspaper publisher sent Nellie Bly around the world Invented in 1947 to improve electron microscope images, this science created a 3-D picture On 3/25/85, Marty Pasetta opened telecast of this awards show with shot of auditorium upside-down Long, straight, 2-edged sword with a large cup hilt; some people have this type of wit As of July, 1985, Oregon guru Rajneesh had been given 90 of these cars, but he\\'s hoping for 365 Hercules, Orpheus, & Castor & Pollux were among those who joined the search for this It can be raw, powdered, whole, evaporated, condensed, or skim 21, or a thug\\'s bludgeon In 1985, Disneyland, McDonald\\'s, & Captain Kangaroo all celebrated this anniversary Lofty means of escape Daedalus & son Icarus used to flee King Minos Perpetually place one\\'s prime pedal extremity in advance For gangsters, a killing; in fashion terms it\\'s a cheap copy of a high-priced original Scooter\\'s uncle “owned” the theater from which this American group did their “Show” shot in London “Weapon” Dorothy used to kill the Wicked Witch of the West When routinely measuring systolic blood pressure, a stethoscope is used to listen for this He, along with Joel Cairo & Brigid O\\'Shaughnessy, sought the Maltese Falcon Name for temperature at which water vapor in the atmosphere begins to condense 1942 Irving Berlin classic that\\'s sold more records than any other General Cigar Company brand & national poet of Scotland Peruvian bridge which collapsed Friday July 20, 1714 in Thornton Wilder novel of the same name This president vetoed more legislation than any other Baby Fae heart transplant occurred in a hospital run by this denomination A strikebreaker, or a blood clot on surface of one\\'s skin Poet who relived his boyhood in “A Child\\'s Christmas in Wales” “Bring \\'em Back Alive” guy, played by Bruce Boxleitner on TV but by himself on radio Emotional state of a cow who bellowed Septicema & saprema are 2 types of it 100 years ago the now-dead philosopher Nietzsche claimed this being was dead Only a few of these in the Pennsylvania coal fields are under 18 years old In the Superman TV series, editor Perry White frequently invoked this spirit Adjective describing sounds of German, & to non-English speakers, English It connects the 3 boroughs of Manhattan, Queens, & The Bronx From Latin “way”, it\\'s a bridge that crosses mainly over dry land instead of water Demonstrators were kicked out of this city\\'s Lincoln Park August 27, 1968 This all-American boy\\'s theme began “Wave the flag for Hudson High, boys” William Golding novel in which English school boys stranded on an island turn savage Though popular in early 1800s this Tennessee congressman was even more popular in the 1950s Silver City, Idaho & Bodie, California for example Later a foil for Lucy as Harry Carter, he foiled Ming on radio as Flash Gordon The 999 ghosts at the mansion in this Anaheim landmark tell visitors “There\\'s always room for 1 more” Name for street urchin, probably derived from where they are said to live As Dr. Doolittle, Rex Harrison sang this 1967 Oscar-winner to people too 1 of 2 Oscar winners sung in the films by Doris Day 12 beats of a gong & an airplane swooping down signaled his arrival on radio Of blood type, dental work, & tattoos, the subject not queried of Red Cross blood donors Daily newspaper illustration that shows isobars & temperatures In “Going My Way”, Bing Crosby asks “Would you rather” be doing this title task or be a fish 1 of the 2 18th century periodicals in which Addison & Steele published their essays The average weather conditions of a region over a long period of time Though he left the service after WWII as a captain, today he holds the highest rank possible Both North Carolina\\'s capital & a brand of cigarettes are named for him Name of wind which flows down eastern slopes of Rocky mtns. raising temp. as much as 40° in 3 hours Our country has plenty of good 5¢ cigars, but they charge 15¢ for them, said this “cowboy philosopher” Botanical name for “plant sweat”, from Latin word for “droplet” In Shakespeare\\'s play, ghost who sat in Macbeth\\'s place at the banquet table A.E. Housman “heard a wise man say , give crowns & pounds & guineas but not” this away The 2 main types are polar-orbiting & geostationary Family name of Laurence Sterne\\'s characters Walter, Toby, & Tristram This 1st winner, from “Gay Divorcee”, is also a luxury car Country to which the U.S. began beaming Radio Marti in May 1985 A big kiss upon parting, or the Greyhound that carries you away Vacationing on a ship, or people that staff them A cigarmaker by trade, he founded the American Federation of Labor (AFL) Achilles died because his wound here would not do this Creators of “Casper” say this film\\'s logo plagiarized 1 of their characters Though Shi\\'ites have been getting the headlines, most Muslims belong to this sect Named not for lovers but sorrowful prisoners crossing it to Venetian prison He usually drove the Black Beauty \\'50s brand that advertised with 2 leggy cigarette boxes dancing U.S. naval officer famous for saying “Damn the torpedoes, full steam ahead” This girl was “as skinny as a stick of macaroni” In crossing midtown Manhattan it\\'s only “avenue” you hit that\\'s named for a president Roman Quintas Ennius said a man of worth follows the rule “No sooner said” than this Boosting the space program, this rocket expert said, “Your tax dollars will go farther” In song, battle where Johnny Horton put cannonballs in a gator\\'s head “& powdered his behind” A reporter for the Virginia City, Nev. Territorial Enterprise first used this byline Feb. 2, 1863 Though he claims never to have said it, he called his autobiography “Nice Guys Finish Last” In 1960, Sirimavo Bandaranaike of Ceylon became 1st prime minister of any country who was also this “Sorry I Kept You Waiting, Madam” is this haridresser\\'s story “Take My Wife...Please!” Language of the world\\'s oldest republic, tiny San Marino The original of Islam\\'s sacred book, the Koran, was written in rhyme in this language Unlike most European languages, Bulgarian doesn\\'t use the Roman alphabet, but uses this one Former special counsel to president Nixon who\\'s since been “Born Again” Saying he\\'s “simply the best” Time Magazine agrees he\\'s hockey\\'s “Great One” Name of this sea is said to allude not to its dark water but its storms Term for noisy dance or party which originally meant a kick in the shins Name of the cemetery in Tombstone, Arizona & many other towns as well Peace, Hope & Friendship are streets in this state capital named in honor of God Twi, Ga, Fang, & Bubi are languages spoken on this continent Unlikely site of 1967 meeting between pres. Johnson & Soviet premier Kosygin was this N.J. town “Monopoly” inventor Charles Darrow named properties in the game for streets in this city Though Sinatra had the hit, it was this singer who wrote the lyrics of “My Way” “Every Secret Thing” contains her own account of her kidnapping In 1821, he became only person to invent, unaided, an entire alphabet & numbering system A baby frog is called either a tadpole or this According to the Everly Brothers, not only was Johnny a joker, he was also this Anatomical feature absorbed by its body when a tadpole becomes a frog According to the Bible, thousands of frogs, perhaps millions, plagued this country Broadway Joe Anatomical nickname of pitcher Mordecai Brown After Indian wars, Chief Rain-In-The-Face ended up selling autobiographies at this Brooklyn resort Philip Bailey said “Respect is what we owe;” this, “What we give” In 1859, with his agent on his back, Charles Blondin walked a tightrope suspended over this Though a woman, this black tennis star of the ’50s was known as “Big Al” Nickname of judge Isaac Parker whose court was called “The Gates of Hell” Dutch settlers named this longest river of South Africa not for its color but their royal family He personally paid for many of the instruments & made this his soldiers\\' theme: China\\'s Huang River carries large amounts of straw-colored earth into this sea Ernie K-Doe called her, “The worst person I know” Saki advised “In baiting a mousetrap with cheese, always leave room for” this Skyline Drive rides the crest of the mountains in this Virginia national park Probably best known to TV viewers as Valene Ewing, she had female lead in 1972 “Frogs” Bill Haley hit that opens, “Get down to that kitchen & rattle those pots & pans” Though an insect larva, its name comes from French for “hairy cat” Poem that begins, “This is the forest primeval” Icebreakers now keep Port of Archangel, on this appropriately-named sea, open in winter There are 10 switch-backs in 1 block of this S.F. street often called “crookedest in the world” From same root as “senile”, to Romans this body\\'s name meant a council of old men In 1857, William Kelly convinced U.S. Patent Office to give him, not Bessemer, rights to make it Though John Duns Scotus was considered a great philosopher, his followers were later called this Narrow Biblical sea between Saudi Arabia & Africa that\\'s an intense blue-green in color Word “slavery” comes from these eastern Europeans who were often enslaved by conquerors In 1964 his widow said “So now he is a legend when he would have preferred to be a man” 9-man teams nearly always lose to softball pitcher Eddie Feigner & his 3-man team nicknamed this The first primary teeth to appear in a baby are usually of this variety Cellist Charlotte Moorman achieved fame by performing this way, but just “barely” Of amber, amethyst, or agate, the one that once came from a living thing According to The Limelighters, “It\\'s ever so much nicer than beer...m\\'dear” Of the 4 basic tissues, the one that makes up the bulk of a tooth The only “B” word in the nursery rhyme, “Little Miss Muffet” In 1977, Bishop John Neumann was 1st American man to be named this by Roman Catholic Church Peter Pan\\'s flight plan to Never-Never Land A church is called a “cathedral” when this official\\'s chair, a “cathedra” in Latin, is there From Greek for “great hunger” beating this behavior syndrome is among Jane Fonda\\'s causes The 2 South American countries whose names begin with “B” It\\'s said this author of “The Human Factor” wrote 200 words a day then stopped, even in mid sentence Called “fool hens” because their extreme curiosity makes these wild fowl easy prey for hunter On the River Dee in Scotland, it\\'s private residence of the British sovereign In 1895, this 67-year-old count learned to ride the bicycle he received from Moscow admirers Mountain range that\\'s the accepted dividing line between Europe & Asia This instrument measures the angular distance of a celestial body above the horizon Nationality of the composers who comprised “The Five” in 1862 The state with the largest number of national parks Gemologists call this stone found in abundance in Australia hydrated silica gel The N. & S. European countries for which German F. Mendelssohn named his 3rd & 4th symphonies Traditionally, the entrance of a cathedral faces this direction [Audio DD] Title of this Ray Charles instrumental: Besides the breast, only part of chicken or turkey that is all white meat Besides the Amazon, 1 of the other 4 river systems that drain South America From age 19 on, he had a platinum kneecap to replace one shattered in WWI His “Love For 3 Oranges” is loved by opera folks In March of 1979, Egypt was suspended from this organization for signing peace treaty with Israel Intaglio & cameo are principal forms of doing this to gemstones The continental drift theory says that all the continents once formed a giant land mass called this When chemically pure, without metallic oxides, most gems lack this characteristic property From Latin for “bad closing”, an overbite is a type of this Composer who had a celebrated love affair with novelist George Sand This hard yellowish tartar found on teeth sounds like a mathematical matter Kentucky\\'s only national park, it\\'s great for spelunkers “La Traviata” is his operatic version of “Camille” It\\'s said he turned down Pulitzer for “Arrowsmith” because he felt he was due one sooner As stars are on a celestial navigators chart, so these are on charts for piloting Name for a ship\\'s “speedometer”, as well as for the record of its voyage Established in 1872, it\\'s the oldest national park in U.S. This & “wild women will drive you crazy, will drive you insane” In 1978, he won a reverse discrimination lawsuit against the University of California Some farmers specialize in raising pullets which are these Candling is a technique to inspect these Where the altar & seats for the choir are located, it\\'s a semicircular area at end of nave The real title of this 1979 hit by Rupert Holmes is “Escape” Eons of wind & rain have worn away ancient mtns., making this smallest continent the flattest, too Of 4, 12, or 20, the number of independent countries in Africa before WWII Don\\'t wait for the mini-series of “My Antonia”; this author\\'s will forbids screen adaptations Of historic value, recreational value, or natural features, reason most nat\\'l parks are preserved Most famous feature of this Spanish city\\'s cathedral is the Giralda Tower, which used to be a minaret California national park that\\'s site of the world\\'s tallest known tree The word “church” can be traced back to “kyros”, meaning “power” in this language The hub of the U.N., it\\'s been called the \"Town Meeting of the World\" In an apple, it\\'s the \"inside\" name for the pericarp Links \"the wisp\" & will\", or McDonald\\'s \"fish\" & \"filet\" Used to open & close points & valves, they come in single or double overhead, if you\\'re cool In 1700, his \"The Way of the World\" was so poorly received, he wrote no more plays In 1879, Chase & Sanborn became 1st U.S. company to pack this in sealed cans Though known for pickles and \"slow\" ketchup, this company\\'s 1st product was horseradish Colchester, England was named for this legendary Celtic king immortalized in rhyme After turning around, what \"Teddy bear, teddy bear\" does Main attraction of New Orleans\\' Preservation Hall In England, \"the merriest month in all the year\" In 1844, \"The Cherokee Advocate\" became the 1st paper ever published in what\\'s now this state Where you are when you \"open the door & see all the people\" The 5 permanent members of the Security Council By 193, Rome had sunk so low, Juliannus bought this at public auction, but never reigned on it When doubled, this letter can be shot from a gun You might throw a fit if you \"throw\" this part joining the crankshaft & piston What N.Y. World-Telegram & Sun, St. Louis Globe-Democrat & Wash. Star currently have in common In newer cars it has generally replaced the generator for keeping the battery charged \"Handy Tables\", \"Harmonica\", & \"The Almagest\" are among this astronomers surviving works Greek for \"cleansing\", Aristotle used it to mean the purging of emotions in an audience Word used over 25 times in Genesis 11, it\\'s the Biblically polite way of saying \"fathered\" To visit the largest lake in all of Britain, you have to go to this lake\\'s \"bonnie, bonnie banks\" Strung together for snoring sleepers How Mr. Rogers\\' sweaters \"suit him\" If a Muslim calls himself \"Haji\", it means he\\'s visited there Deuteronomy 24 provides a no fault legal procedure for this, but only for men The U.N. basically copied the structure of this, its forerunner The period of time between egg laying & hatching is called this In Paris, this musical was called \"Brilliantine\" & in Mexico City, \"Vaselina\" When sexually aroused, the carpenter species of this insect will chase jet liners In genetics, it\\'s what passing of characteristics from Mom & Dad to Junior is called Due to contamination of crops from N.W. states, growers of this small fruit had a bad Nov. in 1959 Since the publication of Alex Haley\\'s \"Roots\", tourism has increased to this African country It\\'s said this SW. feast comes from French \"from snout to tail,\" the way meat is put on a spit Currently, it\\'s Javier Perez de Cuellar of Peru Since overeating was a status symbol, early rulers of what\\'s now this state often weighed over 400 lbs. The Rutland Herald, begun in 1794, is still publishing in this state Needing time to do laundry on tour, this early rock giant chartered a fatal flight \"Rub a dub dub\", these 3 went to sea in a tub The frame of the car without the out shell, some are classy Letter referring to string originally used to hold up Indians\\' loincloths Despite its name, this large Midwest city\\'s \"Free Press\" costs 20 cents, 75 cents on Sundays Before the 17th century, the word theater referred only to this In 1963, the U.N. declared this area should benefit mankind & no nation could claim it A drummer, she & brother Richard were best known as vocalists It keeps your neck warm in the winter, or your engine quiet all year This young religion was becoming so popular, a school teaching it was estab. in Alexandria National British newspaper that was formerly published in Manchester He recorded \"Mack The Knife\" under this name he picked out of a phone book This civilization\\'s pyramids & hieroglyphic writing were making their initial appearance He had 4 Top 40 hits before & 4 after his death at 30 on Sept. 20, 1973 Found even in dinosaurs, this world\\'s oldest known disease is still considered incurable In 1983 & 84, this country got more tourists from around the world than any other in Europe In 15th century, Italian scholars saw commedia Erudita, nobles saw commedia intermezzi, & commoners, this 1 of 8 Popes who might be up for renewal A sewing needle will float on the surface of water because of this property \"Presidents come & go, but the court goes on forever\", this massive Chief Justice said knowingly Artisans in the Black Forest have been turning out these bird-brained time-pieces since 1730 Howdy Doody host Bob Smith\\'s real hometown According to Tom Jones, \"It\\'s Not\" this Some cities add lime to their water, not to flavor it, but to prevent this type of decay Tom, Scrooge & Vanya Pupil of John Calvin, this John united protestants in Scotland To demonstrate his elevator\\'s safety in 1852, he got in it & cut the cable This term means that extra alcohol has been added, as to sherry, for example The 1st of these with flippers were 1947\\'s \"Bermuda\" & \"Humpty Dumpty\" In his farewell, he warned against the influence of \"military-industrial complex\" Though industry uses more water than any other material, it uses most of it for this As far back as 1609, sacramental wine was made in what is now this state An oncologist would treat you if you had one of these The only amendment to be ratified by state conventions rather than by legislatures \"May none but honest & wise men ever rule under this roof\", said this 1st occupant of the White House 1955 Jennifer Jones-William Holden film whose title song became #1 for the 4 Aces Only type of invention for which the U.S. Patent Office still insists on seeing a working model During the 14th century \"Babylonian Captivity\", this French city was seat of the papacy Why Henry Kissinger & I cannot run for President \"Home sweet home\" done in needlework, or soap star Philece Master in this field, Akira Yoshizawa, said it took 30 years to get a paper cicada folded right Of gas, liquid & solid, the densest state of water Pliny the Elder wrote about & Da Vinci taught this art form now done by 4-year-olds These 12th & 13th century religious wars spread the use of money & created a middle class By French law, no drink may be sold as wine that is not exclusively made from these A steam or gas autoclave is used for this process Julius Caesar devoted 3 chapters of his \"Commentaries\" to this religion of the \"Ancient Briton\" Needing only the approval of the Senate, these, along with the Constitution, are the supreme laws of the land In the U.S., wines using at least 51% of a certain grape are labeled this Although a general hospital for 250 years, it is commonly thought of as NYC\\'s lunatic asylum San Francisco police confiscated this beat poet\\'s epic \"Howl\" when it first came out In 1952, 12-year-old Jimmy Boyd earned a fortune with this Christmas song hit Paul Revere\\'s day job Up to a million had already fallen victim to this persecution from 1484 to 1692, when it hit Salem Thanks to his invention, we saw Mickey Rooney & Spencer Tracy play him in the movies Psychoanalyst Erich Fromm defined love as \"giving\" in this popular 1956 work Not only the oldest, but also the most common method of turning sea water into fresh water At age 6, she asked the director, \"Do you want the tears to run all the way, or shall I stop halfway down?\" Because he said \"Ich bin ein Berliner\", not \"Ich bin Berliner\", it could have meant \"I am a doughnut\" 28 times in the King James New Testament the greek word \"agape\", meaning love, is trans- lated as this Mickey Spillane\\'s violently anti-Communist private eye Since 1971 these authors of \"Human Sexual Response\" have been viewing it from a married perspective Upon reflection, this Greek mythological figure fell in love with himself He presides over the Senate during the trial following the impeachment of a President Under Art. 1, Sec. 6, 1 of 2 places mentioned were a person can slander another with legal immunity Not \"Rosemary\\'s Baby\", but \"Rosemary\\'s\" real-life mother 1st credited to Hans Lippershey in 1608, it was Galileo, in 1609, who first used it to look up From old French \"non\" & \"per\" meaning \"not equal\", a person who decides when things are not equal In \"My Favorite Year\", his character admitted \"I\\'m not an actor; I\\'m a movie star\" In \"Singin\\' in the Rain\", he knew how to \"Make \\'Em Laugh\" In an emergency room, the triage nurse primarily decides this Before experiments of this 19th century scientist, fermentation was basically a mystery When his wife woke him in 1893, fearing burglars in house, he said, \"In the Senate maybe, not the House\" In 1952, this plant substance was added to toothpaste, gum, soap, & many other things He played Archie Bunker']"
            ]
          },
          "execution_count": null,
          "metadata": {},
          "output_type": "execute_result"
        }
      ],
      "source": [
        "corpus2[0:2]"
      ]
    },
    {
      "cell_type": "code",
      "execution_count": null,
      "metadata": {
        "colab": {
          "background_save": true,
          "base_uri": "https://localhost:8080/"
        },
        "id": "Qrq2StmloM49",
        "outputId": "24f76e7a-6c9e-4fab-ae58-2ff8f084ab00"
      },
      "outputs": [
        {
          "name": "stdout",
          "output_type": "stream",
          "text": [
            "<class 'list'>\n",
            "<class 'str'>\n"
          ]
        }
      ],
      "source": [
        "print(type(corpus2))\n",
        "print(type(corpus2[0]))"
      ]
    },
    {
      "cell_type": "code",
      "execution_count": null,
      "metadata": {
        "colab": {
          "background_save": true
        },
        "id": "_5_VrFD9hytr"
      },
      "outputs": [],
      "source": [
        "from sklearn.feature_extraction.text import CountVectorizer"
      ]
    },
    {
      "cell_type": "code",
      "execution_count": null,
      "metadata": {
        "colab": {
          "background_save": true
        },
        "id": "JbDBw0QBSGOz"
      },
      "outputs": [],
      "source": [
        "def tfidf_vectorizer(corpus):\n",
        "    cvect = CountVectorizer(lowercase = True, tokenizer=nltk.word_tokenize, stop_words=stopwords_en, max_features=10000)\n",
        "    count_matrix = cvect.fit_transform(corpus)\n",
        "    tokens = cvect.get_feature_names()\n",
        "\n",
        "    count_matrix = pd.DataFrame(count_matrix.todense())\n",
        "\n",
        "    df_vect = count_matrix.astype(bool).sum(axis=0)\n",
        "    df_vect = np.log(len(corpus) / df_vect)\n",
        "\n",
        "    return tokens, np.array(count_matrix * df_vect)"
      ]
    },
    {
      "cell_type": "code",
      "execution_count": null,
      "metadata": {
        "colab": {
          "base_uri": "https://localhost:8080/"
        },
        "id": "H4Gg2O5zUM26",
        "outputId": "2a3b37d0-b776-4dec-a0bd-857b459158db"
      },
      "outputs": [
        {
          "name": "stderr",
          "output_type": "stream",
          "text": [
            "/usr/local/lib/python3.7/dist-packages/sklearn/feature_extraction/text.py:401: UserWarning: Your stop_words may be inconsistent with your preprocessing. Tokenizing the stop words generated tokens [\"'d\", \"'ll\", \"'re\", \"'ve\", 'could', 'might', 'must', \"n't\", 'need', 'sha', 'wo', 'would'] not in stop_words.\n",
            "  % sorted(inconsistent)\n",
            "/usr/local/lib/python3.7/dist-packages/sklearn/utils/deprecation.py:87: FutureWarning: Function get_feature_names is deprecated; get_feature_names is deprecated in 1.0 and will be removed in 1.2. Please use get_feature_names_out instead.\n",
            "  warnings.warn(msg, category=FutureWarning)\n"
          ]
        }
      ],
      "source": [
        "tokens, tfidfvals = tfidf_vectorizer(corpus2)"
      ]
    },
    {
      "cell_type": "code",
      "execution_count": null,
      "metadata": {
        "colab": {
          "background_save": true
        },
        "id": "sir5HP12OQke"
      },
      "outputs": [],
      "source": [
        "# Create vocabulary and cross reference dictonaries\n",
        "\n",
        "# build our idx_to_token dictionary\n",
        "idx_to_tokens = {}\n",
        "tokens_to_idx = {}\n",
        "\n",
        "for i in range(len(tokens)):\n",
        "  token = tokens[i]\n",
        "  tokens_to_idx[token] = i\n",
        "  idx_to_tokens[i] = token\n",
        "\n"
      ]
    },
    {
      "cell_type": "code",
      "execution_count": null,
      "metadata": {
        "colab": {
          "background_save": true,
          "base_uri": "https://localhost:8080/"
        },
        "id": "lqCAWpiCpVp8",
        "outputId": "9f12dc6d-6f86-48d8-d131-aa980d923e42"
      },
      "outputs": [
        {
          "data": {
            "text/plain": [
              "(29, 10000)"
            ]
          },
          "execution_count": null,
          "metadata": {},
          "output_type": "execute_result"
        }
      ],
      "source": [
        "tfidfvals.shape\n",
        "# Shows the number of shows by 10,000 possible features."
      ]
    },
    {
      "cell_type": "markdown",
      "metadata": {
        "id": "lRFjrTW993XX"
      },
      "source": [
        "The above code combines all of the questions from each show into one cell per year. These cells were treated as the documents and each show formed a corpus. The tf-idf values were then calculated."
      ]
    },
    {
      "cell_type": "code",
      "execution_count": null,
      "metadata": {
        "colab": {
          "background_save": true,
          "base_uri": "https://localhost:8080/"
        },
        "id": "fxYnz_mKuavA",
        "outputId": "bcc102c6-13c4-4d0e-db38-29ad3a098e8f"
      },
      "outputs": [
        {
          "name": "stdout",
          "output_type": "stream",
          "text": [
            "Year:  1984\n",
            "spiders\n",
            "destination\n",
            "reflection\n",
            "newman\n",
            "mode\n",
            "\n",
            "\n",
            "Year:  1985\n",
            "“\n",
            "”\n",
            "’\n",
            "sponge\n",
            "gum\n",
            "\n",
            "\n",
            "Year:  1986\n",
            "’\n",
            "”\n",
            "“\n",
            "tho\n",
            "besides\n",
            "\n",
            "\n",
            "Year:  1987\n",
            "snail\n",
            "tho\n",
            "spiders\n",
            "dumb\n",
            "bahamas\n",
            "\n",
            "\n",
            "Year:  1988\n",
            "ha\n",
            "tho\n",
            "postal\n",
            "plates\n",
            "scholarship\n",
            "\n",
            "\n",
            "Year:  1989\n",
            "”\n",
            "“\n",
            "1989\n",
            "1st\n",
            "anywhere\n",
            "\n",
            "\n",
            "Year:  1990\n",
            "1989\n",
            "ft.\n",
            "gov't\n",
            "1st\n",
            "nat'l\n",
            "\n",
            "\n",
            "Year:  1991\n",
            "’\n",
            "“\n",
            "”\n",
            "quayle\n",
            "1990\n",
            "\n",
            "\n",
            "Year:  1992\n",
            "1991\n",
            "iroquois\n",
            "1992\n",
            "haakon\n",
            "brussels\n",
            "\n",
            "\n",
            "Year:  1993\n",
            "’\n",
            "“\n",
            "”\n",
            "1993\n",
            "ringo\n",
            "\n",
            "\n",
            "Year:  1994\n",
            "”\n",
            "“\n",
            "1994\n",
            "fi\n",
            "mural\n",
            "\n",
            "\n",
            "Year:  1995\n",
            "1995\n",
            "1994\n",
            "half-brother\n",
            "cleveland\n",
            "goya\n",
            "\n",
            "\n",
            "Year:  1996\n",
            "1995\n",
            "1996\n",
            "1994\n",
            "1993\n",
            "marcia\n",
            "\n",
            "\n",
            "Year:  1997\n",
            "1996\n",
            "1997\n",
            "1995\n",
            "1994\n",
            "1993\n",
            "\n",
            "\n",
            "Year:  1998\n",
            "1997\n",
            "1998\n",
            "hi\n",
            "1996\n",
            "1995\n",
            "\n",
            "\n",
            "Year:  1999\n",
            "1998\n",
            "1999\n",
            "hi\n",
            "1997\n",
            "seen\n",
            "\n",
            "\n",
            "Year:  2000\n",
            "1999\n",
            "hi\n",
            "2000\n",
            "1998\n",
            "seen\n",
            "\n",
            "\n",
            "Year:  2001\n",
            "2000\n",
            "1999\n",
            "2001\n",
            "hi\n",
            "seen\n",
            "\n",
            "\n",
            "Year:  2002\n",
            "2002\n",
            "2001\n",
            "cheryl\n",
            "clue\n",
            "sofia\n",
            "\n",
            "\n",
            "Year:  2003\n",
            "2002\n",
            "clue\n",
            "cheryl\n",
            "sofia\n",
            "crew\n",
            "\n",
            "\n",
            "Year:  2004\n",
            "2003\n",
            "2004\n",
            "’\n",
            "2002\n",
            "cheryl\n",
            "\n",
            "\n",
            "Year:  2005\n",
            "2004\n",
            "2005\n",
            "2003\n",
            "2002\n",
            "___\n",
            "\n",
            "\n",
            "Year:  2006\n",
            "2006\n",
            "2005\n",
            "___\n",
            "2004\n",
            "2003\n",
            "\n",
            "\n",
            "Year:  2007\n",
            "2006\n",
            "2007\n",
            "2005\n",
            "2004\n",
            "2002\n",
            "\n",
            "\n",
            "Year:  2008\n",
            "2008\n",
            "2007\n",
            "2006\n",
            "2005\n",
            "2004\n",
            "\n",
            "\n",
            "Year:  2009\n",
            "2009\n",
            "2008\n",
            "____\n",
            "2006\n",
            "2007\n",
            "\n",
            "\n",
            "Year:  2010\n",
            "2009\n",
            "____\n",
            "2010\n",
            "2008\n",
            "2006\n",
            "\n",
            "\n",
            "Year:  2011\n",
            "2011\n",
            "2010\n",
            "____\n",
            "2009\n",
            "___\n",
            "\n",
            "\n",
            "Year:  2012\n",
            "2011\n",
            "2010\n",
            "____\n",
            "2009\n",
            "2008\n",
            "\n",
            "\n"
          ]
        }
      ],
      "source": [
        "for i in range(len(corpus2)):\n",
        "    idx = np.argsort(tfidfvals[i])\n",
        "    idx = idx[::-1]\n",
        "\n",
        "    print(\"Year: \", 1984+i)\n",
        "    for j in idx[0:5]:\n",
        "        print(tokens[j])\n",
        "    print(\"\\n\")"
      ]
    },
    {
      "cell_type": "markdown",
      "metadata": {
        "id": "yAjr_Vdovlnl"
      },
      "source": [
        "This shows the five most important terms which appeared in quesitons for each year. Interestingly, year values, eg, 2000, appear to be quite important, especially for the most recent show years."
      ]
    },
    {
      "cell_type": "markdown",
      "metadata": {
        "id": "5o8GGfYk3q-2"
      },
      "source": [
        "#### TF-IDF On answers grouped by year of air date"
      ]
    },
    {
      "cell_type": "code",
      "execution_count": null,
      "metadata": {
        "id": "9eJ8QSEuv4Gk"
      },
      "outputs": [],
      "source": [
        "# Performing TF-IDF on the answers\n",
        "jeopardy['Answer'] = jeopardy['Answer'].astype('string')\n",
        "(jeopardy.dropna(inplace = True))\n",
        "yr_ans_group = jeopardy.groupby(jeopardy['Air.Date'].dt.year)['Answer'].apply(' '.join).reset_index()"
      ]
    },
    {
      "cell_type": "code",
      "execution_count": null,
      "metadata": {
        "colab": {
          "base_uri": "https://localhost:8080/",
          "height": 143
        },
        "id": "jEh2triwwdhn",
        "outputId": "f78005f9-271d-4c93-87d7-b944bfb56e04"
      },
      "outputs": [
        {
          "data": {
            "text/html": [
              "\n",
              "  <div id=\"df-fb89e199-b93c-4b98-838c-bf4dc1b73eb5\">\n",
              "    <div class=\"colab-df-container\">\n",
              "      <div>\n",
              "<style scoped>\n",
              "    .dataframe tbody tr th:only-of-type {\n",
              "        vertical-align: middle;\n",
              "    }\n",
              "\n",
              "    .dataframe tbody tr th {\n",
              "        vertical-align: top;\n",
              "    }\n",
              "\n",
              "    .dataframe thead th {\n",
              "        text-align: right;\n",
              "    }\n",
              "</style>\n",
              "<table border=\"1\" class=\"dataframe\">\n",
              "  <thead>\n",
              "    <tr style=\"text-align: right;\">\n",
              "      <th></th>\n",
              "      <th>Air.Date</th>\n",
              "      <th>Answer</th>\n",
              "    </tr>\n",
              "  </thead>\n",
              "  <tbody>\n",
              "    <tr>\n",
              "      <th>0</th>\n",
              "      <td>1984</td>\n",
              "      <td>the Statue of Liberty one million dollars the ...</td>\n",
              "    </tr>\n",
              "    <tr>\n",
              "      <th>1</th>\n",
              "      <td>1985</td>\n",
              "      <td>the Elbe aftermath Fenway Park pearls a CAT sc...</td>\n",
              "    </tr>\n",
              "    <tr>\n",
              "      <th>2</th>\n",
              "      <td>1986</td>\n",
              "      <td>Brazil The Bad Seed She Stoops to Conquer Nitr...</td>\n",
              "    </tr>\n",
              "  </tbody>\n",
              "</table>\n",
              "</div>\n",
              "      <button class=\"colab-df-convert\" onclick=\"convertToInteractive('df-fb89e199-b93c-4b98-838c-bf4dc1b73eb5')\"\n",
              "              title=\"Convert this dataframe to an interactive table.\"\n",
              "              style=\"display:none;\">\n",
              "        \n",
              "  <svg xmlns=\"http://www.w3.org/2000/svg\" height=\"24px\"viewBox=\"0 0 24 24\"\n",
              "       width=\"24px\">\n",
              "    <path d=\"M0 0h24v24H0V0z\" fill=\"none\"/>\n",
              "    <path d=\"M18.56 5.44l.94 2.06.94-2.06 2.06-.94-2.06-.94-.94-2.06-.94 2.06-2.06.94zm-11 1L8.5 8.5l.94-2.06 2.06-.94-2.06-.94L8.5 2.5l-.94 2.06-2.06.94zm10 10l.94 2.06.94-2.06 2.06-.94-2.06-.94-.94-2.06-.94 2.06-2.06.94z\"/><path d=\"M17.41 7.96l-1.37-1.37c-.4-.4-.92-.59-1.43-.59-.52 0-1.04.2-1.43.59L10.3 9.45l-7.72 7.72c-.78.78-.78 2.05 0 2.83L4 21.41c.39.39.9.59 1.41.59.51 0 1.02-.2 1.41-.59l7.78-7.78 2.81-2.81c.8-.78.8-2.07 0-2.86zM5.41 20L4 18.59l7.72-7.72 1.47 1.35L5.41 20z\"/>\n",
              "  </svg>\n",
              "      </button>\n",
              "      \n",
              "  <style>\n",
              "    .colab-df-container {\n",
              "      display:flex;\n",
              "      flex-wrap:wrap;\n",
              "      gap: 12px;\n",
              "    }\n",
              "\n",
              "    .colab-df-convert {\n",
              "      background-color: #E8F0FE;\n",
              "      border: none;\n",
              "      border-radius: 50%;\n",
              "      cursor: pointer;\n",
              "      display: none;\n",
              "      fill: #1967D2;\n",
              "      height: 32px;\n",
              "      padding: 0 0 0 0;\n",
              "      width: 32px;\n",
              "    }\n",
              "\n",
              "    .colab-df-convert:hover {\n",
              "      background-color: #E2EBFA;\n",
              "      box-shadow: 0px 1px 2px rgba(60, 64, 67, 0.3), 0px 1px 3px 1px rgba(60, 64, 67, 0.15);\n",
              "      fill: #174EA6;\n",
              "    }\n",
              "\n",
              "    [theme=dark] .colab-df-convert {\n",
              "      background-color: #3B4455;\n",
              "      fill: #D2E3FC;\n",
              "    }\n",
              "\n",
              "    [theme=dark] .colab-df-convert:hover {\n",
              "      background-color: #434B5C;\n",
              "      box-shadow: 0px 1px 3px 1px rgba(0, 0, 0, 0.15);\n",
              "      filter: drop-shadow(0px 1px 2px rgba(0, 0, 0, 0.3));\n",
              "      fill: #FFFFFF;\n",
              "    }\n",
              "  </style>\n",
              "\n",
              "      <script>\n",
              "        const buttonEl =\n",
              "          document.querySelector('#df-fb89e199-b93c-4b98-838c-bf4dc1b73eb5 button.colab-df-convert');\n",
              "        buttonEl.style.display =\n",
              "          google.colab.kernel.accessAllowed ? 'block' : 'none';\n",
              "\n",
              "        async function convertToInteractive(key) {\n",
              "          const element = document.querySelector('#df-fb89e199-b93c-4b98-838c-bf4dc1b73eb5');\n",
              "          const dataTable =\n",
              "            await google.colab.kernel.invokeFunction('convertToInteractive',\n",
              "                                                     [key], {});\n",
              "          if (!dataTable) return;\n",
              "\n",
              "          const docLinkHtml = 'Like what you see? Visit the ' +\n",
              "            '<a target=\"_blank\" href=https://colab.research.google.com/notebooks/data_table.ipynb>data table notebook</a>'\n",
              "            + ' to learn more about interactive tables.';\n",
              "          element.innerHTML = '';\n",
              "          dataTable['output_type'] = 'display_data';\n",
              "          await google.colab.output.renderOutput(dataTable, element);\n",
              "          const docLink = document.createElement('div');\n",
              "          docLink.innerHTML = docLinkHtml;\n",
              "          element.appendChild(docLink);\n",
              "        }\n",
              "      </script>\n",
              "    </div>\n",
              "  </div>\n",
              "  "
            ],
            "text/plain": [
              "   Air.Date                                             Answer\n",
              "0      1984  the Statue of Liberty one million dollars the ...\n",
              "1      1985  the Elbe aftermath Fenway Park pearls a CAT sc...\n",
              "2      1986  Brazil The Bad Seed She Stoops to Conquer Nitr..."
            ]
          },
          "execution_count": 72,
          "metadata": {},
          "output_type": "execute_result"
        }
      ],
      "source": [
        "yr_ans_group[0:3]"
      ]
    },
    {
      "cell_type": "code",
      "execution_count": null,
      "metadata": {
        "id": "UhVeHtRcyiwo"
      },
      "outputs": [],
      "source": [
        "corpus3 = yr_ans_group['Answer'].tolist()"
      ]
    },
    {
      "cell_type": "code",
      "execution_count": null,
      "metadata": {
        "colab": {
          "background_save": true,
          "base_uri": "https://localhost:8080/"
        },
        "id": "qd8uRfy-ytsy",
        "outputId": "ffc89f48-ba1c-48c6-898c-61fc8dd58787"
      },
      "outputs": [
        {
          "name": "stderr",
          "output_type": "stream",
          "text": [
            "/usr/local/lib/python3.7/dist-packages/sklearn/feature_extraction/text.py:401: UserWarning: Your stop_words may be inconsistent with your preprocessing. Tokenizing the stop words generated tokens [\"'d\", \"'ll\", \"'re\", \"'ve\", 'could', 'might', 'must', \"n't\", 'need', 'sha', 'wo', 'would'] not in stop_words.\n",
            "  % sorted(inconsistent)\n",
            "/usr/local/lib/python3.7/dist-packages/sklearn/utils/deprecation.py:87: FutureWarning: Function get_feature_names is deprecated; get_feature_names is deprecated in 1.0 and will be removed in 1.2. Please use get_feature_names_out instead.\n",
            "  warnings.warn(msg, category=FutureWarning)\n"
          ]
        }
      ],
      "source": [
        "tokens2, tfidfvals2 = tfidf_vectorizer(corpus3)"
      ]
    },
    {
      "cell_type": "code",
      "execution_count": null,
      "metadata": {
        "colab": {
          "background_save": true
        },
        "id": "wMsW3LUcy3Ut"
      },
      "outputs": [],
      "source": [
        "idx_to_tokens2 = {}\n",
        "tokens_to_idx2 = {}\n",
        "\n",
        "for i in range(len(tokens2)):\n",
        "  token = tokens2[i]\n",
        "  tokens_to_idx2[token] = i\n",
        "  idx_to_tokens2[i] = token\n",
        "\n"
      ]
    },
    {
      "cell_type": "code",
      "execution_count": null,
      "metadata": {
        "colab": {
          "background_save": true,
          "base_uri": "https://localhost:8080/"
        },
        "id": "4iinN1EQzM2W",
        "outputId": "30ad6c69-b1c6-4298-bb28-70fb7b5f5555"
      },
      "outputs": [
        {
          "data": {
            "text/plain": [
              "(29, 10000)"
            ]
          },
          "execution_count": null,
          "metadata": {},
          "output_type": "execute_result"
        }
      ],
      "source": [
        "tfidfvals2.shape\n"
      ]
    },
    {
      "cell_type": "code",
      "execution_count": null,
      "metadata": {
        "colab": {
          "background_save": true,
          "base_uri": "https://localhost:8080/"
        },
        "id": "WLO4KecW3DRi",
        "outputId": "527ae932-79fe-4a32-d33d-d7c28d66c2e7"
      },
      "outputs": [
        {
          "name": "stdout",
          "output_type": "stream",
          "text": [
            "Year:  1984\n",
            "welk\n",
            "pits\n",
            "360\n",
            "piece\n",
            "confederate\n",
            "\n",
            "\n",
            "Year:  1985\n",
            "election\n",
            "chewing\n",
            "salisbury\n",
            "grow\n",
            "forward\n",
            "\n",
            "\n",
            "Year:  1986\n",
            "’\n",
            "baa\n",
            "crying\n",
            "u.s.s.r.\n",
            "glad\n",
            "\n",
            "\n",
            "Year:  1987\n",
            "bois\n",
            "dyke\n",
            "bye\n",
            "'d\n",
            "orient\n",
            "\n",
            "\n",
            "Year:  1988\n",
            "hurry\n",
            "action\n",
            "amanda\n",
            "waters\n",
            "slow\n",
            "\n",
            "\n",
            "Year:  1989\n",
            "terriers\n",
            "flicka\n",
            "diddle\n",
            "zane\n",
            "aurora\n",
            "\n",
            "\n",
            "Year:  1990\n",
            "cortez\n",
            "boo\n",
            "something\n",
            "op\n",
            "rev\n",
            "\n",
            "\n",
            "Year:  1991\n",
            "hostess\n",
            "goody\n",
            "elias\n",
            "leaning\n",
            "mussels\n",
            "\n",
            "\n",
            "Year:  1992\n",
            "romanov\n",
            "demille\n",
            "fay\n",
            "alimony\n",
            "tenzing\n",
            "\n",
            "\n",
            "Year:  1993\n",
            "damien\n",
            "lamentations\n",
            "mcpherson\n",
            "semple\n",
            "aimee\n",
            "\n",
            "\n",
            "Year:  1994\n",
            "commodore\n",
            "juneau\n",
            "gift\n",
            "strindberg\n",
            "bastille\n",
            "\n",
            "\n",
            "Year:  1995\n",
            "retired\n",
            "antwerp\n",
            "fundy\n",
            "straits\n",
            "muskie\n",
            "\n",
            "\n",
            "Year:  1996\n",
            "clinic\n",
            "zsa\n",
            "mt\n",
            "guards\n",
            "gainsborough\n",
            "\n",
            "\n",
            "Year:  1997\n",
            "krakow\n",
            "loose\n",
            "fyodor\n",
            "edouard\n",
            "igor\n",
            "\n",
            "\n",
            "Year:  1998\n",
            "none\n",
            "edouard\n",
            "tracks\n",
            "midler\n",
            "p.m.\n",
            "\n",
            "\n",
            "Year:  1999\n",
            "dawson\n",
            "every\n",
            "flanagan\n",
            "3rd\n",
            "things\n",
            "\n",
            "\n",
            "Year:  2000\n",
            "/or\n",
            "every\n",
            "myers\n",
            "charon\n",
            "vanessa\n",
            "\n",
            "\n",
            "Year:  2001\n",
            "racing\n",
            "/or\n",
            "hell\n",
            "vegetable\n",
            "d.\n",
            "\n",
            "\n",
            "Year:  2002\n",
            "seventh\n",
            "blind\n",
            "spiral\n",
            "measure\n",
            "kramer\n",
            "\n",
            "\n",
            "Year:  2003\n",
            "bora\n",
            "final\n",
            "si\n",
            "action\n",
            "net\n",
            "\n",
            "\n",
            "Year:  2004\n",
            "clinton\n",
            "homeland\n",
            "olmecs\n",
            "visigoths\n",
            "smile\n",
            "\n",
            "\n",
            "Year:  2005\n",
            "accepted\n",
            "adjective\n",
            "rib\n",
            "quarterback\n",
            "andre\n",
            "\n",
            "\n",
            "Year:  2006\n",
            "accepted\n",
            "frist\n",
            "vanities\n",
            "darth\n",
            "piña\n",
            "\n",
            "\n",
            "Year:  2007\n",
            "century\n",
            "mammal\n",
            "anatomy\n",
            "v.\n",
            "joaquin\n",
            "\n",
            "\n",
            "Year:  2008\n",
            "beckham\n",
            "d'urbervilles\n",
            "kosovo\n",
            "snowy\n",
            "earnhardt\n",
            "\n",
            "\n",
            "Year:  2009\n",
            "stupid\n",
            "trio\n",
            "pago\n",
            "google\n",
            "palin\n",
            "\n",
            "\n",
            "Year:  2010\n",
            "anagram\n",
            "obama\n",
            "gaga\n",
            "tora\n",
            "prada\n",
            "\n",
            "\n",
            "Year:  2011\n",
            "obama\n",
            "barack\n",
            "basque\n",
            "lovers\n",
            "yada\n",
            "\n",
            "\n",
            "Year:  2012\n",
            "slow\n",
            "shift\n",
            "pun\n",
            "pants\n",
            "chickens\n",
            "\n",
            "\n"
          ]
        }
      ],
      "source": [
        "for i in range(len(corpus3)):\n",
        "    idx = np.argsort(tfidfvals2[i])\n",
        "    idx = idx[::-1]\n",
        "\n",
        "    print(\"Year: \", 1984+i)\n",
        "    for j in idx[0:5]:\n",
        "      print(tokens2[j])\n",
        "    print(\"\\n\")"
      ]
    },
    {
      "cell_type": "markdown",
      "metadata": {
        "id": "l99S5m6gyH4B"
      },
      "source": [
        "#### Connection between the common answers and their categories"
      ]
    },
    {
      "cell_type": "code",
      "execution_count": null,
      "metadata": {
        "colab": {
          "background_save": true,
          "base_uri": "https://localhost:8080/"
        },
        "id": "88DhiJTdt6gH",
        "outputId": "727d1f3d-3cc8-4ad7-d17b-978ed376905b"
      },
      "outputs": [
        {
          "data": {
            "text/plain": [
              "China                206\n",
              "Australia            204\n",
              "Japan                185\n",
              "France               185\n",
              "Chicago              182\n",
              "California           178\n",
              "India                174\n",
              "Spain                167\n",
              "Canada               164\n",
              "Alaska               156\n",
              "Mexico               154\n",
              "Italy                153\n",
              "Hawaii               149\n",
              "Texas                145\n",
              "Paris                143\n",
              "Russia               137\n",
              "Germany              137\n",
              "Florida              136\n",
              "South Africa         134\n",
              "Ireland              132\n",
              "Sweden               127\n",
              "London               126\n",
              "Brazil               125\n",
              "New Orleans          122\n",
              "Greece               121\n",
              "Egypt                116\n",
              "George Washington    115\n",
              "Boston               114\n",
              "Georgia              112\n",
              "Ronald Reagan        112\n",
              "New York             112\n",
              "Thomas Jefferson     111\n",
              "Abraham Lincoln      110\n",
              "San Francisco        108\n",
              "Switzerland          106\n",
              "Norway               105\n",
              "New Zealand          104\n",
              "Philadelphia         104\n",
              "Virginia             104\n",
              "Denmark              103\n",
              "Napoleon             100\n",
              "Cuba                  99\n",
              "Massachusetts         98\n",
              "Scotland              98\n",
              "Louisiana             97\n",
              "Rome                  96\n",
              "Maine                 93\n",
              "Richard Nixon         92\n",
              "Cleopatra             91\n",
              "Antarctica            90\n",
              "Name: Answer, dtype: Int64"
            ]
          },
          "execution_count": null,
          "metadata": {},
          "output_type": "execute_result"
        }
      ],
      "source": [
        "\n",
        "top50answer = jeopardy['Answer'].value_counts()[0:50]\n",
        "top50answer\n"
      ]
    },
    {
      "cell_type": "code",
      "execution_count": null,
      "metadata": {
        "colab": {
          "background_save": true,
          "base_uri": "https://localhost:8080/",
          "height": 424
        },
        "id": "gsstNJQRuDLE",
        "outputId": "dc80bcd3-454d-421f-c0bb-20daac17c5e8"
      },
      "outputs": [
        {
          "data": {
            "text/html": [
              "\n",
              "  <div id=\"df-6aae911b-3f9e-4604-8883-6d6334f03404\">\n",
              "    <div class=\"colab-df-container\">\n",
              "      <div>\n",
              "<style scoped>\n",
              "    .dataframe tbody tr th:only-of-type {\n",
              "        vertical-align: middle;\n",
              "    }\n",
              "\n",
              "    .dataframe tbody tr th {\n",
              "        vertical-align: top;\n",
              "    }\n",
              "\n",
              "    .dataframe thead th {\n",
              "        text-align: right;\n",
              "    }\n",
              "</style>\n",
              "<table border=\"1\" class=\"dataframe\">\n",
              "  <thead>\n",
              "    <tr style=\"text-align: right;\">\n",
              "      <th></th>\n",
              "      <th>Show.Number</th>\n",
              "      <th>Air.Date</th>\n",
              "      <th>Round</th>\n",
              "      <th>Category</th>\n",
              "      <th>Value</th>\n",
              "      <th>Question</th>\n",
              "      <th>Answer</th>\n",
              "    </tr>\n",
              "  </thead>\n",
              "  <tbody>\n",
              "    <tr>\n",
              "      <th>180475</th>\n",
              "      <td>13</td>\n",
              "      <td>1984-09-26</td>\n",
              "      <td>Double Jeopardy!</td>\n",
              "      <td>INVENTIONS</td>\n",
              "      <td>$400</td>\n",
              "      <td>Country credited with invention of pasta, porc...</td>\n",
              "      <td>China</td>\n",
              "    </tr>\n",
              "    <tr>\n",
              "      <th>188948</th>\n",
              "      <td>475</td>\n",
              "      <td>1986-10-03</td>\n",
              "      <td>Double Jeopardy!</td>\n",
              "      <td>HISTORY</td>\n",
              "      <td>$1,000</td>\n",
              "      <td>America's \"Open Door Policy\" of the late 19th ...</td>\n",
              "      <td>China</td>\n",
              "    </tr>\n",
              "    <tr>\n",
              "      <th>186498</th>\n",
              "      <td>499</td>\n",
              "      <td>1986-11-06</td>\n",
              "      <td>Jeopardy!</td>\n",
              "      <td>AGRICULTURE</td>\n",
              "      <td>$300</td>\n",
              "      <td>Asian country second only to U.S. in corn prod...</td>\n",
              "      <td>China</td>\n",
              "    </tr>\n",
              "    <tr>\n",
              "      <th>139494</th>\n",
              "      <td>621</td>\n",
              "      <td>1987-04-27</td>\n",
              "      <td>Double Jeopardy!</td>\n",
              "      <td>NEWSPAPERS</td>\n",
              "      <td>$400</td>\n",
              "      <td>People's Almanac describes the People's Daily ...</td>\n",
              "      <td>China</td>\n",
              "    </tr>\n",
              "    <tr>\n",
              "      <th>124856</th>\n",
              "      <td>758</td>\n",
              "      <td>1987-12-09</td>\n",
              "      <td>Jeopardy!</td>\n",
              "      <td>GEOGRAPHY</td>\n",
              "      <td>$300</td>\n",
              "      <td>The northern part of this country was once cal...</td>\n",
              "      <td>China</td>\n",
              "    </tr>\n",
              "    <tr>\n",
              "      <th>...</th>\n",
              "      <td>...</td>\n",
              "      <td>...</td>\n",
              "      <td>...</td>\n",
              "      <td>...</td>\n",
              "      <td>...</td>\n",
              "      <td>...</td>\n",
              "      <td>...</td>\n",
              "    </tr>\n",
              "    <tr>\n",
              "      <th>26303</th>\n",
              "      <td>6172</td>\n",
              "      <td>2011-06-14</td>\n",
              "      <td>Jeopardy!</td>\n",
              "      <td>THE BALLET OF THE LAND</td>\n",
              "      <td>$800</td>\n",
              "      <td>The Central Ballet of this country has created...</td>\n",
              "      <td>China</td>\n",
              "    </tr>\n",
              "    <tr>\n",
              "      <th>45868</th>\n",
              "      <td>6186</td>\n",
              "      <td>2011-07-04</td>\n",
              "      <td>Double Jeopardy!</td>\n",
              "      <td>REALLY BIG COUNTRIES</td>\n",
              "      <td>$800</td>\n",
              "      <td>Laos, Nepal &amp; North Korea are among the 14 nat...</td>\n",
              "      <td>China</td>\n",
              "    </tr>\n",
              "    <tr>\n",
              "      <th>85028</th>\n",
              "      <td>6236</td>\n",
              "      <td>2011-10-31</td>\n",
              "      <td>Jeopardy!</td>\n",
              "      <td>RICH COUNTRY, POOR COUNTRY</td>\n",
              "      <td>$400</td>\n",
              "      <td>Among individual nations, it was the world's b...</td>\n",
              "      <td>China</td>\n",
              "    </tr>\n",
              "    <tr>\n",
              "      <th>53775</th>\n",
              "      <td>6264</td>\n",
              "      <td>2011-12-08</td>\n",
              "      <td>Jeopardy!</td>\n",
              "      <td>NON-ROMAN EMPERORS</td>\n",
              "      <td>$200</td>\n",
              "      <td>In the 7th century Sui Gong Di succeeded Sui Y...</td>\n",
              "      <td>China</td>\n",
              "    </tr>\n",
              "    <tr>\n",
              "      <th>48306</th>\n",
              "      <td>6284</td>\n",
              "      <td>2012-01-05</td>\n",
              "      <td>Jeopardy!</td>\n",
              "      <td>ARMY STRONG</td>\n",
              "      <td>$400</td>\n",
              "      <td>Its PLA has an active strength of about 1.25 m...</td>\n",
              "      <td>China</td>\n",
              "    </tr>\n",
              "  </tbody>\n",
              "</table>\n",
              "<p>206 rows × 7 columns</p>\n",
              "</div>\n",
              "      <button class=\"colab-df-convert\" onclick=\"convertToInteractive('df-6aae911b-3f9e-4604-8883-6d6334f03404')\"\n",
              "              title=\"Convert this dataframe to an interactive table.\"\n",
              "              style=\"display:none;\">\n",
              "        \n",
              "  <svg xmlns=\"http://www.w3.org/2000/svg\" height=\"24px\"viewBox=\"0 0 24 24\"\n",
              "       width=\"24px\">\n",
              "    <path d=\"M0 0h24v24H0V0z\" fill=\"none\"/>\n",
              "    <path d=\"M18.56 5.44l.94 2.06.94-2.06 2.06-.94-2.06-.94-.94-2.06-.94 2.06-2.06.94zm-11 1L8.5 8.5l.94-2.06 2.06-.94-2.06-.94L8.5 2.5l-.94 2.06-2.06.94zm10 10l.94 2.06.94-2.06 2.06-.94-2.06-.94-.94-2.06-.94 2.06-2.06.94z\"/><path d=\"M17.41 7.96l-1.37-1.37c-.4-.4-.92-.59-1.43-.59-.52 0-1.04.2-1.43.59L10.3 9.45l-7.72 7.72c-.78.78-.78 2.05 0 2.83L4 21.41c.39.39.9.59 1.41.59.51 0 1.02-.2 1.41-.59l7.78-7.78 2.81-2.81c.8-.78.8-2.07 0-2.86zM5.41 20L4 18.59l7.72-7.72 1.47 1.35L5.41 20z\"/>\n",
              "  </svg>\n",
              "      </button>\n",
              "      \n",
              "  <style>\n",
              "    .colab-df-container {\n",
              "      display:flex;\n",
              "      flex-wrap:wrap;\n",
              "      gap: 12px;\n",
              "    }\n",
              "\n",
              "    .colab-df-convert {\n",
              "      background-color: #E8F0FE;\n",
              "      border: none;\n",
              "      border-radius: 50%;\n",
              "      cursor: pointer;\n",
              "      display: none;\n",
              "      fill: #1967D2;\n",
              "      height: 32px;\n",
              "      padding: 0 0 0 0;\n",
              "      width: 32px;\n",
              "    }\n",
              "\n",
              "    .colab-df-convert:hover {\n",
              "      background-color: #E2EBFA;\n",
              "      box-shadow: 0px 1px 2px rgba(60, 64, 67, 0.3), 0px 1px 3px 1px rgba(60, 64, 67, 0.15);\n",
              "      fill: #174EA6;\n",
              "    }\n",
              "\n",
              "    [theme=dark] .colab-df-convert {\n",
              "      background-color: #3B4455;\n",
              "      fill: #D2E3FC;\n",
              "    }\n",
              "\n",
              "    [theme=dark] .colab-df-convert:hover {\n",
              "      background-color: #434B5C;\n",
              "      box-shadow: 0px 1px 3px 1px rgba(0, 0, 0, 0.15);\n",
              "      filter: drop-shadow(0px 1px 2px rgba(0, 0, 0, 0.3));\n",
              "      fill: #FFFFFF;\n",
              "    }\n",
              "  </style>\n",
              "\n",
              "      <script>\n",
              "        const buttonEl =\n",
              "          document.querySelector('#df-6aae911b-3f9e-4604-8883-6d6334f03404 button.colab-df-convert');\n",
              "        buttonEl.style.display =\n",
              "          google.colab.kernel.accessAllowed ? 'block' : 'none';\n",
              "\n",
              "        async function convertToInteractive(key) {\n",
              "          const element = document.querySelector('#df-6aae911b-3f9e-4604-8883-6d6334f03404');\n",
              "          const dataTable =\n",
              "            await google.colab.kernel.invokeFunction('convertToInteractive',\n",
              "                                                     [key], {});\n",
              "          if (!dataTable) return;\n",
              "\n",
              "          const docLinkHtml = 'Like what you see? Visit the ' +\n",
              "            '<a target=\"_blank\" href=https://colab.research.google.com/notebooks/data_table.ipynb>data table notebook</a>'\n",
              "            + ' to learn more about interactive tables.';\n",
              "          element.innerHTML = '';\n",
              "          dataTable['output_type'] = 'display_data';\n",
              "          await google.colab.output.renderOutput(dataTable, element);\n",
              "          const docLink = document.createElement('div');\n",
              "          docLink.innerHTML = docLinkHtml;\n",
              "          element.appendChild(docLink);\n",
              "        }\n",
              "      </script>\n",
              "    </div>\n",
              "  </div>\n",
              "  "
            ],
            "text/plain": [
              "        Show.Number   Air.Date             Round                    Category  \\\n",
              "180475           13 1984-09-26  Double Jeopardy!                  INVENTIONS   \n",
              "188948          475 1986-10-03  Double Jeopardy!                     HISTORY   \n",
              "186498          499 1986-11-06         Jeopardy!                 AGRICULTURE   \n",
              "139494          621 1987-04-27  Double Jeopardy!                  NEWSPAPERS   \n",
              "124856          758 1987-12-09         Jeopardy!                   GEOGRAPHY   \n",
              "...             ...        ...               ...                         ...   \n",
              "26303          6172 2011-06-14         Jeopardy!      THE BALLET OF THE LAND   \n",
              "45868          6186 2011-07-04  Double Jeopardy!        REALLY BIG COUNTRIES   \n",
              "85028          6236 2011-10-31         Jeopardy!  RICH COUNTRY, POOR COUNTRY   \n",
              "53775          6264 2011-12-08         Jeopardy!          NON-ROMAN EMPERORS   \n",
              "48306          6284 2012-01-05         Jeopardy!                 ARMY STRONG   \n",
              "\n",
              "          Value                                           Question Answer  \n",
              "180475    $400   Country credited with invention of pasta, porc...  China  \n",
              "188948  $1,000   America's \"Open Door Policy\" of the late 19th ...  China  \n",
              "186498    $300   Asian country second only to U.S. in corn prod...  China  \n",
              "139494    $400   People's Almanac describes the People's Daily ...  China  \n",
              "124856    $300   The northern part of this country was once cal...  China  \n",
              "...         ...                                                ...    ...  \n",
              "26303     $800   The Central Ballet of this country has created...  China  \n",
              "45868     $800   Laos, Nepal & North Korea are among the 14 nat...  China  \n",
              "85028     $400   Among individual nations, it was the world's b...  China  \n",
              "53775     $200   In the 7th century Sui Gong Di succeeded Sui Y...  China  \n",
              "48306     $400   Its PLA has an active strength of about 1.25 m...  China  \n",
              "\n",
              "[206 rows x 7 columns]"
            ]
          },
          "execution_count": null,
          "metadata": {},
          "output_type": "execute_result"
        }
      ],
      "source": [
        "\n",
        "mask_china = jeopardy['Answer'] == 'China'\n",
        "w_mask_china = jeopardy[mask_china]\n",
        "w_mask_china\n"
      ]
    },
    {
      "cell_type": "code",
      "execution_count": null,
      "metadata": {
        "colab": {
          "background_save": true,
          "base_uri": "https://localhost:8080/"
        },
        "id": "z6q3pS_huDvZ",
        "outputId": "f4c66a40-1cd9-4d9e-dcb9-f53cad414cdc"
      },
      "outputs": [
        {
          "data": {
            "text/plain": [
              "HISTORY                        6\n",
              "WORLD HISTORY                  4\n",
              "SPACE EXPLORATION              2\n",
              "THE NEW YORK TIMES BUSINESS    2\n",
              "#NAME?                         2\n",
              "                              ..\n",
              "X MARKS THE SPOT               1\n",
              "WHEN I WAS YOUR AGE            1\n",
              "YOUTH IN ASIA                  1\n",
              "BIG COUNTRY                    1\n",
              "ARMY STRONG                    1\n",
              "Name: Category, Length: 187, dtype: int64"
            ]
          },
          "execution_count": null,
          "metadata": {},
          "output_type": "execute_result"
        }
      ],
      "source": [
        "high_freq_china = w_mask_china['Category'].value_counts()\n",
        "high_freq_china\n"
      ]
    },
    {
      "cell_type": "code",
      "execution_count": null,
      "metadata": {
        "colab": {
          "background_save": true,
          "base_uri": "https://localhost:8080/"
        },
        "id": "rfGuRnPJuGjB",
        "outputId": "3649bb41-4292-49b7-b587-c184b60c0efa"
      },
      "outputs": [
        {
          "data": {
            "text/plain": [
              "Jeopardy!           115\n",
              "Double Jeopardy!     91\n",
              "Name: Round, dtype: int64"
            ]
          },
          "execution_count": null,
          "metadata": {},
          "output_type": "execute_result"
        }
      ],
      "source": [
        "w_mask_china['Round'].value_counts()\n"
      ]
    },
    {
      "cell_type": "code",
      "execution_count": null,
      "metadata": {
        "colab": {
          "background_save": true,
          "base_uri": "https://localhost:8080/"
        },
        "id": "Bi1bHA0QuHPA",
        "outputId": "79702665-1f97-4425-9ca6-47bda1a02a06"
      },
      "outputs": [
        {
          "data": {
            "text/plain": [
              "SHAKESPEARE                            4\n",
              "\"C\" IN HISTORY                         3\n",
              "SHAKESPEARE'S WOMEN                    2\n",
              "QUEENS                                 2\n",
              "B.C. PEOPLE                            2\n",
              "                                      ..\n",
              "HERSTORY                               1\n",
              "SHAKESPEAREAN DYING WORDS              1\n",
              "EGYPTIAN ARCHAEOLOGY                   1\n",
              "SHAKESPEAREAN ACTORS                   1\n",
              "SHAKESPEARE CHARACTERS' DYING WORDS    1\n",
              "Name: Category, Length: 81, dtype: int64"
            ]
          },
          "execution_count": null,
          "metadata": {},
          "output_type": "execute_result"
        }
      ],
      "source": [
        "high_freq_cleopatra = jeopardy[jeopardy['Answer'] == 'Cleopatra']['Category'].value_counts()\n",
        "high_freq_cleopatra\n"
      ]
    },
    {
      "cell_type": "code",
      "execution_count": null,
      "metadata": {
        "colab": {
          "background_save": true,
          "base_uri": "https://localhost:8080/"
        },
        "id": "VjryFudOuJia",
        "outputId": "1b6a0619-eda7-44e4-d446-8fa3b353cf6d"
      },
      "outputs": [
        {
          "data": {
            "text/plain": [
              "MUSEUMS                    4\n",
              "COLLEGE TOWNS              4\n",
              "COLLEGES & UNIVERSITIES    3\n",
              "U.S. HISTORY               2\n",
              "MOVIE LOCATIONS            2\n",
              "                          ..\n",
              "U.S. CITY SONGS            1\n",
              "U.S. SKYLINE TOURS         1\n",
              "U.S. BUILDINGS             1\n",
              "APRIL MAY...               1\n",
              "MOVIES ON THE MAP          1\n",
              "Name: Category, Length: 166, dtype: int64"
            ]
          },
          "execution_count": null,
          "metadata": {},
          "output_type": "execute_result"
        }
      ],
      "source": [
        "\n",
        "high_freq_chicago = jeopardy[jeopardy['Answer'] == 'Chicago']['Category'].value_counts()\n",
        "high_freq_chicago\n"
      ]
    }
  ],
  "metadata": {
    "colab": {
      "provenance": [],
      "include_colab_link": true
    },
    "kernelspec": {
      "display_name": "Python 3",
      "name": "python3"
    },
    "language_info": {
      "name": "python"
    }
  },
  "nbformat": 4,
  "nbformat_minor": 0
}